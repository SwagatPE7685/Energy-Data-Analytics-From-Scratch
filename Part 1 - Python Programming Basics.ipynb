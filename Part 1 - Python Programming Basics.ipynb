{
 "cells": [
  {
   "cell_type": "markdown",
   "id": "1234a0fe",
   "metadata": {},
   "source": [
    "## 1. Print Statement"
   ]
  },
  {
   "cell_type": "code",
   "execution_count": 1,
   "id": "e561b588",
   "metadata": {
    "scrolled": true
   },
   "outputs": [
    {
     "name": "stdout",
     "output_type": "stream",
     "text": [
      "Let's play\n"
     ]
    }
   ],
   "source": [
    "print(\"Let's play\")"
   ]
  },
  {
   "cell_type": "markdown",
   "id": "54bc6881",
   "metadata": {},
   "source": [
    "- Use of Escape Sequences : \\n \\t: The use of \\ in print statement"
   ]
  },
  {
   "cell_type": "code",
   "execution_count": 6,
   "id": "264bab22",
   "metadata": {},
   "outputs": [
    {
     "name": "stdout",
     "output_type": "stream",
     "text": [
      "Let's Play\n"
     ]
    }
   ],
   "source": [
    "print('Let\\'s Play')"
   ]
  },
  {
   "cell_type": "markdown",
   "id": "df89c280",
   "metadata": {},
   "source": [
    "- Use of escape sequence : End of the line "
   ]
  },
  {
   "cell_type": "code",
   "execution_count": 9,
   "id": "f9ffab53",
   "metadata": {},
   "outputs": [
    {
     "name": "stdout",
     "output_type": "stream",
     "text": [
      "Hello\n",
      "Swagat\n"
     ]
    }
   ],
   "source": [
    " print(\"Hello\\nSwagat\")"
   ]
  },
  {
   "cell_type": "code",
   "execution_count": 11,
   "id": "3303d8b5",
   "metadata": {},
   "outputs": [
    {
     "name": "stdout",
     "output_type": "stream",
     "text": [
      "Name :\t Swagat\n",
      "Age :\t 25y/o\n"
     ]
    }
   ],
   "source": [
    "print(\"Name :\\t Swagat\")\n",
    "print(\"Age :\\t 25y/o\")"
   ]
  },
  {
   "cell_type": "markdown",
   "id": "1579a1da",
   "metadata": {},
   "source": [
    " ## 2. Keywords in Python : it turns into green text"
   ]
  },
  {
   "cell_type": "code",
   "execution_count": 12,
   "id": "03c1f3d6",
   "metadata": {},
   "outputs": [
    {
     "data": {
      "text/plain": [
       "True"
      ]
     },
     "execution_count": 12,
     "metadata": {},
     "output_type": "execute_result"
    }
   ],
   "source": [
    "True"
   ]
  },
  {
   "cell_type": "code",
   "execution_count": 13,
   "id": "2078f2f5",
   "metadata": {},
   "outputs": [
    {
     "data": {
      "text/plain": [
       "False"
      ]
     },
     "execution_count": 13,
     "metadata": {},
     "output_type": "execute_result"
    }
   ],
   "source": [
    "False"
   ]
  },
  {
   "cell_type": "code",
   "execution_count": 15,
   "id": "1957afce",
   "metadata": {},
   "outputs": [
    {
     "name": "stderr",
     "output_type": "stream",
     "text": [
      "<>:1: SyntaxWarning: \"is\" with a literal. Did you mean \"==\"?\n",
      "<>:1: SyntaxWarning: \"is\" with a literal. Did you mean \"==\"?\n",
      "C:\\Users\\user\\AppData\\Local\\Temp\\ipykernel_14180\\1728060598.py:1: SyntaxWarning: \"is\" with a literal. Did you mean \"==\"?\n",
      "  1 is 1\n"
     ]
    },
    {
     "data": {
      "text/plain": [
       "True"
      ]
     },
     "execution_count": 15,
     "metadata": {},
     "output_type": "execute_result"
    }
   ],
   "source": [
    "1 is 1"
   ]
  },
  {
   "cell_type": "code",
   "execution_count": 162,
   "id": "f333c049",
   "metadata": {},
   "outputs": [],
   "source": [
    "#other Keywords\n",
    "# == = + /"
   ]
  },
  {
   "cell_type": "markdown",
   "id": "ce98e897",
   "metadata": {},
   "source": [
    "## 3. basic data types in python : use the type(.....) command"
   ]
  },
  {
   "cell_type": "markdown",
   "id": "c11fb819",
   "metadata": {},
   "source": [
    "1. Strings"
   ]
  },
  {
   "cell_type": "code",
   "execution_count": 163,
   "id": "78f752c0",
   "metadata": {},
   "outputs": [
    {
     "data": {
      "text/plain": [
       "('Hey PE People', 'Hey PE People')"
      ]
     },
     "execution_count": 163,
     "metadata": {},
     "output_type": "execute_result"
    }
   ],
   "source": [
    "'Hey PE People',\"Hey PE People\""
   ]
  },
  {
   "cell_type": "code",
   "execution_count": 19,
   "id": "dc1920ab",
   "metadata": {},
   "outputs": [
    {
     "data": {
      "text/plain": [
       "str"
      ]
     },
     "execution_count": 19,
     "metadata": {},
     "output_type": "execute_result"
    }
   ],
   "source": [
    "type(\"Hey PE People\")"
   ]
  },
  {
   "cell_type": "markdown",
   "id": "51377c0a",
   "metadata": {},
   "source": [
    "2. Numeric data types\n",
    "- int : 5\n",
    "-float : 5.0"
   ]
  },
  {
   "cell_type": "code",
   "execution_count": 20,
   "id": "031fe69b",
   "metadata": {},
   "outputs": [
    {
     "data": {
      "text/plain": [
       "(int, float)"
      ]
     },
     "execution_count": 20,
     "metadata": {},
     "output_type": "execute_result"
    }
   ],
   "source": [
    "type(5), type(5.0)"
   ]
  },
  {
   "cell_type": "markdown",
   "id": "7b91c5f8",
   "metadata": {},
   "source": [
    "- Type casting : Forcing a data type to be converted to other"
   ]
  },
  {
   "cell_type": "code",
   "execution_count": 21,
   "id": "29fbefe1",
   "metadata": {},
   "outputs": [
    {
     "data": {
      "text/plain": [
       "float"
      ]
     },
     "execution_count": 21,
     "metadata": {},
     "output_type": "execute_result"
    }
   ],
   "source": [
    "type(5.23)"
   ]
  },
  {
   "cell_type": "code",
   "execution_count": 22,
   "id": "86e74112",
   "metadata": {},
   "outputs": [
    {
     "data": {
      "text/plain": [
       "5"
      ]
     },
     "execution_count": 22,
     "metadata": {},
     "output_type": "execute_result"
    }
   ],
   "source": [
    "int(5.23)"
   ]
  },
  {
   "cell_type": "code",
   "execution_count": 23,
   "id": "c4138421",
   "metadata": {},
   "outputs": [
    {
     "data": {
      "text/plain": [
       "5"
      ]
     },
     "execution_count": 23,
     "metadata": {},
     "output_type": "execute_result"
    }
   ],
   "source": [
    "round(4.76)"
   ]
  },
  {
   "cell_type": "code",
   "execution_count": 24,
   "id": "5e00db9a",
   "metadata": {},
   "outputs": [
    {
     "data": {
      "text/plain": [
       "4"
      ]
     },
     "execution_count": 24,
     "metadata": {},
     "output_type": "execute_result"
    }
   ],
   "source": [
    "round(4.23)"
   ]
  },
  {
   "cell_type": "markdown",
   "id": "2923c752",
   "metadata": {},
   "source": [
    "3. Boolean Data Type : True or False"
   ]
  },
  {
   "cell_type": "code",
   "execution_count": 25,
   "id": "ffd6b5fb",
   "metadata": {},
   "outputs": [
    {
     "data": {
      "text/plain": [
       "bool"
      ]
     },
     "execution_count": 25,
     "metadata": {},
     "output_type": "execute_result"
    }
   ],
   "source": [
    "type(True)"
   ]
  },
  {
   "cell_type": "code",
   "execution_count": 27,
   "id": "6eeeb59d",
   "metadata": {},
   "outputs": [
    {
     "data": {
      "text/plain": [
       "bool"
      ]
     },
     "execution_count": 27,
     "metadata": {},
     "output_type": "execute_result"
    }
   ],
   "source": [
    "type(False)"
   ]
  },
  {
   "cell_type": "markdown",
   "id": "8894f94d",
   "metadata": {},
   "source": [
    "4. \"None\" Type"
   ]
  },
  {
   "cell_type": "code",
   "execution_count": 28,
   "id": "2bdc762e",
   "metadata": {},
   "outputs": [
    {
     "data": {
      "text/plain": [
       "NoneType"
      ]
     },
     "execution_count": 28,
     "metadata": {},
     "output_type": "execute_result"
    }
   ],
   "source": [
    "type(None)"
   ]
  },
  {
   "cell_type": "markdown",
   "id": "e1d9460d",
   "metadata": {},
   "source": [
    "## 4. Basic Computations : Operators in Python"
   ]
  },
  {
   "cell_type": "markdown",
   "id": "6c75b4cf",
   "metadata": {},
   "source": [
    "1. Sum"
   ]
  },
  {
   "cell_type": "code",
   "execution_count": 29,
   "id": "dde1cdc9",
   "metadata": {},
   "outputs": [
    {
     "data": {
      "text/plain": [
       "8"
      ]
     },
     "execution_count": 29,
     "metadata": {},
     "output_type": "execute_result"
    }
   ],
   "source": [
    "5+3"
   ]
  },
  {
   "cell_type": "code",
   "execution_count": 30,
   "id": "0fbf3c6e",
   "metadata": {},
   "outputs": [
    {
     "data": {
      "text/plain": [
       "8.0"
      ]
     },
     "execution_count": 30,
     "metadata": {},
     "output_type": "execute_result"
    }
   ],
   "source": [
    "5+3.0"
   ]
  },
  {
   "cell_type": "code",
   "execution_count": 31,
   "id": "c8effbae",
   "metadata": {},
   "outputs": [
    {
     "data": {
      "text/plain": [
       "8"
      ]
     },
     "execution_count": 31,
     "metadata": {},
     "output_type": "execute_result"
    }
   ],
   "source": [
    "5+ int(3.0)"
   ]
  },
  {
   "cell_type": "code",
   "execution_count": 32,
   "id": "cfa60274",
   "metadata": {},
   "outputs": [
    {
     "ename": "TypeError",
     "evalue": "unsupported operand type(s) for +: 'int' and 'str'",
     "output_type": "error",
     "traceback": [
      "\u001b[1;31m---------------------------------------------------------------------------\u001b[0m",
      "\u001b[1;31mTypeError\u001b[0m                                 Traceback (most recent call last)",
      "Input \u001b[1;32mIn [32]\u001b[0m, in \u001b[0;36m<cell line: 1>\u001b[1;34m()\u001b[0m\n\u001b[1;32m----> 1\u001b[0m \u001b[38;5;241;43m5\u001b[39;49m\u001b[43m \u001b[49m\u001b[38;5;241;43m+\u001b[39;49m\u001b[43m \u001b[49m\u001b[38;5;124;43m\"\u001b[39;49m\u001b[38;5;124;43mhahahaha\u001b[39;49m\u001b[38;5;124;43m\"\u001b[39;49m\n",
      "\u001b[1;31mTypeError\u001b[0m: unsupported operand type(s) for +: 'int' and 'str'"
     ]
    }
   ],
   "source": [
    "5 + \"hahahaha\""
   ]
  },
  {
   "cell_type": "markdown",
   "id": "9956553c",
   "metadata": {},
   "source": [
    "- python doesnot like int and str together"
   ]
  },
  {
   "cell_type": "code",
   "execution_count": 33,
   "id": "81831b83",
   "metadata": {},
   "outputs": [
    {
     "data": {
      "text/plain": [
       "10.53584024345"
      ]
     },
     "execution_count": 33,
     "metadata": {},
     "output_type": "execute_result"
    }
   ],
   "source": [
    "5.265983256 +5.26985698745"
   ]
  },
  {
   "cell_type": "markdown",
   "id": "c33ee6a5",
   "metadata": {},
   "source": [
    "- \"+\" can concantenate two strings together"
   ]
  },
  {
   "cell_type": "code",
   "execution_count": 36,
   "id": "0694068e",
   "metadata": {},
   "outputs": [
    {
     "data": {
      "text/plain": [
       "'hey Swagat How are you?'"
      ]
     },
     "execution_count": 36,
     "metadata": {},
     "output_type": "execute_result"
    }
   ],
   "source": [
    "\"hey\" + \" \" + \"Swagat How are you?\""
   ]
  },
  {
   "cell_type": "code",
   "execution_count": 38,
   "id": "d6a17f26",
   "metadata": {},
   "outputs": [
    {
     "data": {
      "text/plain": [
       "[1, 2, 3, 4, 5, 6, 7]"
      ]
     },
     "execution_count": 38,
     "metadata": {},
     "output_type": "execute_result"
    }
   ],
   "source": [
    "[1,2,3,4] + [5,6,7]"
   ]
  },
  {
   "cell_type": "markdown",
   "id": "0793eec8",
   "metadata": {},
   "source": [
    "2. Substraction"
   ]
  },
  {
   "cell_type": "code",
   "execution_count": 39,
   "id": "7f90d556",
   "metadata": {},
   "outputs": [
    {
     "data": {
      "text/plain": [
       "(1, 3)"
      ]
     },
     "execution_count": 39,
     "metadata": {},
     "output_type": "execute_result"
    }
   ],
   "source": [
    "4-3, 9-6"
   ]
  },
  {
   "cell_type": "code",
   "execution_count": 40,
   "id": "ad1d476c",
   "metadata": {},
   "outputs": [
    {
     "data": {
      "text/plain": [
       "10.0"
      ]
     },
     "execution_count": 40,
     "metadata": {},
     "output_type": "execute_result"
    }
   ],
   "source": [
    "10."
   ]
  },
  {
   "cell_type": "code",
   "execution_count": 41,
   "id": "797c94e9",
   "metadata": {},
   "outputs": [
    {
     "data": {
      "text/plain": [
       "0.5"
      ]
     },
     "execution_count": 41,
     "metadata": {},
     "output_type": "execute_result"
    }
   ],
   "source": [
    ".5"
   ]
  },
  {
   "cell_type": "code",
   "execution_count": 45,
   "id": "d655ab1d",
   "metadata": {},
   "outputs": [
    {
     "data": {
      "text/plain": [
       "(-29, int)"
      ]
     },
     "execution_count": 45,
     "metadata": {},
     "output_type": "execute_result"
    }
   ],
   "source": [
    "1-30, type(1-30)"
   ]
  },
  {
   "cell_type": "markdown",
   "id": "e4b410e9",
   "metadata": {},
   "source": [
    "3. Division"
   ]
  },
  {
   "cell_type": "code",
   "execution_count": 46,
   "id": "0fbada60",
   "metadata": {},
   "outputs": [
    {
     "data": {
      "text/plain": [
       "50.0"
      ]
     },
     "execution_count": 46,
     "metadata": {},
     "output_type": "execute_result"
    }
   ],
   "source": [
    "100/2"
   ]
  },
  {
   "cell_type": "code",
   "execution_count": 47,
   "id": "60638a61",
   "metadata": {
    "scrolled": true
   },
   "outputs": [
    {
     "data": {
      "text/plain": [
       "50.5"
      ]
     },
     "execution_count": 47,
     "metadata": {},
     "output_type": "execute_result"
    }
   ],
   "source": [
    "101/2"
   ]
  },
  {
   "cell_type": "markdown",
   "id": "2a7fec74",
   "metadata": {},
   "source": [
    "- Floor Division : A//B"
   ]
  },
  {
   "cell_type": "code",
   "execution_count": 48,
   "id": "ace0a778",
   "metadata": {},
   "outputs": [
    {
     "data": {
      "text/plain": [
       "50"
      ]
     },
     "execution_count": 48,
     "metadata": {},
     "output_type": "execute_result"
    }
   ],
   "source": [
    "101//2"
   ]
  },
  {
   "cell_type": "markdown",
   "id": "d598b154",
   "metadata": {},
   "source": [
    "- Module Operator : for reminder : A%B"
   ]
  },
  {
   "cell_type": "code",
   "execution_count": 52,
   "id": "1c27eeea",
   "metadata": {},
   "outputs": [
    {
     "data": {
      "text/plain": [
       "1"
      ]
     },
     "execution_count": 52,
     "metadata": {},
     "output_type": "execute_result"
    }
   ],
   "source": [
    "101%2"
   ]
  },
  {
   "cell_type": "markdown",
   "id": "e22e59ff",
   "metadata": {},
   "source": [
    "4. Multiplication"
   ]
  },
  {
   "cell_type": "code",
   "execution_count": 60,
   "id": "d59dcf54",
   "metadata": {},
   "outputs": [
    {
     "data": {
      "text/plain": [
       "10"
      ]
     },
     "execution_count": 60,
     "metadata": {},
     "output_type": "execute_result"
    }
   ],
   "source": [
    "5*2"
   ]
  },
  {
   "cell_type": "markdown",
   "id": "685dbebf",
   "metadata": {},
   "source": [
    "- Q. What does multiplication do to a strings?\n",
    " A. Yes, you can multiply the string"
   ]
  },
  {
   "cell_type": "code",
   "execution_count": 61,
   "id": "a4a08335",
   "metadata": {},
   "outputs": [
    {
     "data": {
      "text/plain": [
       "'HAHAHA'"
      ]
     },
     "execution_count": 61,
     "metadata": {},
     "output_type": "execute_result"
    }
   ],
   "source": [
    "\"HA\"*3"
   ]
  },
  {
   "cell_type": "markdown",
   "id": "5f55cacc",
   "metadata": {},
   "source": [
    "5. Powers & Exponents : Not ^ but **"
   ]
  },
  {
   "cell_type": "code",
   "execution_count": 56,
   "id": "a656818f",
   "metadata": {},
   "outputs": [
    {
     "data": {
      "text/plain": [
       "625"
      ]
     },
     "execution_count": 56,
     "metadata": {},
     "output_type": "execute_result"
    }
   ],
   "source": [
    "(5**2)**2"
   ]
  },
  {
   "cell_type": "code",
   "execution_count": 55,
   "id": "ad29a0b0",
   "metadata": {},
   "outputs": [
    {
     "data": {
      "text/plain": [
       "43046721"
      ]
     },
     "execution_count": 55,
     "metadata": {},
     "output_type": "execute_result"
    }
   ],
   "source": [
    "9**8"
   ]
  },
  {
   "cell_type": "markdown",
   "id": "a42ad3b7",
   "metadata": {},
   "source": [
    "6. Operator Precedence : Pythonic Bodmas?"
   ]
  },
  {
   "cell_type": "code",
   "execution_count": 58,
   "id": "6b93a4ee",
   "metadata": {},
   "outputs": [
    {
     "data": {
      "text/plain": [
       "60.0"
      ]
     },
     "execution_count": 58,
     "metadata": {},
     "output_type": "execute_result"
    }
   ],
   "source": [
    "(5) + (2*8) + (6**2) + (9/3)"
   ]
  },
  {
   "cell_type": "code",
   "execution_count": 59,
   "id": "77485f0f",
   "metadata": {},
   "outputs": [
    {
     "data": {
      "text/plain": [
       "49.8"
      ]
     },
     "execution_count": 59,
     "metadata": {},
     "output_type": "execute_result"
    }
   ],
   "source": [
    "(9*4) - (5*2) + (4**2) + (9/5) + (2*3)"
   ]
  },
  {
   "cell_type": "markdown",
   "id": "f4a309a8",
   "metadata": {},
   "source": [
    "## 5. Comparison & Booleans"
   ]
  },
  {
   "cell_type": "code",
   "execution_count": 65,
   "id": "a2727314",
   "metadata": {},
   "outputs": [
    {
     "data": {
      "text/plain": [
       "True"
      ]
     },
     "execution_count": 65,
     "metadata": {},
     "output_type": "execute_result"
    }
   ],
   "source": [
    "5>3"
   ]
  },
  {
   "cell_type": "code",
   "execution_count": 66,
   "id": "03cb143a",
   "metadata": {},
   "outputs": [
    {
     "data": {
      "text/plain": [
       "False"
      ]
     },
     "execution_count": 66,
     "metadata": {},
     "output_type": "execute_result"
    }
   ],
   "source": [
    "5<3"
   ]
  },
  {
   "cell_type": "code",
   "execution_count": 72,
   "id": "66a1480d",
   "metadata": {},
   "outputs": [
    {
     "data": {
      "text/plain": [
       "False"
      ]
     },
     "execution_count": 72,
     "metadata": {},
     "output_type": "execute_result"
    }
   ],
   "source": [
    "5 == 3"
   ]
  },
  {
   "cell_type": "markdown",
   "id": "a02129f4",
   "metadata": {},
   "source": [
    "Whenever you are checking for equality b/w A and B use \"A==B\" , not \"A=B\"\n",
    "1. == Equality Comparison\n",
    "2. \">\", \"<\", \"<=\", \">=\" Inequality Comparison\n",
    "3. != Does not equal to"
   ]
  },
  {
   "cell_type": "code",
   "execution_count": 70,
   "id": "c8cadf3d",
   "metadata": {},
   "outputs": [
    {
     "data": {
      "text/plain": [
       "True"
      ]
     },
     "execution_count": 70,
     "metadata": {},
     "output_type": "execute_result"
    }
   ],
   "source": [
    "5 >= 3"
   ]
  },
  {
   "cell_type": "code",
   "execution_count": 71,
   "id": "58bb9e97",
   "metadata": {},
   "outputs": [
    {
     "data": {
      "text/plain": [
       "False"
      ]
     },
     "execution_count": 71,
     "metadata": {},
     "output_type": "execute_result"
    }
   ],
   "source": [
    "5 <= 3"
   ]
  },
  {
   "cell_type": "code",
   "execution_count": 73,
   "id": "7a0396a5",
   "metadata": {},
   "outputs": [
    {
     "data": {
      "text/plain": [
       "True"
      ]
     },
     "execution_count": 73,
     "metadata": {},
     "output_type": "execute_result"
    }
   ],
   "source": [
    "3 == 3.0"
   ]
  },
  {
   "cell_type": "code",
   "execution_count": 76,
   "id": "9f4fc1c2",
   "metadata": {},
   "outputs": [
    {
     "data": {
      "text/plain": [
       "True"
      ]
     },
     "execution_count": 76,
     "metadata": {},
     "output_type": "execute_result"
    }
   ],
   "source": [
    "3 == 3.000000000000000000000000000000000000001"
   ]
  },
  {
   "cell_type": "markdown",
   "id": "1ea4f3d0",
   "metadata": {},
   "source": [
    "Combining Multiple Comparison together:\n",
    "1. \"&\" : When user want all conditions to be true.\n",
    "2. \"or\" : When any one condition is true suffices"
   ]
  },
  {
   "cell_type": "code",
   "execution_count": 78,
   "id": "f95131e9",
   "metadata": {},
   "outputs": [
    {
     "data": {
      "text/plain": [
       "True"
      ]
     },
     "execution_count": 78,
     "metadata": {},
     "output_type": "execute_result"
    }
   ],
   "source": [
    "(30.0 > 27.0) & (700 > 670) & ('SST' == 'SST')"
   ]
  },
  {
   "cell_type": "code",
   "execution_count": 79,
   "id": "8780a5dc",
   "metadata": {},
   "outputs": [
    {
     "data": {
      "text/plain": [
       "False"
      ]
     },
     "execution_count": 79,
     "metadata": {},
     "output_type": "execute_result"
    }
   ],
   "source": [
    "(30.0 > 27.0) & (700 > 670) & ('LST' == 'SST')"
   ]
  },
  {
   "cell_type": "code",
   "execution_count": 80,
   "id": "bd63cd7f",
   "metadata": {},
   "outputs": [
    {
     "data": {
      "text/plain": [
       "True"
      ]
     },
     "execution_count": 80,
     "metadata": {},
     "output_type": "execute_result"
    }
   ],
   "source": [
    "(30.0 > 27.0) | (700 > 670) | ('LST' == 'SST')"
   ]
  },
  {
   "cell_type": "code",
   "execution_count": 81,
   "id": "40d6c40b",
   "metadata": {},
   "outputs": [
    {
     "data": {
      "text/plain": [
       "True"
      ]
     },
     "execution_count": 81,
     "metadata": {},
     "output_type": "execute_result"
    }
   ],
   "source": [
    "(30.0 > 27.0) & (700 > 670) | ('LST' == 'SST')"
   ]
  },
  {
   "cell_type": "code",
   "execution_count": 84,
   "id": "7c3f1284",
   "metadata": {},
   "outputs": [
    {
     "data": {
      "text/plain": [
       "True"
      ]
     },
     "execution_count": 84,
     "metadata": {},
     "output_type": "execute_result"
    }
   ],
   "source": [
    "True | False & False"
   ]
  },
  {
   "cell_type": "code",
   "execution_count": 85,
   "id": "7979ac08",
   "metadata": {},
   "outputs": [
    {
     "data": {
      "text/plain": [
       "False"
      ]
     },
     "execution_count": 85,
     "metadata": {},
     "output_type": "execute_result"
    }
   ],
   "source": [
    "False | False & False"
   ]
  },
  {
   "cell_type": "code",
   "execution_count": 86,
   "id": "5ecf1651",
   "metadata": {},
   "outputs": [
    {
     "data": {
      "text/plain": [
       "(True, False)"
      ]
     },
     "execution_count": 86,
     "metadata": {},
     "output_type": "execute_result"
    }
   ],
   "source": [
    "True | False , True & False"
   ]
  },
  {
   "cell_type": "markdown",
   "id": "424de6ea",
   "metadata": {},
   "source": [
    "---"
   ]
  },
  {
   "cell_type": "markdown",
   "id": "1db6cada",
   "metadata": {},
   "source": [
    "## Questions\n",
    "\n",
    "1. '122'*3\n",
    "2. type ('122'*5)\n",
    "3. print ('well' + 'Testing')\n",
    "4. practice one example of escape sequence when it allows you to do & what you were not allowed to.\n",
    "5. What is reminder of 12536 divided by 23."
   ]
  },
  {
   "cell_type": "code",
   "execution_count": 87,
   "id": "ce082a6a",
   "metadata": {},
   "outputs": [
    {
     "data": {
      "text/plain": [
       "'122122122'"
      ]
     },
     "execution_count": 87,
     "metadata": {},
     "output_type": "execute_result"
    }
   ],
   "source": [
    "'122'*3"
   ]
  },
  {
   "cell_type": "code",
   "execution_count": 88,
   "id": "e737a7ed",
   "metadata": {},
   "outputs": [
    {
     "data": {
      "text/plain": [
       "str"
      ]
     },
     "execution_count": 88,
     "metadata": {},
     "output_type": "execute_result"
    }
   ],
   "source": [
    "type('122'*3)"
   ]
  },
  {
   "cell_type": "code",
   "execution_count": 90,
   "id": "249150f4",
   "metadata": {},
   "outputs": [
    {
     "name": "stdout",
     "output_type": "stream",
     "text": [
      "WellTesting\n"
     ]
    }
   ],
   "source": [
    "print ('Well' + 'Testing')"
   ]
  },
  {
   "cell_type": "code",
   "execution_count": 93,
   "id": "6ca02018",
   "metadata": {},
   "outputs": [
    {
     "name": "stdout",
     "output_type": "stream",
     "text": [
      "Hello Everyone, \n",
      "Hope you are doing well. \n",
      "My Name Swagat pradhan working as a Drilling Engineer in GOTS\n"
     ]
    }
   ],
   "source": [
    "print(\"Hello Everyone, \\nHope you are doing well. \\nMy Name Swagat pradhan working as a Drilling Engineer in GOTS\")"
   ]
  },
  {
   "cell_type": "code",
   "execution_count": 94,
   "id": "a6811956",
   "metadata": {},
   "outputs": [
    {
     "data": {
      "text/plain": [
       "545.0434782608696"
      ]
     },
     "execution_count": 94,
     "metadata": {},
     "output_type": "execute_result"
    }
   ],
   "source": [
    "12536/23"
   ]
  },
  {
   "cell_type": "markdown",
   "id": "6b2422be",
   "metadata": {},
   "source": [
    "---"
   ]
  },
  {
   "cell_type": "markdown",
   "id": "855245ef",
   "metadata": {},
   "source": [
    "### 6. Variable Assignment\n",
    "\n",
    "Variable Naming in Python has a few rules.\n",
    "\n",
    "''variable_name = value_tobeassigned''\n",
    "\n",
    "> The value on the RHS is assigned and stored inside the variables on the LHS\n",
    "\n",
    "0. Define / Assign something to a var before using or printing it.\n",
    "1. No special character except an _ is allowed.\n",
    "2. Never start with a digit or a special character (can start with _)\n",
    "3. No spaces are allowed in variables name"
   ]
  },
  {
   "cell_type": "markdown",
   "id": "afb0891b",
   "metadata": {},
   "source": [
    "Braking Condition 0"
   ]
  },
  {
   "cell_type": "code",
   "execution_count": 101,
   "id": "f350d190",
   "metadata": {
    "scrolled": false
   },
   "outputs": [
    {
     "ename": "NameError",
     "evalue": "name 'my_var2' is not defined",
     "output_type": "error",
     "traceback": [
      "\u001b[1;31m---------------------------------------------------------------------------\u001b[0m",
      "\u001b[1;31mNameError\u001b[0m                                 Traceback (most recent call last)",
      "Input \u001b[1;32mIn [101]\u001b[0m, in \u001b[0;36m<cell line: 1>\u001b[1;34m()\u001b[0m\n\u001b[1;32m----> 1\u001b[0m \u001b[43mmy_var2\u001b[49m\n",
      "\u001b[1;31mNameError\u001b[0m: name 'my_var2' is not defined"
     ]
    }
   ],
   "source": [
    "my_var2"
   ]
  },
  {
   "cell_type": "code",
   "execution_count": 100,
   "id": "2e2a99ed",
   "metadata": {},
   "outputs": [],
   "source": [
    "my_var = None\n",
    "\n",
    "my_var"
   ]
  },
  {
   "cell_type": "markdown",
   "id": "782e171f",
   "metadata": {},
   "source": [
    "Braking Condition 1"
   ]
  },
  {
   "cell_type": "code",
   "execution_count": 102,
   "id": "45d76220",
   "metadata": {},
   "outputs": [
    {
     "ename": "SyntaxError",
     "evalue": "invalid syntax (1210433435.py, line 1)",
     "output_type": "error",
     "traceback": [
      "\u001b[1;36m  Input \u001b[1;32mIn [102]\u001b[1;36m\u001b[0m\n\u001b[1;33m    $_my_var =3\u001b[0m\n\u001b[1;37m    ^\u001b[0m\n\u001b[1;31mSyntaxError\u001b[0m\u001b[1;31m:\u001b[0m invalid syntax\n"
     ]
    }
   ],
   "source": [
    "$_my_var =3"
   ]
  },
  {
   "cell_type": "markdown",
   "id": "d4db0e64",
   "metadata": {},
   "source": [
    "Braking Condition 2"
   ]
  },
  {
   "cell_type": "code",
   "execution_count": 103,
   "id": "a8e9232b",
   "metadata": {},
   "outputs": [
    {
     "ename": "SyntaxError",
     "evalue": "invalid decimal literal (1807949594.py, line 1)",
     "output_type": "error",
     "traceback": [
      "\u001b[1;36m  Input \u001b[1;32mIn [103]\u001b[1;36m\u001b[0m\n\u001b[1;33m    1_myVarName = 500\u001b[0m\n\u001b[1;37m     ^\u001b[0m\n\u001b[1;31mSyntaxError\u001b[0m\u001b[1;31m:\u001b[0m invalid decimal literal\n"
     ]
    }
   ],
   "source": [
    "1_myVarName = 500"
   ]
  },
  {
   "cell_type": "markdown",
   "id": "11f8db9e",
   "metadata": {},
   "source": [
    "Braking Condition 3"
   ]
  },
  {
   "cell_type": "code",
   "execution_count": 104,
   "id": "725b63ce",
   "metadata": {},
   "outputs": [
    {
     "ename": "SyntaxError",
     "evalue": "invalid syntax (3781809636.py, line 1)",
     "output_type": "error",
     "traceback": [
      "\u001b[1;36m  Input \u001b[1;32mIn [104]\u001b[1;36m\u001b[0m\n\u001b[1;33m    my var name\u001b[0m\n\u001b[1;37m       ^\u001b[0m\n\u001b[1;31mSyntaxError\u001b[0m\u001b[1;31m:\u001b[0m invalid syntax\n"
     ]
    }
   ],
   "source": [
    "my var name"
   ]
  },
  {
   "cell_type": "markdown",
   "id": "05959707",
   "metadata": {},
   "source": [
    "- lets solve following the variable conditions\n",
    "\n"
   ]
  },
  {
   "cell_type": "code",
   "execution_count": 143,
   "id": "e9e220ef",
   "metadata": {},
   "outputs": [],
   "source": [
    "my_computed_porosity = 30.0 #percentage\n",
    "base_poro = 27.0\n",
    "\n",
    "my_computed_perm = 700 #milidarci\n",
    "base_prem = 670\n",
    "\n",
    "my_inferred_lith = 'SST'\n",
    "base_lith = 'LST'\n"
   ]
  },
  {
   "cell_type": "code",
   "execution_count": 160,
   "id": "f83898d8",
   "metadata": {},
   "outputs": [
    {
     "data": {
      "text/plain": [
       "True"
      ]
     },
     "execution_count": 160,
     "metadata": {},
     "output_type": "execute_result"
    }
   ],
   "source": [
    "(my_computed_porosity > base_poro)"
   ]
  },
  {
   "cell_type": "code",
   "execution_count": 159,
   "id": "c8e016fa",
   "metadata": {
    "scrolled": false
   },
   "outputs": [
    {
     "data": {
      "text/plain": [
       "True"
      ]
     },
     "execution_count": 159,
     "metadata": {},
     "output_type": "execute_result"
    }
   ],
   "source": [
    "(my_computed_porosity > base_poro) & (my_computed_perm > base_prem) "
   ]
  },
  {
   "cell_type": "code",
   "execution_count": 161,
   "id": "46a8e04c",
   "metadata": {},
   "outputs": [
    {
     "data": {
      "text/plain": [
       "False"
      ]
     },
     "execution_count": 161,
     "metadata": {},
     "output_type": "execute_result"
    }
   ],
   "source": [
    "(my_computed_porosity > base_poro) & (my_computed_perm > base_prem) & (my_inferred_lith == base_lith)"
   ]
  },
  {
   "cell_type": "markdown",
   "id": "db9d3217",
   "metadata": {},
   "source": [
    "## 7. Input statement : To take inputs from user"
   ]
  },
  {
   "cell_type": "code",
   "execution_count": 146,
   "id": "ab3a227a",
   "metadata": {
    "scrolled": true
   },
   "outputs": [
    {
     "name": "stdout",
     "output_type": "stream",
     "text": [
      "Hey What's your name? :Swagat\n"
     ]
    }
   ],
   "source": [
    "name = input(\"Hey What's your name? :\")"
   ]
  },
  {
   "cell_type": "code",
   "execution_count": 147,
   "id": "a784aa2d",
   "metadata": {
    "scrolled": false
   },
   "outputs": [
    {
     "name": "stdout",
     "output_type": "stream",
     "text": [
      "Hey What's your name? :25\n"
     ]
    }
   ],
   "source": [
    "age = input(\"Hey What's your name? :\")"
   ]
  },
  {
   "cell_type": "markdown",
   "id": "3f50c679",
   "metadata": {},
   "source": [
    "Type Cast it!!!"
   ]
  },
  {
   "cell_type": "code",
   "execution_count": 153,
   "id": "1144becd",
   "metadata": {
    "scrolled": true
   },
   "outputs": [
    {
     "name": "stdout",
     "output_type": "stream",
     "text": [
      "Hey What's your name? : 25\n"
     ]
    }
   ],
   "source": [
    "age = input(\"Hey What's your name? : \")\n",
    "age_casted = int(age)"
   ]
  },
  {
   "cell_type": "markdown",
   "id": "ca14c2e7",
   "metadata": {},
   "source": [
    "Check whether it in str or int"
   ]
  },
  {
   "cell_type": "code",
   "execution_count": 154,
   "id": "148fd321",
   "metadata": {},
   "outputs": [
    {
     "data": {
      "text/plain": [
       "str"
      ]
     },
     "execution_count": 154,
     "metadata": {},
     "output_type": "execute_result"
    }
   ],
   "source": [
    "type(age)"
   ]
  },
  {
   "cell_type": "code",
   "execution_count": 155,
   "id": "0a783998",
   "metadata": {},
   "outputs": [
    {
     "data": {
      "text/plain": [
       "int"
      ]
     },
     "execution_count": 155,
     "metadata": {},
     "output_type": "execute_result"
    }
   ],
   "source": [
    "type(age_casted)"
   ]
  },
  {
   "cell_type": "code",
   "execution_count": 157,
   "id": "af691564",
   "metadata": {},
   "outputs": [
    {
     "name": "stdout",
     "output_type": "stream",
     "text": [
      "Hey What is the mini porosity? : 29\n"
     ]
    }
   ],
   "source": [
    "porosity = input(\"Hey What is the mini porosity? : \")\n",
    "porosity_casted = int(porosity)"
   ]
  },
  {
   "cell_type": "code",
   "execution_count": 158,
   "id": "7288a5e9",
   "metadata": {
    "scrolled": true
   },
   "outputs": [
    {
     "name": "stdout",
     "output_type": "stream",
     "text": [
      "Hey What is the mini porosity? : 29.5\n"
     ]
    }
   ],
   "source": [
    "# type casted - float\n",
    "porosity = input(\"Hey What is the mini porosity? : \")\n",
    "porosity_casted = float(porosity)"
   ]
  }
 ],
 "metadata": {
  "kernelspec": {
   "display_name": "Python 3 (ipykernel)",
   "language": "python",
   "name": "python3"
  },
  "language_info": {
   "codemirror_mode": {
    "name": "ipython",
    "version": 3
   },
   "file_extension": ".py",
   "mimetype": "text/x-python",
   "name": "python",
   "nbconvert_exporter": "python",
   "pygments_lexer": "ipython3",
   "version": "3.9.12"
  }
 },
 "nbformat": 4,
 "nbformat_minor": 5
}
