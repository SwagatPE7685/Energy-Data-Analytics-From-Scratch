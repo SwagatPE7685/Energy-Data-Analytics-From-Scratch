{
 "cells": [
  {
   "cell_type": "markdown",
   "id": "d627899b",
   "metadata": {},
   "source": [
    " ## Reshape of array"
   ]
  },
  {
   "cell_type": "code",
   "execution_count": 2,
   "id": "e0ef101e",
   "metadata": {},
   "outputs": [],
   "source": [
    "import numpy as np"
   ]
  },
  {
   "cell_type": "code",
   "execution_count": 3,
   "id": "a3a778ac",
   "metadata": {},
   "outputs": [],
   "source": [
    "perm = np.array([[[[1,2,3,4],[3,4,5,6],[4,5,6,4]],[[31,26,64,65],[56,59,56,12],[45,48,49,66]]],\n",
    "                    [[[11,22,33,66],[78,89,56,15],[45,89,69,326]],[[54,545,54,9998],[78,15,91,61],[45,45,65,31]]]])"
   ]
  },
  {
   "cell_type": "code",
   "execution_count": 4,
   "id": "22f7c386",
   "metadata": {},
   "outputs": [
    {
     "data": {
      "text/plain": [
       "array([[[[   1,    2,    3,    4],\n",
       "         [   3,    4,    5,    6],\n",
       "         [   4,    5,    6,    4]],\n",
       "\n",
       "        [[  31,   26,   64,   65],\n",
       "         [  56,   59,   56,   12],\n",
       "         [  45,   48,   49,   66]]],\n",
       "\n",
       "\n",
       "       [[[  11,   22,   33,   66],\n",
       "         [  78,   89,   56,   15],\n",
       "         [  45,   89,   69,  326]],\n",
       "\n",
       "        [[  54,  545,   54, 9998],\n",
       "         [  78,   15,   91,   61],\n",
       "         [  45,   45,   65,   31]]]])"
      ]
     },
     "execution_count": 4,
     "metadata": {},
     "output_type": "execute_result"
    }
   ],
   "source": [
    "perm"
   ]
  },
  {
   "cell_type": "code",
   "execution_count": 5,
   "id": "131d1d7e",
   "metadata": {
    "scrolled": true
   },
   "outputs": [
    {
     "data": {
      "text/plain": [
       "(2, 2, 3, 4)"
      ]
     },
     "execution_count": 5,
     "metadata": {},
     "output_type": "execute_result"
    }
   ],
   "source": [
    "perm.shape"
   ]
  },
  {
   "cell_type": "markdown",
   "id": "04614fe7",
   "metadata": {},
   "source": [
    " > **reshape of array will be the multiple of no.of elements**"
   ]
  },
  {
   "cell_type": "code",
   "execution_count": 6,
   "id": "ea29c97b",
   "metadata": {},
   "outputs": [],
   "source": [
    "#Example\n",
    "perm_0 = np.array([1,2,3,6,5,4,7,8,9,6,4,1,63,6,4,5,6,1,3,6,4,9,4,6,1,96,4,1,63,4,4,9,1,3,16])"
   ]
  },
  {
   "cell_type": "code",
   "execution_count": 7,
   "id": "aaca9879",
   "metadata": {},
   "outputs": [
    {
     "data": {
      "text/plain": [
       "(35,)"
      ]
     },
     "execution_count": 7,
     "metadata": {},
     "output_type": "execute_result"
    }
   ],
   "source": [
    "perm_0.shape"
   ]
  },
  {
   "cell_type": "code",
   "execution_count": 8,
   "id": "514fa4e2",
   "metadata": {},
   "outputs": [
    {
     "data": {
      "text/plain": [
       "array([[ 1,  2,  3,  6,  5],\n",
       "       [ 4,  7,  8,  9,  6],\n",
       "       [ 4,  1, 63,  6,  4],\n",
       "       [ 5,  6,  1,  3,  6],\n",
       "       [ 4,  9,  4,  6,  1],\n",
       "       [96,  4,  1, 63,  4],\n",
       "       [ 4,  9,  1,  3, 16]])"
      ]
     },
     "execution_count": 8,
     "metadata": {},
     "output_type": "execute_result"
    }
   ],
   "source": [
    "perm_0.reshape(7,5)"
   ]
  },
  {
   "cell_type": "code",
   "execution_count": 9,
   "id": "e4718fef",
   "metadata": {},
   "outputs": [
    {
     "data": {
      "text/plain": [
       "array([ 1,  2,  3,  6,  5,  4,  7,  8,  9,  6,  4,  1, 63,  6,  4,  5,  6,\n",
       "        1,  3,  6,  4,  9,  4,  6,  1, 96,  4,  1, 63,  4,  4,  9,  1,  3,\n",
       "       16])"
      ]
     },
     "execution_count": 9,
     "metadata": {},
     "output_type": "execute_result"
    }
   ],
   "source": [
    "perm_0"
   ]
  },
  {
   "cell_type": "code",
   "execution_count": 10,
   "id": "ff72a13e",
   "metadata": {},
   "outputs": [
    {
     "data": {
      "text/plain": [
       "array([[ 1,  2,  3,  6,  5,  4,  7],\n",
       "       [ 8,  9,  6,  4,  1, 63,  6],\n",
       "       [ 4,  5,  6,  1,  3,  6,  4],\n",
       "       [ 9,  4,  6,  1, 96,  4,  1],\n",
       "       [63,  4,  4,  9,  1,  3, 16]])"
      ]
     },
     "execution_count": 10,
     "metadata": {},
     "output_type": "execute_result"
    }
   ],
   "source": [
    "perm_0.reshape(5,7)"
   ]
  },
  {
   "cell_type": "markdown",
   "id": "f6d5a83e",
   "metadata": {},
   "source": [
    "---"
   ]
  },
  {
   "cell_type": "code",
   "execution_count": 11,
   "id": "096e7cf7",
   "metadata": {},
   "outputs": [],
   "source": [
    "#Example\n",
    "\n",
    "perm_01 = np.array([1,2,3,6,5,4,7,8,9,6,4,1,63,6,4,5,6,1,3,6,4,9,4,6,1,96,4,1,63,4,4,9,1,3,16,5,6,9,2,1])"
   ]
  },
  {
   "cell_type": "code",
   "execution_count": 12,
   "id": "95755b2d",
   "metadata": {},
   "outputs": [
    {
     "data": {
      "text/plain": [
       "array([ 1,  2,  3,  6,  5,  4,  7,  8,  9,  6,  4,  1, 63,  6,  4,  5,  6,\n",
       "        1,  3,  6,  4,  9,  4,  6,  1, 96,  4,  1, 63,  4,  4,  9,  1,  3,\n",
       "       16,  5,  6,  9,  2,  1])"
      ]
     },
     "execution_count": 12,
     "metadata": {},
     "output_type": "execute_result"
    }
   ],
   "source": [
    "perm_01"
   ]
  },
  {
   "cell_type": "code",
   "execution_count": 13,
   "id": "a166d19f",
   "metadata": {},
   "outputs": [
    {
     "data": {
      "text/plain": [
       "(40,)"
      ]
     },
     "execution_count": 13,
     "metadata": {},
     "output_type": "execute_result"
    }
   ],
   "source": [
    "perm_01.shape"
   ]
  },
  {
   "cell_type": "code",
   "execution_count": 14,
   "id": "1e8b13ae",
   "metadata": {},
   "outputs": [
    {
     "data": {
      "text/plain": [
       "array([[ 1,  2,  3,  6,  5,  4,  7,  8,  9,  6],\n",
       "       [ 4,  1, 63,  6,  4,  5,  6,  1,  3,  6],\n",
       "       [ 4,  9,  4,  6,  1, 96,  4,  1, 63,  4],\n",
       "       [ 4,  9,  1,  3, 16,  5,  6,  9,  2,  1]])"
      ]
     },
     "execution_count": 14,
     "metadata": {},
     "output_type": "execute_result"
    }
   ],
   "source": [
    "perm_01.reshape(4,10)"
   ]
  },
  {
   "cell_type": "markdown",
   "id": "2f6dda93",
   "metadata": {},
   "source": [
    "we can change shape into another dimension"
   ]
  },
  {
   "cell_type": "code",
   "execution_count": 15,
   "id": "26b49a98",
   "metadata": {},
   "outputs": [
    {
     "data": {
      "text/plain": [
       "array([[ 1,  2,  3,  6,  5],\n",
       "       [ 4,  7,  8,  9,  6],\n",
       "       [ 4,  1, 63,  6,  4],\n",
       "       [ 5,  6,  1,  3,  6],\n",
       "       [ 4,  9,  4,  6,  1],\n",
       "       [96,  4,  1, 63,  4],\n",
       "       [ 4,  9,  1,  3, 16],\n",
       "       [ 5,  6,  9,  2,  1]])"
      ]
     },
     "execution_count": 15,
     "metadata": {},
     "output_type": "execute_result"
    }
   ],
   "source": [
    "perm_01.reshape(8,5)"
   ]
  },
  {
   "cell_type": "code",
   "execution_count": 16,
   "id": "feb661e0",
   "metadata": {},
   "outputs": [
    {
     "data": {
      "text/plain": [
       "array([[[ 1,  2,  3,  6,  5,  4,  7,  8,  9,  6],\n",
       "        [ 4,  1, 63,  6,  4,  5,  6,  1,  3,  6]],\n",
       "\n",
       "       [[ 4,  9,  4,  6,  1, 96,  4,  1, 63,  4],\n",
       "        [ 4,  9,  1,  3, 16,  5,  6,  9,  2,  1]]])"
      ]
     },
     "execution_count": 16,
     "metadata": {},
     "output_type": "execute_result"
    }
   ],
   "source": [
    "perm_01.reshape(2,2,10)"
   ]
  },
  {
   "cell_type": "code",
   "execution_count": 17,
   "id": "e063bb3d",
   "metadata": {},
   "outputs": [
    {
     "data": {
      "text/plain": [
       "array([[[[ 1,  2,  3,  6,  5],\n",
       "         [ 4,  7,  8,  9,  6]],\n",
       "\n",
       "        [[ 4,  1, 63,  6,  4],\n",
       "         [ 5,  6,  1,  3,  6]]],\n",
       "\n",
       "\n",
       "       [[[ 4,  9,  4,  6,  1],\n",
       "         [96,  4,  1, 63,  4]],\n",
       "\n",
       "        [[ 4,  9,  1,  3, 16],\n",
       "         [ 5,  6,  9,  2,  1]]]])"
      ]
     },
     "execution_count": 17,
     "metadata": {},
     "output_type": "execute_result"
    }
   ],
   "source": [
    "perm_01.reshape(2,2,2,5)"
   ]
  },
  {
   "cell_type": "markdown",
   "id": "d586bc8b",
   "metadata": {},
   "source": [
    "also check the dimension"
   ]
  },
  {
   "cell_type": "code",
   "execution_count": 18,
   "id": "c31fb745",
   "metadata": {},
   "outputs": [
    {
     "data": {
      "text/plain": [
       "4"
      ]
     },
     "execution_count": 18,
     "metadata": {},
     "output_type": "execute_result"
    }
   ],
   "source": [
    "perm_01.reshape(2,2,2,5).ndim"
   ]
  },
  {
   "cell_type": "markdown",
   "id": "a782f567",
   "metadata": {},
   "source": [
    "---"
   ]
  },
  {
   "cell_type": "markdown",
   "id": "78fe90c5",
   "metadata": {},
   "source": [
    "Q . poro = np.array([4,1,1,5,6,8,44,6,4,1,6,8,4,6,1,6,5,2,6,4,41,6,5,69,61,4,4,641,6,44,6,3,6,4,6,41,4,6,1,46,47,16,4,94,1,4])\n",
    "\n",
    "change its dimension into\n",
    "- 2d\n",
    "- 3d\n",
    "- 4d\n",
    "- 5d"
   ]
  },
  {
   "cell_type": "code",
   "execution_count": 19,
   "id": "6487db27",
   "metadata": {},
   "outputs": [],
   "source": [
    "poro = np.array([4,1,1,5,6,8,44,6,4,1,6,8,4,6,1,6,5,2,6,4,41,6,5,69,61,4,4,641,6,44,6,3,6,4,6,41])"
   ]
  },
  {
   "cell_type": "code",
   "execution_count": 20,
   "id": "c8619073",
   "metadata": {},
   "outputs": [
    {
     "data": {
      "text/plain": [
       "(36,)"
      ]
     },
     "execution_count": 20,
     "metadata": {},
     "output_type": "execute_result"
    }
   ],
   "source": [
    "poro.shape"
   ]
  },
  {
   "cell_type": "code",
   "execution_count": 21,
   "id": "5297c551",
   "metadata": {},
   "outputs": [],
   "source": [
    "poro_2d = poro.reshape(6,6)\n",
    "poro_3d = poro.reshape(2,3,6)\n",
    "poro_4d = poro.reshape(2,3,2,3)\n",
    "poro_5d = poro.reshape(1,2,3,2,3)"
   ]
  },
  {
   "cell_type": "code",
   "execution_count": 22,
   "id": "482db001",
   "metadata": {},
   "outputs": [
    {
     "data": {
      "text/plain": [
       "array([[  4,   1,   1,   5,   6,   8],\n",
       "       [ 44,   6,   4,   1,   6,   8],\n",
       "       [  4,   6,   1,   6,   5,   2],\n",
       "       [  6,   4,  41,   6,   5,  69],\n",
       "       [ 61,   4,   4, 641,   6,  44],\n",
       "       [  6,   3,   6,   4,   6,  41]])"
      ]
     },
     "execution_count": 22,
     "metadata": {},
     "output_type": "execute_result"
    }
   ],
   "source": [
    "poro_2d"
   ]
  },
  {
   "cell_type": "code",
   "execution_count": 23,
   "id": "71293995",
   "metadata": {},
   "outputs": [
    {
     "data": {
      "text/plain": [
       "array([[[  4,   1,   1,   5,   6,   8],\n",
       "        [ 44,   6,   4,   1,   6,   8],\n",
       "        [  4,   6,   1,   6,   5,   2]],\n",
       "\n",
       "       [[  6,   4,  41,   6,   5,  69],\n",
       "        [ 61,   4,   4, 641,   6,  44],\n",
       "        [  6,   3,   6,   4,   6,  41]]])"
      ]
     },
     "execution_count": 23,
     "metadata": {},
     "output_type": "execute_result"
    }
   ],
   "source": [
    "poro_3d"
   ]
  },
  {
   "cell_type": "code",
   "execution_count": 24,
   "id": "5fe6c2b2",
   "metadata": {},
   "outputs": [
    {
     "data": {
      "text/plain": [
       "array([[[[  4,   1,   1],\n",
       "         [  5,   6,   8]],\n",
       "\n",
       "        [[ 44,   6,   4],\n",
       "         [  1,   6,   8]],\n",
       "\n",
       "        [[  4,   6,   1],\n",
       "         [  6,   5,   2]]],\n",
       "\n",
       "\n",
       "       [[[  6,   4,  41],\n",
       "         [  6,   5,  69]],\n",
       "\n",
       "        [[ 61,   4,   4],\n",
       "         [641,   6,  44]],\n",
       "\n",
       "        [[  6,   3,   6],\n",
       "         [  4,   6,  41]]]])"
      ]
     },
     "execution_count": 24,
     "metadata": {},
     "output_type": "execute_result"
    }
   ],
   "source": [
    "poro_4d"
   ]
  },
  {
   "cell_type": "markdown",
   "id": "5541a287",
   "metadata": {},
   "source": [
    "---"
   ]
  },
  {
   "cell_type": "markdown",
   "id": "b2f50e42",
   "metadata": {},
   "source": [
    "> **if we know only one dimension and dont know the another one, use (- 1) to get the result**\n",
    "\n"
   ]
  },
  {
   "cell_type": "code",
   "execution_count": 25,
   "id": "625fe659",
   "metadata": {},
   "outputs": [
    {
     "data": {
      "text/plain": [
       "array([ 1,  2,  3,  6,  5,  4,  7,  8,  9,  6,  4,  1, 63,  6,  4,  5,  6,\n",
       "        1,  3,  6,  4,  9,  4,  6,  1, 96,  4,  1, 63,  4,  4,  9,  1,  3,\n",
       "       16,  5,  6,  9,  2,  1])"
      ]
     },
     "execution_count": 25,
     "metadata": {},
     "output_type": "execute_result"
    }
   ],
   "source": [
    "perm_01"
   ]
  },
  {
   "cell_type": "code",
   "execution_count": 26,
   "id": "88ce77e6",
   "metadata": {},
   "outputs": [
    {
     "data": {
      "text/plain": [
       "(40,)"
      ]
     },
     "execution_count": 26,
     "metadata": {},
     "output_type": "execute_result"
    }
   ],
   "source": [
    "perm_01.shape"
   ]
  },
  {
   "cell_type": "code",
   "execution_count": 27,
   "id": "163ddc2a",
   "metadata": {},
   "outputs": [
    {
     "data": {
      "text/plain": [
       "array([[ 1,  2,  3,  6,  5,  4,  7,  8],\n",
       "       [ 9,  6,  4,  1, 63,  6,  4,  5],\n",
       "       [ 6,  1,  3,  6,  4,  9,  4,  6],\n",
       "       [ 1, 96,  4,  1, 63,  4,  4,  9],\n",
       "       [ 1,  3, 16,  5,  6,  9,  2,  1]])"
      ]
     },
     "execution_count": 27,
     "metadata": {},
     "output_type": "execute_result"
    }
   ],
   "source": [
    "perm_01.reshape(5, -1)"
   ]
  },
  {
   "cell_type": "code",
   "execution_count": 28,
   "id": "f563e852",
   "metadata": {},
   "outputs": [
    {
     "data": {
      "text/plain": [
       "array([[[ 1,  2,  3,  6,  5],\n",
       "        [ 4,  7,  8,  9,  6]],\n",
       "\n",
       "       [[ 4,  1, 63,  6,  4],\n",
       "        [ 5,  6,  1,  3,  6]],\n",
       "\n",
       "       [[ 4,  9,  4,  6,  1],\n",
       "        [96,  4,  1, 63,  4]],\n",
       "\n",
       "       [[ 4,  9,  1,  3, 16],\n",
       "        [ 5,  6,  9,  2,  1]]])"
      ]
     },
     "execution_count": 28,
     "metadata": {},
     "output_type": "execute_result"
    }
   ],
   "source": [
    "perm_01.reshape(-1, 2, 5)"
   ]
  },
  {
   "cell_type": "markdown",
   "id": "f67fe0b6",
   "metadata": {},
   "source": [
    "Also you can check the shape"
   ]
  },
  {
   "cell_type": "code",
   "execution_count": 29,
   "id": "8d741e2a",
   "metadata": {},
   "outputs": [
    {
     "data": {
      "text/plain": [
       "(4, 2, 5)"
      ]
     },
     "execution_count": 29,
     "metadata": {},
     "output_type": "execute_result"
    }
   ],
   "source": [
    "perm_01.reshape(-1, 2, 5).shape"
   ]
  },
  {
   "cell_type": "code",
   "execution_count": 30,
   "id": "24f6c128",
   "metadata": {},
   "outputs": [
    {
     "data": {
      "text/plain": [
       "array([[[[ 1,  2,  3,  6,  5],\n",
       "         [ 4,  7,  8,  9,  6]],\n",
       "\n",
       "        [[ 4,  1, 63,  6,  4],\n",
       "         [ 5,  6,  1,  3,  6]]],\n",
       "\n",
       "\n",
       "       [[[ 4,  9,  4,  6,  1],\n",
       "         [96,  4,  1, 63,  4]],\n",
       "\n",
       "        [[ 4,  9,  1,  3, 16],\n",
       "         [ 5,  6,  9,  2,  1]]]])"
      ]
     },
     "execution_count": 30,
     "metadata": {},
     "output_type": "execute_result"
    }
   ],
   "source": [
    "perm_01.reshape( -1, 2, 2, 5)"
   ]
  },
  {
   "cell_type": "code",
   "execution_count": 31,
   "id": "0297be91",
   "metadata": {},
   "outputs": [
    {
     "data": {
      "text/plain": [
       "(2, 2, 2, 5)"
      ]
     },
     "execution_count": 31,
     "metadata": {},
     "output_type": "execute_result"
    }
   ],
   "source": [
    "perm_01.reshape( -1, 2, 2, 5).shape"
   ]
  },
  {
   "cell_type": "markdown",
   "id": "31aac754",
   "metadata": {},
   "source": [
    "## Slicing in array"
   ]
  },
  {
   "cell_type": "code",
   "execution_count": 60,
   "id": "7b884d29",
   "metadata": {},
   "outputs": [],
   "source": [
    "perm = np.array([[4,1,1,5,6],[8,44,6,4,1],[6,8,4,6,1],[6,5,2,6,4]])"
   ]
  },
  {
   "cell_type": "code",
   "execution_count": 74,
   "id": "c46e7e0d",
   "metadata": {},
   "outputs": [
    {
     "data": {
      "text/plain": [
       "array([[ 4,  1,  1,  5,  6],\n",
       "       [ 8, 44,  6,  4,  1],\n",
       "       [ 6,  8,  4,  6,  1],\n",
       "       [ 6,  5,  2,  6,  4]])"
      ]
     },
     "execution_count": 74,
     "metadata": {},
     "output_type": "execute_result"
    }
   ],
   "source": [
    "perm"
   ]
  },
  {
   "cell_type": "markdown",
   "id": "f340154f",
   "metadata": {},
   "source": [
    "- **Column Slicing :  perm [x axis, y axis]**"
   ]
  },
  {
   "cell_type": "code",
   "execution_count": 102,
   "id": "ae30557c",
   "metadata": {},
   "outputs": [
    {
     "data": {
      "text/plain": [
       "array([[6, 4],\n",
       "       [4, 6]])"
      ]
     },
     "execution_count": 102,
     "metadata": {},
     "output_type": "execute_result"
    }
   ],
   "source": [
    "\n",
    "perm[1:3, 2:4]"
   ]
  },
  {
   "cell_type": "code",
   "execution_count": 71,
   "id": "c52a2349",
   "metadata": {},
   "outputs": [
    {
     "data": {
      "text/plain": [
       "array([[ 8, 44,  6,  4,  1],\n",
       "       [ 6,  8,  4,  6,  1],\n",
       "       [ 6,  5,  2,  6,  4]])"
      ]
     },
     "execution_count": 71,
     "metadata": {},
     "output_type": "execute_result"
    }
   ],
   "source": [
    "# [-1] it will counts from below\n",
    "\n",
    "perm[-3:]"
   ]
  },
  {
   "cell_type": "markdown",
   "id": "b3b4a3a3",
   "metadata": {},
   "source": [
    "Reverse it"
   ]
  },
  {
   "cell_type": "code",
   "execution_count": 75,
   "id": "37804b83",
   "metadata": {},
   "outputs": [
    {
     "data": {
      "text/plain": [
       "array([[ 1,  4,  6, 44,  8],\n",
       "       [ 1,  6,  4,  8,  6],\n",
       "       [ 4,  6,  2,  5,  6]])"
      ]
     },
     "execution_count": 75,
     "metadata": {},
     "output_type": "execute_result"
    }
   ],
   "source": [
    "perm[-3: ,-1: :-1]"
   ]
  },
  {
   "cell_type": "code",
   "execution_count": 78,
   "id": "4e7b0305",
   "metadata": {},
   "outputs": [
    {
     "data": {
      "text/plain": [
       "4"
      ]
     },
     "execution_count": 78,
     "metadata": {},
     "output_type": "execute_result"
    }
   ],
   "source": [
    "# if i need an element 4\n",
    "perm[-3: ,-1: :-1][1,2]"
   ]
  },
  {
   "cell_type": "markdown",
   "id": "f50b5449",
   "metadata": {},
   "source": [
    "---"
   ]
  },
  {
   "cell_type": "code",
   "execution_count": 79,
   "id": "8c1288d4",
   "metadata": {},
   "outputs": [],
   "source": [
    "#Example: Slice out array([[ 56,  15],\n",
    "#                         [ 69, 326]]) .\n",
    "\n",
    "perm_03 = np.array([[[[1,2,3,4],[3,4,5,6],[4,5,6,4]],[[31,26,64,65],[56,59,56,12],[45,48,49,66]]],\n",
    "                    [[[11,22,33,66],[78,89,56,15],[45,89,69,326]],[[54,545,54,9998],[78,15,91,61],[45,45,65,31]]]])"
   ]
  },
  {
   "cell_type": "code",
   "execution_count": 80,
   "id": "1de35dfb",
   "metadata": {},
   "outputs": [
    {
     "data": {
      "text/plain": [
       "array([[[[   1,    2,    3,    4],\n",
       "         [   3,    4,    5,    6],\n",
       "         [   4,    5,    6,    4]],\n",
       "\n",
       "        [[  31,   26,   64,   65],\n",
       "         [  56,   59,   56,   12],\n",
       "         [  45,   48,   49,   66]]],\n",
       "\n",
       "\n",
       "       [[[  11,   22,   33,   66],\n",
       "         [  78,   89,   56,   15],\n",
       "         [  45,   89,   69,  326]],\n",
       "\n",
       "        [[  54,  545,   54, 9998],\n",
       "         [  78,   15,   91,   61],\n",
       "         [  45,   45,   65,   31]]]])"
      ]
     },
     "execution_count": 80,
     "metadata": {},
     "output_type": "execute_result"
    }
   ],
   "source": [
    "#Step 1:\n",
    "\n",
    "perm_03"
   ]
  },
  {
   "cell_type": "code",
   "execution_count": 93,
   "id": "8851f0ba",
   "metadata": {},
   "outputs": [
    {
     "data": {
      "text/plain": [
       "array([[ 11,  22,  33,  66],\n",
       "       [ 78,  89,  56,  15],\n",
       "       [ 45,  89,  69, 326]])"
      ]
     },
     "execution_count": 93,
     "metadata": {},
     "output_type": "execute_result"
    }
   ],
   "source": [
    "#Step 2:\n",
    "\n",
    "perm_03[1][0]"
   ]
  },
  {
   "cell_type": "code",
   "execution_count": 99,
   "id": "b746e22f",
   "metadata": {},
   "outputs": [
    {
     "data": {
      "text/plain": [
       "array([[ 78,  89,  56,  15],\n",
       "       [ 45,  89,  69, 326]])"
      ]
     },
     "execution_count": 99,
     "metadata": {},
     "output_type": "execute_result"
    }
   ],
   "source": [
    "#Step 3:\n",
    "\n",
    "perm_03[1][0][1:3]"
   ]
  },
  {
   "cell_type": "code",
   "execution_count": 107,
   "id": "c47c3be9",
   "metadata": {},
   "outputs": [
    {
     "data": {
      "text/plain": [
       "array([[ 56,  15],\n",
       "       [ 69, 326]])"
      ]
     },
     "execution_count": 107,
     "metadata": {},
     "output_type": "execute_result"
    }
   ],
   "source": [
    "#Step 4\n",
    "\n",
    "perm_03[1][0][1:3][0:2, 2:4]"
   ]
  },
  {
   "cell_type": "markdown",
   "id": "0c68211c",
   "metadata": {},
   "source": [
    "----"
   ]
  },
  {
   "cell_type": "code",
   "execution_count": 109,
   "id": "a0c10086",
   "metadata": {},
   "outputs": [],
   "source": [
    "#Example: Slice out array  array([[  54, 9998],  Also reverse it.\n",
    "#                               [  91,   61]]).\n",
    "\n",
    "perm_04 = np.array([[[[1,2,3,4],[3,4,5,6],[4,5,6,4]],[[31,26,64,65],[56,59,56,12],[45,48,49,66]]],\n",
    "                    [[[11,22,33,66],[78,89,56,15],[45,89,69,326]],[[54,545,54,9998],[78,15,91,61],[45,45,65,31]]]])"
   ]
  },
  {
   "cell_type": "code",
   "execution_count": 110,
   "id": "e404f18c",
   "metadata": {},
   "outputs": [
    {
     "data": {
      "text/plain": [
       "array([[[[   1,    2,    3,    4],\n",
       "         [   3,    4,    5,    6],\n",
       "         [   4,    5,    6,    4]],\n",
       "\n",
       "        [[  31,   26,   64,   65],\n",
       "         [  56,   59,   56,   12],\n",
       "         [  45,   48,   49,   66]]],\n",
       "\n",
       "\n",
       "       [[[  11,   22,   33,   66],\n",
       "         [  78,   89,   56,   15],\n",
       "         [  45,   89,   69,  326]],\n",
       "\n",
       "        [[  54,  545,   54, 9998],\n",
       "         [  78,   15,   91,   61],\n",
       "         [  45,   45,   65,   31]]]])"
      ]
     },
     "execution_count": 110,
     "metadata": {},
     "output_type": "execute_result"
    }
   ],
   "source": [
    "#Step 1\n",
    "perm_04"
   ]
  },
  {
   "cell_type": "code",
   "execution_count": 112,
   "id": "e39c735b",
   "metadata": {},
   "outputs": [
    {
     "data": {
      "text/plain": [
       "array([[  54,  545,   54, 9998],\n",
       "       [  78,   15,   91,   61],\n",
       "       [  45,   45,   65,   31]])"
      ]
     },
     "execution_count": 112,
     "metadata": {},
     "output_type": "execute_result"
    }
   ],
   "source": [
    "#Step 2\n",
    "perm_04[1][1]"
   ]
  },
  {
   "cell_type": "code",
   "execution_count": 114,
   "id": "cf0be494",
   "metadata": {},
   "outputs": [
    {
     "data": {
      "text/plain": [
       "array([[  54,  545,   54, 9998],\n",
       "       [  78,   15,   91,   61]])"
      ]
     },
     "execution_count": 114,
     "metadata": {},
     "output_type": "execute_result"
    }
   ],
   "source": [
    "#Step 3\n",
    "perm_04[1][1][0:2]"
   ]
  },
  {
   "cell_type": "code",
   "execution_count": 120,
   "id": "c302beff",
   "metadata": {},
   "outputs": [
    {
     "data": {
      "text/plain": [
       "array([[  54, 9998],\n",
       "       [  91,   61]])"
      ]
     },
     "execution_count": 120,
     "metadata": {},
     "output_type": "execute_result"
    }
   ],
   "source": [
    "#Step 4\n",
    "perm_04[1][1][0:2][0:3, 2:4]"
   ]
  },
  {
   "cell_type": "code",
   "execution_count": 121,
   "id": "da210411",
   "metadata": {},
   "outputs": [
    {
     "data": {
      "text/plain": [
       "array([[  91,   61],\n",
       "       [  54, 9998]])"
      ]
     },
     "execution_count": 121,
     "metadata": {},
     "output_type": "execute_result"
    }
   ],
   "source": [
    "#Step 5: Reverse it\n",
    "perm_04[1][1][0:2][0:3, 2:4][-1: :-1]"
   ]
  },
  {
   "cell_type": "markdown",
   "id": "20971139",
   "metadata": {},
   "source": [
    "---"
   ]
  },
  {
   "cell_type": "markdown",
   "id": "83b1a105",
   "metadata": {},
   "source": [
    "## Random Number Generation"
   ]
  },
  {
   "cell_type": "markdown",
   "id": "41288a33",
   "metadata": {},
   "source": [
    "**1. Randint : it is used to get random decimal integers results**"
   ]
  },
  {
   "cell_type": "markdown",
   "id": "bb08a88f",
   "metadata": {},
   "source": [
    "> **Syntex: np.random.randint(min,max,shape)**"
   ]
  },
  {
   "cell_type": "code",
   "execution_count": 146,
   "id": "abc40007",
   "metadata": {},
   "outputs": [],
   "source": [
    "perm_05 = np.random.randint(50,55,(5,5))"
   ]
  },
  {
   "cell_type": "code",
   "execution_count": 143,
   "id": "93e0ed2c",
   "metadata": {},
   "outputs": [
    {
     "data": {
      "text/plain": [
       "array([[54, 54, 50, 51, 50],\n",
       "       [54, 50, 53, 54, 50],\n",
       "       [50, 52, 51, 53, 51],\n",
       "       [53, 50, 52, 50, 51],\n",
       "       [51, 51, 51, 51, 54]])"
      ]
     },
     "execution_count": 143,
     "metadata": {},
     "output_type": "execute_result"
    }
   ],
   "source": [
    "perm_05"
   ]
  },
  {
   "cell_type": "markdown",
   "id": "71e34cc0",
   "metadata": {},
   "source": [
    "- **each time we run the same code, we will get different random results**"
   ]
  },
  {
   "cell_type": "code",
   "execution_count": 147,
   "id": "98481861",
   "metadata": {},
   "outputs": [
    {
     "data": {
      "text/plain": [
       "array([[51, 54, 52, 52, 54],\n",
       "       [54, 50, 53, 50, 51],\n",
       "       [50, 51, 54, 51, 53],\n",
       "       [50, 51, 50, 52, 50],\n",
       "       [51, 54, 52, 52, 52]])"
      ]
     },
     "execution_count": 147,
     "metadata": {},
     "output_type": "execute_result"
    }
   ],
   "source": [
    "perm_05"
   ]
  },
  {
   "cell_type": "markdown",
   "id": "264164f8",
   "metadata": {},
   "source": [
    "- **to stop getting random results we have use:   np.random.seed()**"
   ]
  },
  {
   "cell_type": "code",
   "execution_count": 151,
   "id": "0dcd994e",
   "metadata": {},
   "outputs": [],
   "source": [
    "np.random.seed(5)\n",
    "\n",
    "perm_05 = np.random.randint(50,55,(5,5))"
   ]
  },
  {
   "cell_type": "code",
   "execution_count": 153,
   "id": "29e63067",
   "metadata": {},
   "outputs": [
    {
     "data": {
      "text/plain": [
       "array([[53, 50, 51, 50, 54],\n",
       "       [53, 50, 50, 54, 51],\n",
       "       [50, 53, 54, 53, 51],\n",
       "       [54, 52, 51, 51, 52],\n",
       "       [51, 51, 51, 52, 50]])"
      ]
     },
     "execution_count": 153,
     "metadata": {},
     "output_type": "execute_result"
    }
   ],
   "source": [
    "perm_05"
   ]
  },
  {
   "cell_type": "markdown",
   "id": "6ff1e5e9",
   "metadata": {},
   "source": [
    "---"
   ]
  },
  {
   "cell_type": "markdown",
   "id": "1e4248c0",
   "metadata": {},
   "source": [
    "**2. Rand : here we dont have to mension any max and min number...all random number will be generated by itself**"
   ]
  },
  {
   "cell_type": "markdown",
   "id": "e45cfe42",
   "metadata": {},
   "source": [
    "> **Syntex :  np.random.rand(shape)**"
   ]
  },
  {
   "cell_type": "code",
   "execution_count": 158,
   "id": "f6f79cbe",
   "metadata": {},
   "outputs": [],
   "source": [
    "np.random.seed(2)\n",
    "\n",
    "saturation = np.random.rand(4,5)"
   ]
  },
  {
   "cell_type": "code",
   "execution_count": 159,
   "id": "16541740",
   "metadata": {},
   "outputs": [
    {
     "data": {
      "text/plain": [
       "array([[0.4359949 , 0.02592623, 0.54966248, 0.43532239, 0.4203678 ],\n",
       "       [0.33033482, 0.20464863, 0.61927097, 0.29965467, 0.26682728],\n",
       "       [0.62113383, 0.52914209, 0.13457995, 0.51357812, 0.18443987],\n",
       "       [0.78533515, 0.85397529, 0.49423684, 0.84656149, 0.07964548]])"
      ]
     },
     "execution_count": 159,
     "metadata": {},
     "output_type": "execute_result"
    }
   ],
   "source": [
    "saturation"
   ]
  },
  {
   "cell_type": "markdown",
   "id": "13e4831b",
   "metadata": {},
   "source": [
    "also you can change the shape of it"
   ]
  },
  {
   "cell_type": "code",
   "execution_count": 165,
   "id": "9c2b056a",
   "metadata": {},
   "outputs": [],
   "source": [
    "np.random.seed(2)\n",
    "\n",
    "saturation_01 = np.random.rand(3,4,5)"
   ]
  },
  {
   "cell_type": "code",
   "execution_count": 167,
   "id": "f490dd3b",
   "metadata": {},
   "outputs": [
    {
     "data": {
      "text/plain": [
       "array([[[0.4359949 , 0.02592623, 0.54966248, 0.43532239, 0.4203678 ],\n",
       "        [0.33033482, 0.20464863, 0.61927097, 0.29965467, 0.26682728],\n",
       "        [0.62113383, 0.52914209, 0.13457995, 0.51357812, 0.18443987],\n",
       "        [0.78533515, 0.85397529, 0.49423684, 0.84656149, 0.07964548]],\n",
       "\n",
       "       [[0.50524609, 0.0652865 , 0.42812233, 0.09653092, 0.12715997],\n",
       "        [0.59674531, 0.226012  , 0.10694568, 0.22030621, 0.34982629],\n",
       "        [0.46778748, 0.20174323, 0.64040673, 0.48306984, 0.50523672],\n",
       "        [0.38689265, 0.79363745, 0.58000418, 0.1622986 , 0.70075235]],\n",
       "\n",
       "       [[0.96455108, 0.50000836, 0.88952006, 0.34161365, 0.56714413],\n",
       "        [0.42754596, 0.43674726, 0.77655918, 0.53560417, 0.95374223],\n",
       "        [0.54420816, 0.08209492, 0.3663424 , 0.8508505 , 0.40627504],\n",
       "        [0.02720237, 0.24717724, 0.06714437, 0.99385201, 0.97058031]]])"
      ]
     },
     "execution_count": 167,
     "metadata": {},
     "output_type": "execute_result"
    }
   ],
   "source": [
    "saturation_01"
   ]
  },
  {
   "cell_type": "markdown",
   "id": "0b9ab947",
   "metadata": {},
   "source": [
    "---"
   ]
  },
  {
   "cell_type": "code",
   "execution_count": 168,
   "id": "dac84488",
   "metadata": {},
   "outputs": [],
   "source": [
    "#Example: generate values b/w 50 to 100 containg float, decimal numbers, shape = (4,5)."
   ]
  },
  {
   "cell_type": "code",
   "execution_count": 178,
   "id": "74dd1193",
   "metadata": {},
   "outputs": [],
   "source": [
    "numbers = np.random.randint(50,100,(4,5))\n",
    "decimal = np.random.rand(4,5)"
   ]
  },
  {
   "cell_type": "code",
   "execution_count": 177,
   "id": "3c3e3450",
   "metadata": {},
   "outputs": [
    {
     "data": {
      "text/plain": [
       "array([[71, 92, 99, 69, 78],\n",
       "       [83, 58, 93, 72, 74],\n",
       "       [97, 61, 51, 93, 55],\n",
       "       [57, 66, 91, 78, 65]])"
      ]
     },
     "execution_count": 177,
     "metadata": {},
     "output_type": "execute_result"
    }
   ],
   "source": [
    "numbers"
   ]
  },
  {
   "cell_type": "code",
   "execution_count": 180,
   "id": "8d42c3c5",
   "metadata": {},
   "outputs": [
    {
     "data": {
      "text/plain": [
       "array([[4.63742607e-01, 8.52288956e-01, 2.12767370e-01, 1.23587469e-04,\n",
       "        9.28962625e-02],\n",
       "       [1.75116384e-01, 5.14859163e-01, 8.79990349e-01, 7.84791918e-01,\n",
       "        5.29821174e-01],\n",
       "       [2.73837868e-01, 2.63841491e-02, 8.69708626e-01, 2.75437869e-01,\n",
       "        1.45210356e-01],\n",
       "       [5.05411634e-01, 3.35094665e-01, 1.61695429e-01, 2.19289972e-01,\n",
       "        8.36517649e-01]])"
      ]
     },
     "execution_count": 180,
     "metadata": {},
     "output_type": "execute_result"
    }
   ],
   "source": [
    "decimal"
   ]
  },
  {
   "cell_type": "markdown",
   "id": "5487cb2c",
   "metadata": {},
   "source": [
    "but i need values b/w 50 to 100"
   ]
  },
  {
   "cell_type": "code",
   "execution_count": 183,
   "id": "da31dfa3",
   "metadata": {},
   "outputs": [
    {
     "data": {
      "text/plain": [
       "array([[67.46374261, 87.85228896, 81.21276737, 84.00012359, 66.09289626],\n",
       "       [92.17511638, 98.51485916, 86.87999035, 72.78479192, 69.52982117],\n",
       "       [81.27383787, 67.02638415, 95.86970863, 58.27543787, 87.14521036],\n",
       "       [59.50541163, 71.33509467, 86.16169543, 89.21928997, 90.83651765]])"
      ]
     },
     "execution_count": 183,
     "metadata": {},
     "output_type": "execute_result"
    }
   ],
   "source": [
    "numbers+decimal"
   ]
  },
  {
   "cell_type": "markdown",
   "id": "d56ba8e0",
   "metadata": {},
   "source": [
    "---"
   ]
  },
  {
   "cell_type": "markdown",
   "id": "4a452dfd",
   "metadata": {},
   "source": [
    "**3. Choice : random values from the provided values**"
   ]
  },
  {
   "cell_type": "code",
   "execution_count": 186,
   "id": "25235aa9",
   "metadata": {},
   "outputs": [
    {
     "data": {
      "text/plain": [
       "94"
      ]
     },
     "execution_count": 186,
     "metadata": {},
     "output_type": "execute_result"
    }
   ],
   "source": [
    "# Each time you run the code, output change, it takes the values from provided values\n",
    "\n",
    "np.random.choice([5,9,4,94,94,94,4,1,58,96,4,9,4])"
   ]
  },
  {
   "cell_type": "code",
   "execution_count": 188,
   "id": "cbbfd49b",
   "metadata": {},
   "outputs": [
    {
     "data": {
      "text/plain": [
       "array([[96, 94, 96, 58, 94, 94,  4,  4,  4],\n",
       "       [ 4,  4,  9, 94,  1, 94,  9, 94,  4],\n",
       "       [ 1, 94, 94,  9,  4,  4,  9, 94,  4],\n",
       "       [ 4,  4,  4,  9,  4,  9, 96,  4,  5],\n",
       "       [94,  4, 94, 94,  4,  4, 58,  9, 96],\n",
       "       [ 4,  1,  9,  4, 94,  4,  5, 94,  4],\n",
       "       [ 4,  4,  1, 96, 94,  9,  9, 96, 96],\n",
       "       [ 9,  5, 58,  5,  4, 58, 94, 94, 94]])"
      ]
     },
     "execution_count": 188,
     "metadata": {},
     "output_type": "execute_result"
    }
   ],
   "source": [
    "#you also put some parameters\n",
    "\n",
    "np.random.choice([5,9,4,94,94,94,4,1,58,96,4,9,4], size = (8,9))"
   ]
  }
 ],
 "metadata": {
  "kernelspec": {
   "display_name": "Python 3 (ipykernel)",
   "language": "python",
   "name": "python3"
  },
  "language_info": {
   "codemirror_mode": {
    "name": "ipython",
    "version": 3
   },
   "file_extension": ".py",
   "mimetype": "text/x-python",
   "name": "python",
   "nbconvert_exporter": "python",
   "pygments_lexer": "ipython3",
   "version": "3.9.12"
  }
 },
 "nbformat": 4,
 "nbformat_minor": 5
}
