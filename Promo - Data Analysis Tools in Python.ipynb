{
 "cells": [
  {
   "cell_type": "markdown",
   "id": "cb470c06",
   "metadata": {},
   "source": [
    "## Math Tools :\n",
    "\n",
    "1. NumPy (Numerical Python ) :- Cooler and smarter casia calculator\n",
    "\n",
    "2. Math : for math\n",
    "\n",
    "3. SciPy : Advanced Scientific computations (laplace, Boltzmans, Numerical integration, Optimization)\n",
    "\n",
    "## Analysis Tools :\n",
    "\n",
    "- Pandas : Excel in Python\n",
    "\n",
    "## Viz Tools :\n",
    "\n",
    "1. Matploylib : Matlab style plotting\n",
    "2. Seaborn : Statistical Plotting\n",
    "3. Plotly : Dynamic Funky Plotting (Zoom in and stuff)\n",
    "\n",
    "## ML :\n",
    "\n",
    "- Sklearn\n",
    "\n",
    "## DL :\n",
    "\n",
    "1. Sklearn\n",
    "2. Tensorflow\n",
    "3. Keras\n",
    "4. Pytorch"
   ]
  }
 ],
 "metadata": {
  "kernelspec": {
   "display_name": "Python 3 (ipykernel)",
   "language": "python",
   "name": "python3"
  },
  "language_info": {
   "codemirror_mode": {
    "name": "ipython",
    "version": 3
   },
   "file_extension": ".py",
   "mimetype": "text/x-python",
   "name": "python",
   "nbconvert_exporter": "python",
   "pygments_lexer": "ipython3",
   "version": "3.9.12"
  }
 },
 "nbformat": 4,
 "nbformat_minor": 5
}
