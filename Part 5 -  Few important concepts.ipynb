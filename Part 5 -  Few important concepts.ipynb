{
 "cells": [
  {
   "cell_type": "markdown",
   "id": "b68e16cb",
   "metadata": {},
   "source": [
    "## Few Important concepts\n",
    "\n",
    "> ### 1. If-elif-Else Statements\n",
    "\n",
    "> ### 2. Functions\n",
    "\n",
    "> ### 3. Loop / Iterations"
   ]
  },
  {
   "cell_type": "markdown",
   "id": "3281684f",
   "metadata": {},
   "source": [
    "---"
   ]
  },
  {
   "cell_type": "markdown",
   "id": "906507b2",
   "metadata": {},
   "source": [
    "## 1. If-elif-Else Statements"
   ]
  },
  {
   "cell_type": "markdown",
   "id": "f3005801",
   "metadata": {},
   "source": [
    "Q1. Ask the user for a Porosity input and based on Poro Values, display outputs accordingly."
   ]
  },
  {
   "cell_type": "code",
   "execution_count": 2,
   "id": "d09cd580",
   "metadata": {},
   "outputs": [
    {
     "name": "stdout",
     "output_type": "stream",
     "text": [
      "Enter Porosity in % : 25\n"
     ]
    }
   ],
   "source": [
    "poro = float(input('Enter Porosity in % : '))"
   ]
  },
  {
   "cell_type": "code",
   "execution_count": 3,
   "id": "0005be7f",
   "metadata": {},
   "outputs": [
    {
     "data": {
      "text/plain": [
       "25.0"
      ]
     },
     "execution_count": 3,
     "metadata": {},
     "output_type": "execute_result"
    }
   ],
   "source": [
    "poro"
   ]
  },
  {
   "cell_type": "markdown",
   "id": "7be7da6d",
   "metadata": {},
   "source": [
    "- **Use of If and else**"
   ]
  },
  {
   "cell_type": "code",
   "execution_count": 4,
   "id": "45602f09",
   "metadata": {},
   "outputs": [
    {
     "name": "stdout",
     "output_type": "stream",
     "text": [
      "Enter Porosity in % : 30\n",
      "Porosity is >20\n"
     ]
    }
   ],
   "source": [
    "poro = float(input('Enter Porosity in % : '))\n",
    "\n",
    "if poro >= 20:\n",
    "    print('Porosity is >20')\n",
    "else:\n",
    "    print('Porosity is <20')"
   ]
  },
  {
   "cell_type": "code",
   "execution_count": 5,
   "id": "80b43b0e",
   "metadata": {},
   "outputs": [
    {
     "name": "stdout",
     "output_type": "stream",
     "text": [
      "Enter Porosity in % : 12\n",
      "Porosity is <20\n"
     ]
    }
   ],
   "source": [
    "poro = float(input('Enter Porosity in % : '))\n",
    "\n",
    "if poro >= 20:\n",
    "    print('Porosity is >20')\n",
    "else:\n",
    "    print('Porosity is <20')"
   ]
  },
  {
   "cell_type": "markdown",
   "id": "d5e2a7f8",
   "metadata": {},
   "source": [
    "- **use of if, else and elif**"
   ]
  },
  {
   "cell_type": "code",
   "execution_count": 6,
   "id": "b3d19101",
   "metadata": {},
   "outputs": [
    {
     "name": "stdout",
     "output_type": "stream",
     "text": [
      "Enter Porosity in % : 34\n",
      "This is the Porous Sandstone\n"
     ]
    }
   ],
   "source": [
    "poro = float(input('Enter Porosity in % : '))\n",
    "\n",
    "if poro >= 25:\n",
    "    print('This is the Porous Sandstone')\n",
    "    \n",
    "elif (poro>=15) and (poro<25):\n",
    "    print('This is the Tight Sandstone')\n",
    "    \n",
    "else:\n",
    "    print('May be it is Carbonate')"
   ]
  },
  {
   "cell_type": "markdown",
   "id": "1612016b",
   "metadata": {},
   "source": [
    "---"
   ]
  },
  {
   "cell_type": "markdown",
   "id": "0d153eb3",
   "metadata": {},
   "source": [
    "## 2.  Functions"
   ]
  },
  {
   "cell_type": "markdown",
   "id": "6283ef82",
   "metadata": {},
   "source": [
    "> **Whenever there is a calculations or a set of calculations that you might repeatedly use in your code or future codes, always create a function of it**\n",
    "\n",
    "\n",
    "Examples:\n",
    "\n",
    "1. Darcy's Fucntions\n",
    "\n",
    "2. Buckley Leverett's eqn"
   ]
  },
  {
   "cell_type": "code",
   "execution_count": 7,
   "id": "115e8ce1",
   "metadata": {},
   "outputs": [
    {
     "name": "stdout",
     "output_type": "stream",
     "text": [
      "121\n"
     ]
    }
   ],
   "source": [
    "x = 10\n",
    "y = x**2 + 2*x + 1\n",
    "\n",
    "print(y)"
   ]
  },
  {
   "cell_type": "markdown",
   "id": "462afe84",
   "metadata": {},
   "source": [
    "- **Functions Syntex**:\n",
    "\n",
    "\"def func_name( input1 ....):  \""
   ]
  },
  {
   "cell_type": "markdown",
   "id": "32a8fd7e",
   "metadata": {},
   "source": [
    "- **Your First Functions : Ask for x and return quadratic evaluated y.**\n",
    "\n"
   ]
  },
  {
   "cell_type": "code",
   "execution_count": 8,
   "id": "b6be127c",
   "metadata": {},
   "outputs": [],
   "source": [
    "#This is Function Definition\n",
    "def y_quadratic(x):\n",
    "    \n",
    "    y = x**2 + 2*x + 1\n",
    "    \n",
    "    return y\n",
    "    "
   ]
  },
  {
   "cell_type": "code",
   "execution_count": 9,
   "id": "b360afce",
   "metadata": {},
   "outputs": [
    {
     "data": {
      "text/plain": [
       "121"
      ]
     },
     "execution_count": 9,
     "metadata": {},
     "output_type": "execute_result"
    }
   ],
   "source": [
    "#Using the Function : Function Cell\n",
    "#as we can see we have used the single line of code to get our result\n",
    "#user dont have to look on the above codes\n",
    "y_quadratic(10)"
   ]
  },
  {
   "cell_type": "markdown",
   "id": "b9256972",
   "metadata": {},
   "source": [
    "- **There can be a function with no input and no output**"
   ]
  },
  {
   "cell_type": "code",
   "execution_count": 10,
   "id": "e9896dc0",
   "metadata": {},
   "outputs": [],
   "source": [
    "def laugher():\n",
    "    print('HAHAHAHAHA')"
   ]
  },
  {
   "cell_type": "code",
   "execution_count": 11,
   "id": "839acd95",
   "metadata": {},
   "outputs": [
    {
     "name": "stdout",
     "output_type": "stream",
     "text": [
      "HAHAHAHAHA\n"
     ]
    }
   ],
   "source": [
    "laugher()"
   ]
  },
  {
   "cell_type": "markdown",
   "id": "c437f574",
   "metadata": {},
   "source": [
    "- **DARCY Functions : Multiple Inputs, Single Outputs**\n",
    "\n",
    "> **q = kA dP /mu*L**"
   ]
  },
  {
   "cell_type": "code",
   "execution_count": 12,
   "id": "0360ed6b",
   "metadata": {},
   "outputs": [],
   "source": [
    "def darcy_calculator(k, A, dP, mu, L):\n",
    "    q =  k*A*dP/(mu*L)\n",
    "    return q"
   ]
  },
  {
   "cell_type": "code",
   "execution_count": 13,
   "id": "8e0ec643",
   "metadata": {},
   "outputs": [
    {
     "data": {
      "text/plain": [
       "3.2"
      ]
     },
     "execution_count": 13,
     "metadata": {},
     "output_type": "execute_result"
    }
   ],
   "source": [
    "darcy_calculator(0.8,200,2,10,10)"
   ]
  },
  {
   "cell_type": "markdown",
   "id": "36db3fb9",
   "metadata": {},
   "source": [
    "If i have to add or multply or divide with darcy_calculator, first we have to store the value"
   ]
  },
  {
   "cell_type": "code",
   "execution_count": 14,
   "id": "5ca3fcb6",
   "metadata": {},
   "outputs": [],
   "source": [
    "Q = darcy_calculator(0.8,200,2,10,10)"
   ]
  },
  {
   "cell_type": "code",
   "execution_count": 15,
   "id": "fbcfdab5",
   "metadata": {},
   "outputs": [
    {
     "data": {
      "text/plain": [
       "16.0"
      ]
     },
     "execution_count": 15,
     "metadata": {},
     "output_type": "execute_result"
    }
   ],
   "source": [
    "Q_new = Q*5\n",
    "\n",
    "Q_new"
   ]
  },
  {
   "cell_type": "code",
   "execution_count": 16,
   "id": "4973c470",
   "metadata": {},
   "outputs": [],
   "source": [
    "#Example\n",
    "\n",
    "def square(n):\n",
    "    n_Square = n**2\n",
    "    \n",
    "    return n_Square"
   ]
  },
  {
   "cell_type": "code",
   "execution_count": 17,
   "id": "9f15767f",
   "metadata": {},
   "outputs": [
    {
     "data": {
      "text/plain": [
       "25"
      ]
     },
     "execution_count": 17,
     "metadata": {},
     "output_type": "execute_result"
    }
   ],
   "source": [
    "square(5)"
   ]
  },
  {
   "cell_type": "markdown",
   "id": "034a4604",
   "metadata": {},
   "source": [
    "- **use of math function**"
   ]
  },
  {
   "cell_type": "code",
   "execution_count": 18,
   "id": "de28b6ec",
   "metadata": {},
   "outputs": [],
   "source": [
    "#Example : Take the value of Q_init , b and return Q = Q_init*e(-bt)\n",
    "\n",
    "#Tip : instead of 'e' use 'math.exp'\n",
    "\n",
    "import math\n",
    "\n",
    "def equation(Q_init , b, t):\n",
    "    Q = Q_init*math.exp(-b*t)\n",
    "    \n",
    "    return Q"
   ]
  },
  {
   "cell_type": "code",
   "execution_count": 19,
   "id": "06406f47",
   "metadata": {
    "scrolled": true
   },
   "outputs": [
    {
     "data": {
      "text/plain": [
       "5000.0"
      ]
     },
     "execution_count": 19,
     "metadata": {},
     "output_type": "execute_result"
    }
   ],
   "source": [
    "equation(5000, 0.05, 0)"
   ]
  },
  {
   "cell_type": "markdown",
   "id": "16649e3a",
   "metadata": {},
   "source": [
    "- **Multi-input and Multi-Output functions**"
   ]
  },
  {
   "cell_type": "markdown",
   "id": "3d84bbb1",
   "metadata": {},
   "source": [
    "> **Functional Flow Example**\n",
    "\n",
    "**'''fw = 1/(1+(uw*kro)/(uo*krw))'''**\n",
    "\n",
    "**'''krw = sw^3'''**\n",
    "\n",
    "**'''kro = (1-sw)^3'''**"
   ]
  },
  {
   "cell_type": "code",
   "execution_count": 20,
   "id": "c6caf11c",
   "metadata": {},
   "outputs": [],
   "source": [
    "def fracFlow_calculator(sw=1, mu_w =10, mu_o = 150):\n",
    "    \n",
    "    kro = sw**3\n",
    "    \n",
    "    so = 1-sw\n",
    "    \n",
    "    krw = sw**3\n",
    "    \n",
    "    #also created a dict.\n",
    "    \n",
    "    rel_perm_details = { 'sw': sw , 'mu_w': mu_w ,'mu_o': mu_o}\n",
    "    \n",
    "    fw = 1/(1 + (mu_w * kro)/(mu_o * krw))\n",
    "    \n",
    "    return rel_perm_details , fw"
   ]
  },
  {
   "cell_type": "code",
   "execution_count": 21,
   "id": "fa60bc5a",
   "metadata": {
    "scrolled": true
   },
   "outputs": [
    {
     "data": {
      "text/plain": [
       "({'sw': 1, 'mu_w': 10, 'mu_o': 150}, 0.9375)"
      ]
     },
     "execution_count": 21,
     "metadata": {},
     "output_type": "execute_result"
    }
   ],
   "source": [
    "fracFlow_calculator()"
   ]
  },
  {
   "cell_type": "markdown",
   "id": "82f43384",
   "metadata": {},
   "source": [
    "**if i want to change the value i can direct give command in return output**"
   ]
  },
  {
   "cell_type": "code",
   "execution_count": 22,
   "id": "5a0ac558",
   "metadata": {},
   "outputs": [
    {
     "data": {
      "text/plain": [
       "({'sw': 3, 'mu_w': 19, 'mu_o': 200}, 0.9132420091324202)"
      ]
     },
     "execution_count": 22,
     "metadata": {},
     "output_type": "execute_result"
    }
   ],
   "source": [
    "fracFlow_calculator(sw= 3, mu_w =19, mu_o = 200 )"
   ]
  },
  {
   "cell_type": "markdown",
   "id": "53d6a856",
   "metadata": {},
   "source": [
    "**want to store the data input**"
   ]
  },
  {
   "cell_type": "code",
   "execution_count": 23,
   "id": "495fe18b",
   "metadata": {},
   "outputs": [],
   "source": [
    "new_details1 = fracFlow_calculator(sw= 3, mu_w =19, mu_o = 200 )[0]\n",
    "fw1 =  fracFlow_calculator(sw= 3, mu_w =19, mu_o = 200 )[1]"
   ]
  },
  {
   "cell_type": "code",
   "execution_count": 24,
   "id": "e17f2d30",
   "metadata": {},
   "outputs": [
    {
     "data": {
      "text/plain": [
       "{'sw': 3, 'mu_w': 19, 'mu_o': 200}"
      ]
     },
     "execution_count": 24,
     "metadata": {},
     "output_type": "execute_result"
    }
   ],
   "source": [
    "new_details1"
   ]
  },
  {
   "cell_type": "code",
   "execution_count": 25,
   "id": "d09116fe",
   "metadata": {},
   "outputs": [
    {
     "data": {
      "text/plain": [
       "0.9132420091324202"
      ]
     },
     "execution_count": 25,
     "metadata": {},
     "output_type": "execute_result"
    }
   ],
   "source": [
    "fw1"
   ]
  },
  {
   "cell_type": "markdown",
   "id": "2a12efe5",
   "metadata": {},
   "source": [
    "---"
   ]
  },
  {
   "cell_type": "markdown",
   "id": "6580937d",
   "metadata": {},
   "source": [
    "## 3. Loop/Iteration"
   ]
  },
  {
   "cell_type": "markdown",
   "id": "2ec7580b",
   "metadata": {},
   "source": [
    "> **for loop**"
   ]
  },
  {
   "cell_type": "code",
   "execution_count": 26,
   "id": "7d888147",
   "metadata": {},
   "outputs": [],
   "source": [
    "my_number_list = list(range(10, 90))"
   ]
  },
  {
   "cell_type": "code",
   "execution_count": 27,
   "id": "19631817",
   "metadata": {},
   "outputs": [
    {
     "name": "stdout",
     "output_type": "stream",
     "text": [
      "[10, 11, 12, 13, 14, 15, 16, 17, 18, 19, 20, 21, 22, 23, 24, 25, 26, 27, 28, 29, 30, 31, 32, 33, 34, 35, 36, 37, 38, 39, 40, 41, 42, 43, 44, 45, 46, 47, 48, 49, 50, 51, 52, 53, 54, 55, 56, 57, 58, 59, 60, 61, 62, 63, 64, 65, 66, 67, 68, 69, 70, 71, 72, 73, 74, 75, 76, 77, 78, 79, 80, 81, 82, 83, 84, 85, 86, 87, 88, 89]\n"
     ]
    }
   ],
   "source": [
    "print(my_number_list)"
   ]
  },
  {
   "cell_type": "markdown",
   "id": "d2598164",
   "metadata": {},
   "source": [
    "print the sqaure of all number in the above list"
   ]
  },
  {
   "cell_type": "code",
   "execution_count": 52,
   "id": "5156cbf9",
   "metadata": {},
   "outputs": [
    {
     "name": "stdout",
     "output_type": "stream",
     "text": [
      "100\t121\t144\t169\t196\t225\t256\t289\t324\t361\t400\t441\t484\t529\t576\t625\t676\t729\t784\t841\t900\t961\t1024\t1089\t1156\t1225\t1296\t1369\t1444\t1521\t1600\t1681\t1764\t1849\t1936\t2025\t2116\t2209\t2304\t2401\t2500\t2601\t2704\t2809\t2916\t3025\t3136\t3249\t3364\t3481\t3600\t3721\t3844\t3969\t4096\t4225\t4356\t4489\t4624\t4761\t4900\t5041\t5184\t5329\t5476\t5625\t5776\t5929\t6084\t6241\t6400\t6561\t6724\t6889\t7056\t7225\t7396\t7569\t7744\t7921\t"
     ]
    }
   ],
   "source": [
    "for each_number in my_number_list:\n",
    "    print(each_number**2, end = '\\t')\n",
    "    \n",
    "#As you can see it taking square of each component"
   ]
  },
  {
   "cell_type": "code",
   "execution_count": 29,
   "id": "e576ccfa",
   "metadata": {},
   "outputs": [
    {
     "name": "stdout",
     "output_type": "stream",
     "text": [
      "1000\t1331\t1728\t2197\t2744\t3375\t4096\t4913\t5832\t6859\t8000\t9261\t10648\t12167\t13824\t15625\t17576\t19683\t21952\t24389\t27000\t29791\t32768\t35937\t39304\t42875\t46656\t50653\t54872\t59319\t64000\t68921\t74088\t79507\t85184\t91125\t97336\t103823\t110592\t117649\t125000\t132651\t140608\t148877\t157464\t166375\t175616\t185193\t195112\t205379\t216000\t226981\t238328\t250047\t262144\t274625\t287496\t300763\t314432\t328509\t343000\t357911\t373248\t389017\t405224\t421875\t438976\t456533\t474552\t493039\t512000\t531441\t551368\t571787\t592704\t614125\t636056\t658503\t681472\t704969\t"
     ]
    }
   ],
   "source": [
    "#Example: cube each number in the above list\n",
    "\n",
    "for cube_num in my_number_list:\n",
    "    print(cube_num**3, end = '\\t')"
   ]
  },
  {
   "cell_type": "code",
   "execution_count": 30,
   "id": "533b94c4",
   "metadata": {},
   "outputs": [
    {
     "name": "stdout",
     "output_type": "stream",
     "text": [
      "True\n",
      "False\n",
      "True\n",
      "False\n",
      "True\n",
      "False\n",
      "True\n",
      "False\n",
      "True\n",
      "False\n",
      "True\n",
      "False\n",
      "True\n",
      "False\n",
      "True\n",
      "False\n",
      "True\n",
      "False\n",
      "True\n",
      "False\n",
      "True\n",
      "False\n",
      "True\n",
      "False\n",
      "True\n",
      "False\n",
      "True\n",
      "False\n",
      "True\n",
      "False\n",
      "True\n",
      "False\n",
      "True\n",
      "False\n",
      "True\n",
      "False\n",
      "True\n",
      "False\n",
      "True\n",
      "False\n",
      "True\n",
      "False\n",
      "True\n",
      "False\n",
      "True\n",
      "False\n",
      "True\n",
      "False\n",
      "True\n",
      "False\n",
      "True\n",
      "False\n",
      "True\n",
      "False\n",
      "True\n",
      "False\n",
      "True\n",
      "False\n",
      "True\n",
      "False\n",
      "True\n",
      "False\n",
      "True\n",
      "False\n",
      "True\n",
      "False\n",
      "True\n",
      "False\n",
      "True\n",
      "False\n",
      "True\n",
      "False\n",
      "True\n",
      "False\n",
      "True\n",
      "False\n",
      "True\n",
      "False\n",
      "True\n",
      "False\n"
     ]
    }
   ],
   "source": [
    "#Example: from number list, check whether it is odd or even and\n",
    "#print true or false accordingly\n",
    "\n",
    "for check in my_number_list:\n",
    "    \n",
    "    if check%2 ==0:\n",
    "        print(True)\n",
    "    else:\n",
    "        print(False)\n",
    "    "
   ]
  },
  {
   "cell_type": "code",
   "execution_count": 32,
   "id": "c6b27957",
   "metadata": {},
   "outputs": [],
   "source": [
    "#Example: \n",
    "my_sin = []\n",
    "my_cos = []\n",
    "\n",
    "for v in my_number_list:\n",
    "    sin_v = math.sin(v)\n",
    "    cos_v = math.cos(v)\n",
    "    \n",
    "    my_sin.append(sin_v)\n",
    "    my_cos.append(cos_v)"
   ]
  },
  {
   "cell_type": "code",
   "execution_count": 51,
   "id": "4e746c9c",
   "metadata": {},
   "outputs": [
    {
     "name": "stdout",
     "output_type": "stream",
     "text": [
      "[-0.5440211108893698, -0.9999902065507035, -0.5365729180004349, 0.4201670368266409, 0.9906073556948704, 0.6502878401571168, -0.2879033166650653, -0.9613974918795568, -0.7509872467716762, 0.14987720966295234, 0.9129452507276277, 0.8366556385360561, -0.008851309290403876, -0.8462204041751706, -0.9055783620066238, -0.13235175009777303, 0.7625584504796027, 0.956375928404503, 0.27090578830786904, -0.6636338842129675, -0.9880316240928618, -0.404037645323065, 0.5514266812416906, 0.9999118601072672, 0.5290826861200238, -0.428182669496151, -0.9917788534431158, -0.6435381333569995, 0.2963685787093853, 0.9637953862840878, 0.7451131604793488, -0.158622668804709, -0.9165215479156338, -0.8317747426285983, 0.017701925105413577, 0.8509035245341184, 0.9017883476488092, 0.123573122745224, -0.7682546613236668, -0.9537526527594719, -0.26237485370392877, 0.6702291758433747, 0.9866275920404853, 0.39592515018183416, -0.5587890488516163, -0.9997551733586199, -0.5215510020869119, 0.43616475524782494, 0.9928726480845371, 0.6367380071391379, -0.3048106211022167, -0.9661177700083929, -0.7391806966492228, 0.16735570030280691, 0.9200260381967907, 0.8268286794901034, -0.026551154023966794, -0.8555199789753223, -0.8979276806892913, -0.11478481378318722, 0.7738906815578891, 0.9510546532543747, 0.25382336276203626, -0.6767719568873076, -0.9851462604682474, -0.38778163540943045, 0.5661076368981803, 0.9995201585807313, 0.5139784559875352, -0.4441126687075084, -0.9938886539233752, -0.6298879942744539, 0.31322878243308516, 0.9683644611001854, 0.7331903200732922, -0.1760756199485871, -0.9234584470040598, -0.8218178366308225, 0.03539830273366068, 0.8600694058124532]\n"
     ]
    }
   ],
   "source": [
    "print(my_sin)"
   ]
  },
  {
   "cell_type": "code",
   "execution_count": 50,
   "id": "4cca3db6",
   "metadata": {},
   "outputs": [
    {
     "name": "stdout",
     "output_type": "stream",
     "text": [
      "[-0.8390715290764524, 0.004425697988050785, 0.8438539587324921, 0.9074467814501962, 0.1367372182078336, -0.7596879128588213, -0.9576594803233847, -0.27516333805159693, 0.6603167082440802, 0.9887046181866692, 0.40808206181339196, -0.5477292602242684, -0.9999608263946371, -0.5328330203333975, 0.424179007336997, 0.9912028118634736, 0.6469193223286404, -0.2921388087338362, -0.9626058663135666, -0.7480575296890004, 0.15425144988758405, 0.9147423578045313, 0.8342233605065102, -0.013276747223059479, -0.8485702747846052, -0.9036922050915067, -0.12796368962740468, 0.7654140519453434, 0.9550736440472949, 0.26664293235993725, -0.6669380616522619, -0.9873392775238264, -0.39998531498835127, 0.5551133015206257, 0.9998433086476912, 0.5253219888177297, -0.4321779448847783, -0.9923354691509287, -0.6401443394691997, 0.3005925437436371, 0.9649660284921133, 0.7421541968137826, -0.16299078079570548, -0.9182827862121189, -0.8293098328631502, 0.022126756261955736, 0.853220107722584, 0.8998668269691937, 0.11918013544881928, -0.7710802229758452, -0.9524129804151563, -0.25810163593826746, 0.6735071623235862, 0.9858965815825497, 0.39185723042955, -0.562453851238172, -0.99964745596635, -0.5177697997895051, 0.4401430224960407, 0.9933903797222716, 0.6333192030862999, -0.3090227281660707, -0.9672505882738824, -0.7361927182273159, 0.17171734183077755, 0.9217512697247493, 0.8243313311075577, -0.03097503173121646, -0.8578030932449878, -0.8959709467909631, -0.11038724383904756, 0.7766859820216312, 0.9496776978825432, 0.24954011797333814, -0.6800234955873388, -0.9843766433940419, -0.38369844494974187, 0.569750334265312, 0.9993732836951247, 0.5101770449416689]\n"
     ]
    }
   ],
   "source": [
    "print(my_cos)"
   ]
  },
  {
   "cell_type": "markdown",
   "id": "dbc23423",
   "metadata": {},
   "source": [
    "Also check the length of sin and cos, you will find out both are same."
   ]
  },
  {
   "cell_type": "code",
   "execution_count": 40,
   "id": "4a526c3b",
   "metadata": {},
   "outputs": [
    {
     "data": {
      "text/plain": [
       "80"
      ]
     },
     "execution_count": 40,
     "metadata": {},
     "output_type": "execute_result"
    }
   ],
   "source": [
    "len(my_sin)"
   ]
  },
  {
   "cell_type": "code",
   "execution_count": 41,
   "id": "ce690807",
   "metadata": {},
   "outputs": [
    {
     "data": {
      "text/plain": [
       "80"
      ]
     },
     "execution_count": 41,
     "metadata": {},
     "output_type": "execute_result"
    }
   ],
   "source": [
    "len(my_cos)"
   ]
  },
  {
   "cell_type": "code",
   "execution_count": 42,
   "id": "fa7613a6",
   "metadata": {},
   "outputs": [],
   "source": [
    "my_quad = []\n",
    "\n",
    "for x in my_number_list:\n",
    "    x_quad = y_quadratic(x)\n",
    "    \n",
    "    my_quad.append(x_quad)"
   ]
  },
  {
   "cell_type": "code",
   "execution_count": 49,
   "id": "05bd5704",
   "metadata": {},
   "outputs": [
    {
     "name": "stdout",
     "output_type": "stream",
     "text": [
      "[121, 144, 169, 196, 225, 256, 289, 324, 361, 400, 441, 484, 529, 576, 625, 676, 729, 784, 841, 900, 961, 1024, 1089, 1156, 1225, 1296, 1369, 1444, 1521, 1600, 1681, 1764, 1849, 1936, 2025, 2116, 2209, 2304, 2401, 2500, 2601, 2704, 2809, 2916, 3025, 3136, 3249, 3364, 3481, 3600, 3721, 3844, 3969, 4096, 4225, 4356, 4489, 4624, 4761, 4900, 5041, 5184, 5329, 5476, 5625, 5776, 5929, 6084, 6241, 6400, 6561, 6724, 6889, 7056, 7225, 7396, 7569, 7744, 7921, 8100]\n"
     ]
    }
   ],
   "source": [
    "print(my_quad)"
   ]
  }
 ],
 "metadata": {
  "kernelspec": {
   "display_name": "Python 3 (ipykernel)",
   "language": "python",
   "name": "python3"
  },
  "language_info": {
   "codemirror_mode": {
    "name": "ipython",
    "version": 3
   },
   "file_extension": ".py",
   "mimetype": "text/x-python",
   "name": "python",
   "nbconvert_exporter": "python",
   "pygments_lexer": "ipython3",
   "version": "3.9.12"
  }
 },
 "nbformat": 4,
 "nbformat_minor": 5
}
