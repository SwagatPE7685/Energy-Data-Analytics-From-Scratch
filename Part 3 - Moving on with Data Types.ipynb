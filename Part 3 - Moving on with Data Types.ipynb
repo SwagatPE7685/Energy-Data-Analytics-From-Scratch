{
 "cells": [
  {
   "cell_type": "markdown",
   "id": "3fdcd372",
   "metadata": {},
   "source": [
    "**Mutability**"
   ]
  },
  {
   "cell_type": "code",
   "execution_count": 1,
   "id": "d1d57d2b",
   "metadata": {},
   "outputs": [],
   "source": [
    "rock_details = [27, 220, 'LST', 'F123', 'JC']"
   ]
  },
  {
   "cell_type": "markdown",
   "id": "b5da33f3",
   "metadata": {},
   "source": [
    "> **The Value at Every index can be traeted as a separate variable in alist**"
   ]
  },
  {
   "cell_type": "markdown",
   "id": "3a3875f3",
   "metadata": {},
   "source": [
    "> **And Beacuase a list is mutable/modifyable :The Variable assignment is allowed.**"
   ]
  },
  {
   "cell_type": "code",
   "execution_count": 2,
   "id": "060828d2",
   "metadata": {},
   "outputs": [
    {
     "data": {
      "text/plain": [
       "'LST'"
      ]
     },
     "execution_count": 2,
     "metadata": {},
     "output_type": "execute_result"
    }
   ],
   "source": [
    "rock_details[2]"
   ]
  },
  {
   "cell_type": "code",
   "execution_count": 3,
   "id": "5d7297de",
   "metadata": {},
   "outputs": [],
   "source": [
    "rock_details[2] = 'SST'"
   ]
  },
  {
   "cell_type": "code",
   "execution_count": 4,
   "id": "66a5fa41",
   "metadata": {},
   "outputs": [
    {
     "data": {
      "text/plain": [
       "[27, 220, 'SST', 'F123', 'JC']"
      ]
     },
     "execution_count": 4,
     "metadata": {},
     "output_type": "execute_result"
    }
   ],
   "source": [
    "#LST is replaced with SST\n",
    "rock_details"
   ]
  },
  {
   "cell_type": "markdown",
   "id": "9a1c5f17",
   "metadata": {},
   "source": [
    "---\n",
    "---"
   ]
  },
  {
   "cell_type": "markdown",
   "id": "9a2f54b6",
   "metadata": {},
   "source": [
    "## String : A list of Characters enclosed within ' ' or \" \" ."
   ]
  },
  {
   "cell_type": "markdown",
   "id": "97705446",
   "metadata": {},
   "source": [
    "> **Difference b/w a string and a list : -**\n",
    "\n",
    "1. The way both are created : '''[a, b] Vs \"ab\" '''\n",
    "\n",
    "2. Mutability of Lists Vs Immutability of Strings"
   ]
  },
  {
   "cell_type": "markdown",
   "id": "edf86ed0",
   "metadata": {},
   "source": [
    ">**Common B/w Both :-**\n",
    "\n",
    "1. Indexing\n",
    "2. Slicing"
   ]
  },
  {
   "cell_type": "code",
   "execution_count": 5,
   "id": "3d870dfd",
   "metadata": {},
   "outputs": [],
   "source": [
    "rock_name_str = \"Sandstone\"\n",
    "\n",
    "rock_name_lst = ['s', 'a', 'n', 'd', 's', 't', 'o', 'n', 'e']"
   ]
  },
  {
   "cell_type": "markdown",
   "id": "a373c350",
   "metadata": {},
   "source": [
    "---"
   ]
  },
  {
   "cell_type": "markdown",
   "id": "210360e8",
   "metadata": {},
   "source": [
    "**Immutability of Strings**"
   ]
  },
  {
   "cell_type": "code",
   "execution_count": 6,
   "id": "166152a2",
   "metadata": {},
   "outputs": [],
   "source": [
    "rock_name_lst.append('h')"
   ]
  },
  {
   "cell_type": "code",
   "execution_count": 7,
   "id": "3dad0d22",
   "metadata": {},
   "outputs": [
    {
     "data": {
      "text/plain": [
       "'h'"
      ]
     },
     "execution_count": 7,
     "metadata": {},
     "output_type": "execute_result"
    }
   ],
   "source": [
    "rock_name_lst[-1]"
   ]
  },
  {
   "cell_type": "code",
   "execution_count": 8,
   "id": "a63009d0",
   "metadata": {},
   "outputs": [],
   "source": [
    "rock_name_lst[-1] = 'k'"
   ]
  },
  {
   "cell_type": "code",
   "execution_count": 9,
   "id": "4b25a5bd",
   "metadata": {},
   "outputs": [
    {
     "data": {
      "text/plain": [
       "['s', 'a', 'n', 'd', 's', 't', 'o', 'n', 'e', 'k']"
      ]
     },
     "execution_count": 9,
     "metadata": {},
     "output_type": "execute_result"
    }
   ],
   "source": [
    "rock_name_lst"
   ]
  },
  {
   "cell_type": "markdown",
   "id": "e8220c12",
   "metadata": {},
   "source": [
    "> python doesnot allow us to make any changes in the str, there are some example below."
   ]
  },
  {
   "cell_type": "code",
   "execution_count": 10,
   "id": "0979a5fe",
   "metadata": {},
   "outputs": [
    {
     "ename": "TypeError",
     "evalue": "'str' object does not support item assignment",
     "output_type": "error",
     "traceback": [
      "\u001b[1;31m---------------------------------------------------------------------------\u001b[0m",
      "\u001b[1;31mTypeError\u001b[0m                                 Traceback (most recent call last)",
      "Input \u001b[1;32mIn [10]\u001b[0m, in \u001b[0;36m<cell line: 1>\u001b[1;34m()\u001b[0m\n\u001b[1;32m----> 1\u001b[0m rock_name_str[\u001b[38;5;241m-\u001b[39m\u001b[38;5;241m1\u001b[39m] \u001b[38;5;241m=\u001b[39m \u001b[38;5;124m'\u001b[39m\u001b[38;5;124mP\u001b[39m\u001b[38;5;124m'\u001b[39m\n",
      "\u001b[1;31mTypeError\u001b[0m: 'str' object does not support item assignment"
     ]
    }
   ],
   "source": [
    "rock_name_str[-1] = 'P'"
   ]
  },
  {
   "cell_type": "code",
   "execution_count": 11,
   "id": "4bcb8de4",
   "metadata": {},
   "outputs": [
    {
     "ename": "AttributeError",
     "evalue": "'str' object has no attribute 'append'",
     "output_type": "error",
     "traceback": [
      "\u001b[1;31m---------------------------------------------------------------------------\u001b[0m",
      "\u001b[1;31mAttributeError\u001b[0m                            Traceback (most recent call last)",
      "Input \u001b[1;32mIn [11]\u001b[0m, in \u001b[0;36m<cell line: 1>\u001b[1;34m()\u001b[0m\n\u001b[1;32m----> 1\u001b[0m \u001b[43mrock_name_str\u001b[49m\u001b[38;5;241;43m.\u001b[39;49m\u001b[43mappend\u001b[49m[m]\n",
      "\u001b[1;31mAttributeError\u001b[0m: 'str' object has no attribute 'append'"
     ]
    }
   ],
   "source": [
    "rock_name_str.append[m]"
   ]
  },
  {
   "cell_type": "markdown",
   "id": "c4f273bf",
   "metadata": {},
   "source": [
    "---"
   ]
  },
  {
   "cell_type": "markdown",
   "id": "5694237a",
   "metadata": {},
   "source": [
    "**Slicing and Indexing in a strings**"
   ]
  },
  {
   "cell_type": "code",
   "execution_count": 12,
   "id": "43ab02f5",
   "metadata": {},
   "outputs": [
    {
     "data": {
      "text/plain": [
       "'Sandstone'"
      ]
     },
     "execution_count": 12,
     "metadata": {},
     "output_type": "execute_result"
    }
   ],
   "source": [
    "rock_name_str"
   ]
  },
  {
   "cell_type": "code",
   "execution_count": 13,
   "id": "42327362",
   "metadata": {},
   "outputs": [
    {
     "data": {
      "text/plain": [
       "'and'"
      ]
     },
     "execution_count": 13,
     "metadata": {},
     "output_type": "execute_result"
    }
   ],
   "source": [
    "'and'"
   ]
  },
  {
   "cell_type": "markdown",
   "id": "acf054f7",
   "metadata": {},
   "source": [
    "Q. Slice only \"nd\" from rock_name_str."
   ]
  },
  {
   "cell_type": "code",
   "execution_count": 14,
   "id": "bef8330f",
   "metadata": {},
   "outputs": [
    {
     "data": {
      "text/plain": [
       "'nd'"
      ]
     },
     "execution_count": 14,
     "metadata": {},
     "output_type": "execute_result"
    }
   ],
   "source": [
    "rock_name_str[2 : 3+1 : ]"
   ]
  },
  {
   "cell_type": "markdown",
   "id": "3761040c",
   "metadata": {},
   "source": [
    "Q. Print every alternate element or character in rock_name_str."
   ]
  },
  {
   "cell_type": "code",
   "execution_count": 15,
   "id": "a5aca8aa",
   "metadata": {},
   "outputs": [
    {
     "data": {
      "text/plain": [
       "'Snsoe'"
      ]
     },
     "execution_count": 15,
     "metadata": {},
     "output_type": "execute_result"
    }
   ],
   "source": [
    "rock_name_str[0 : 9 : 2]"
   ]
  },
  {
   "cell_type": "markdown",
   "id": "7a1937db",
   "metadata": {},
   "source": [
    "Default : '''my_str[  :  :  ]'''\n",
    "\n",
    "- start : 0th index\n",
    "\n",
    "- stop : Last + 1 index\n",
    "\n",
    "- step : 1step\n",
    "\n",
    "As we can see below, it is working as default program, we can only provide step and it gives us the full result"
   ]
  },
  {
   "cell_type": "code",
   "execution_count": 16,
   "id": "91d27e3c",
   "metadata": {},
   "outputs": [
    {
     "data": {
      "text/plain": [
       "'Sandstone'"
      ]
     },
     "execution_count": 16,
     "metadata": {},
     "output_type": "execute_result"
    }
   ],
   "source": [
    "rock_name_str[ :  : ]"
   ]
  },
  {
   "cell_type": "markdown",
   "id": "e45f6e0a",
   "metadata": {},
   "source": [
    "Q. Reverse the string."
   ]
  },
  {
   "cell_type": "code",
   "execution_count": 17,
   "id": "24e4aebe",
   "metadata": {},
   "outputs": [
    {
     "data": {
      "text/plain": [
       "'enotsdnaS'"
      ]
     },
     "execution_count": 17,
     "metadata": {},
     "output_type": "execute_result"
    }
   ],
   "source": [
    "rock_name_str[-1 :  : -1]"
   ]
  },
  {
   "cell_type": "code",
   "execution_count": 18,
   "id": "7bed2289",
   "metadata": {},
   "outputs": [
    {
     "data": {
      "text/plain": [
       "'enotsdnaS'"
      ]
     },
     "execution_count": 18,
     "metadata": {},
     "output_type": "execute_result"
    }
   ],
   "source": [
    "rock_name_str[ :  : -1]"
   ]
  },
  {
   "cell_type": "markdown",
   "id": "e32ab61a",
   "metadata": {},
   "source": [
    "Q. Pallindrome Check (means looks same from front and from back)"
   ]
  },
  {
   "cell_type": "code",
   "execution_count": 19,
   "id": "dba3264d",
   "metadata": {},
   "outputs": [],
   "source": [
    "name1 ='NAMAN'"
   ]
  },
  {
   "cell_type": "code",
   "execution_count": 20,
   "id": "fb2ddd97",
   "metadata": {},
   "outputs": [
    {
     "data": {
      "text/plain": [
       "True"
      ]
     },
     "execution_count": 20,
     "metadata": {},
     "output_type": "execute_result"
    }
   ],
   "source": [
    "name1_reverse = name1[-1: :-1]\n",
    "\n",
    "name1_reverse == name1"
   ]
  },
  {
   "cell_type": "markdown",
   "id": "d9c9fd21",
   "metadata": {},
   "source": [
    "---"
   ]
  },
  {
   "cell_type": "markdown",
   "id": "c495c141",
   "metadata": {},
   "source": [
    ">**Others ways to Create a strings**"
   ]
  },
  {
   "cell_type": "code",
   "execution_count": 21,
   "id": "bcf985ff",
   "metadata": {},
   "outputs": [],
   "source": [
    "fullname = 'Swagat' + ' ' + 'Pradhan'"
   ]
  },
  {
   "cell_type": "code",
   "execution_count": 22,
   "id": "2905885d",
   "metadata": {},
   "outputs": [
    {
     "data": {
      "text/plain": [
       "'Swagat Pradhan'"
      ]
     },
     "execution_count": 22,
     "metadata": {},
     "output_type": "execute_result"
    }
   ],
   "source": [
    "fullname"
   ]
  },
  {
   "cell_type": "code",
   "execution_count": 23,
   "id": "26c5dbe1",
   "metadata": {
    "scrolled": true
   },
   "outputs": [
    {
     "name": "stdout",
     "output_type": "stream",
     "text": [
      "Swagat Pradhan\n"
     ]
    }
   ],
   "source": [
    "Firstname = 'Swagat'\n",
    "Secondname = 'Pradhan'\n",
    "Separator = ' '\n",
    "\n",
    "fullname1 = Firstname + Separator +  Secondname\n",
    "\n",
    "print(fullname1)"
   ]
  },
  {
   "cell_type": "markdown",
   "id": "81c72d4a",
   "metadata": {},
   "source": [
    "---"
   ]
  },
  {
   "cell_type": "markdown",
   "id": "53e44131",
   "metadata": {},
   "source": [
    "**f-Strings - Formatted strings**"
   ]
  },
  {
   "cell_type": "markdown",
   "id": "ed81ef72",
   "metadata": {},
   "source": [
    ">Helps to include other variable into a strings."
   ]
  },
  {
   "cell_type": "code",
   "execution_count": 24,
   "id": "c1e761bc",
   "metadata": {},
   "outputs": [],
   "source": [
    "# Example 1:\n",
    "#Statement : The rock name is SST, porosity is 25 % and permeabilty is 175 mD.\n",
    "#rock status\n",
    "\n",
    "rock_name = 'SST'\n",
    "\n",
    "poro = 25\n",
    "\n",
    "perm = 175"
   ]
  },
  {
   "cell_type": "code",
   "execution_count": 25,
   "id": "062651f1",
   "metadata": {},
   "outputs": [
    {
     "name": "stdout",
     "output_type": "stream",
     "text": [
      "The rock name is SST, porosity is 25% and permeabilty is 175 mD\n"
     ]
    }
   ],
   "source": [
    "statement = f'The rock name is {rock_name}, porosity is {poro}% and permeabilty is {perm} mD'\n",
    "\n",
    "print(statement)"
   ]
  },
  {
   "cell_type": "markdown",
   "id": "0b3c24cd",
   "metadata": {},
   "source": [
    "---"
   ]
  },
  {
   "cell_type": "code",
   "execution_count": 26,
   "id": "82b159fb",
   "metadata": {},
   "outputs": [],
   "source": [
    "# Example 2:\n",
    "# Statement: Hey, my porosities list is : [25, 21]. \n",
    "# And my permeability list is [120, 175]\n",
    "\n",
    "my_poros = [25, 21]\n",
    "\n",
    "my_perms = [120, 175]\n",
    "\n",
    "liths = ['SST' , 'SSTB']"
   ]
  },
  {
   "cell_type": "code",
   "execution_count": 27,
   "id": "77d2143d",
   "metadata": {},
   "outputs": [
    {
     "name": "stdout",
     "output_type": "stream",
     "text": [
      "Hey, my porosities list is : [25, 21].\n",
      "And my permeability list is [120, 175].\n"
     ]
    }
   ],
   "source": [
    "statement = f'Hey, my porosities list is : {my_poros}.\\nAnd my permeability list is {my_perms}.'\n",
    "\n",
    "print(statement)"
   ]
  },
  {
   "cell_type": "markdown",
   "id": "4cf54fae",
   "metadata": {},
   "source": [
    "---"
   ]
  },
  {
   "cell_type": "code",
   "execution_count": 28,
   "id": "e452afba",
   "metadata": {},
   "outputs": [],
   "source": [
    "#Example 3:\n",
    "#Statement: The porosity of SSTA is 25 and the perm os SSTA is 120\n",
    "\n",
    "indx_no =0\n",
    "\n",
    "my_poros = [25, 21]\n",
    "\n",
    "my_perms = [120, 175]\n",
    "\n",
    "liths = ['SST' , 'SSTB']"
   ]
  },
  {
   "cell_type": "code",
   "execution_count": 29,
   "id": "c59f0f13",
   "metadata": {},
   "outputs": [
    {
     "name": "stdout",
     "output_type": "stream",
     "text": [
      "The porosity of SSTB is 21 and the perm of SSTB is 175.\n"
     ]
    }
   ],
   "source": [
    "indx_no1 = 1\n",
    "\n",
    "statement = f'The porosity of {liths[indx_no1]} is {my_poros[indx_no1]} and the perm of {liths[indx_no1]} is {my_perms[indx_no1]}.'\n",
    "\n",
    "print(statement)"
   ]
  },
  {
   "cell_type": "markdown",
   "id": "2376a415",
   "metadata": {},
   "source": [
    "---"
   ]
  },
  {
   "cell_type": "markdown",
   "id": "212c6537",
   "metadata": {},
   "source": [
    "**Other functionality on a strings**"
   ]
  },
  {
   "cell_type": "markdown",
   "id": "6054cdc0",
   "metadata": {},
   "source": [
    "**1**"
   ]
  },
  {
   "cell_type": "code",
   "execution_count": 30,
   "id": "3979713e",
   "metadata": {},
   "outputs": [],
   "source": [
    "my_field_name = 'cambay'"
   ]
  },
  {
   "cell_type": "code",
   "execution_count": 31,
   "id": "c38a20e9",
   "metadata": {},
   "outputs": [
    {
     "data": {
      "text/plain": [
       "'Cambay'"
      ]
     },
     "execution_count": 31,
     "metadata": {},
     "output_type": "execute_result"
    }
   ],
   "source": [
    "my_field_name.capitalize()"
   ]
  },
  {
   "cell_type": "markdown",
   "id": "ab0af9f5",
   "metadata": {},
   "source": [
    "**2**"
   ]
  },
  {
   "cell_type": "code",
   "execution_count": 32,
   "id": "3d1a5204",
   "metadata": {},
   "outputs": [
    {
     "data": {
      "text/plain": [
       "True"
      ]
     },
     "execution_count": 32,
     "metadata": {},
     "output_type": "execute_result"
    }
   ],
   "source": [
    "my_field_name.endswith('y')"
   ]
  },
  {
   "cell_type": "code",
   "execution_count": 33,
   "id": "a6e8b055",
   "metadata": {},
   "outputs": [
    {
     "data": {
      "text/plain": [
       "False"
      ]
     },
     "execution_count": 33,
     "metadata": {},
     "output_type": "execute_result"
    }
   ],
   "source": [
    "my_field_name.endswith('x')"
   ]
  },
  {
   "cell_type": "markdown",
   "id": "825ae910",
   "metadata": {},
   "source": [
    "**3**"
   ]
  },
  {
   "cell_type": "code",
   "execution_count": 34,
   "id": "b146c16b",
   "metadata": {
    "scrolled": true
   },
   "outputs": [
    {
     "data": {
      "text/plain": [
       "6"
      ]
     },
     "execution_count": 34,
     "metadata": {},
     "output_type": "execute_result"
    }
   ],
   "source": [
    "len(my_field_name)"
   ]
  },
  {
   "cell_type": "markdown",
   "id": "8bab92e3",
   "metadata": {},
   "source": [
    "**4**"
   ]
  },
  {
   "cell_type": "code",
   "execution_count": 35,
   "id": "75a42b7a",
   "metadata": {},
   "outputs": [
    {
     "data": {
      "text/plain": [
       "True"
      ]
     },
     "execution_count": 35,
     "metadata": {},
     "output_type": "execute_result"
    }
   ],
   "source": [
    "my_field_name.isalnum()"
   ]
  },
  {
   "cell_type": "markdown",
   "id": "005b2f11",
   "metadata": {},
   "source": [
    "**5**"
   ]
  },
  {
   "cell_type": "code",
   "execution_count": 36,
   "id": "a0170d2c",
   "metadata": {},
   "outputs": [
    {
     "data": {
      "text/plain": [
       "2"
      ]
     },
     "execution_count": 36,
     "metadata": {},
     "output_type": "execute_result"
    }
   ],
   "source": [
    "my_field_name.find('m')"
   ]
  },
  {
   "cell_type": "code",
   "execution_count": 37,
   "id": "c672bd8d",
   "metadata": {},
   "outputs": [],
   "source": [
    "my_rock_list = 'SSTA, SSTB, LSTB, LSTA'"
   ]
  },
  {
   "cell_type": "markdown",
   "id": "b8c4b67b",
   "metadata": {},
   "source": [
    "**6**"
   ]
  },
  {
   "cell_type": "code",
   "execution_count": 38,
   "id": "e5db8382",
   "metadata": {},
   "outputs": [
    {
     "data": {
      "text/plain": [
       "['SSTA,', 'SSTB,', 'LSTB,', 'LSTA']"
      ]
     },
     "execution_count": 38,
     "metadata": {},
     "output_type": "execute_result"
    }
   ],
   "source": [
    "my_rock_list.split(' ')"
   ]
  },
  {
   "cell_type": "code",
   "execution_count": 39,
   "id": "119f88bf",
   "metadata": {},
   "outputs": [],
   "source": [
    "myfullname = 'Swagat Kumar pradhan'"
   ]
  },
  {
   "cell_type": "code",
   "execution_count": 40,
   "id": "9c9f6724",
   "metadata": {},
   "outputs": [
    {
     "data": {
      "text/plain": [
       "['Swagat', 'Kumar', 'pradhan']"
      ]
     },
     "execution_count": 40,
     "metadata": {},
     "output_type": "execute_result"
    }
   ],
   "source": [
    "myfullname.split(' ')"
   ]
  },
  {
   "cell_type": "code",
   "execution_count": 41,
   "id": "bf4d1fdd",
   "metadata": {},
   "outputs": [],
   "source": [
    "my_name_components = myfullname.split(' ')\n",
    "\n",
    "myFname = my_name_components[0]\n",
    "myMname = my_name_components[1]\n",
    "myLname = my_name_components[-1]"
   ]
  },
  {
   "cell_type": "code",
   "execution_count": 42,
   "id": "6247a6f5",
   "metadata": {},
   "outputs": [
    {
     "data": {
      "text/plain": [
       "'Swagat'"
      ]
     },
     "execution_count": 42,
     "metadata": {},
     "output_type": "execute_result"
    }
   ],
   "source": [
    "myFname"
   ]
  },
  {
   "cell_type": "code",
   "execution_count": 43,
   "id": "c260b34e",
   "metadata": {},
   "outputs": [
    {
     "data": {
      "text/plain": [
       "'Kumar'"
      ]
     },
     "execution_count": 43,
     "metadata": {},
     "output_type": "execute_result"
    }
   ],
   "source": [
    "myMname"
   ]
  },
  {
   "cell_type": "code",
   "execution_count": 44,
   "id": "9f6b2672",
   "metadata": {},
   "outputs": [
    {
     "data": {
      "text/plain": [
       "'pradhan'"
      ]
     },
     "execution_count": 44,
     "metadata": {},
     "output_type": "execute_result"
    }
   ],
   "source": [
    "myLname"
   ]
  },
  {
   "cell_type": "markdown",
   "id": "42105f49",
   "metadata": {},
   "source": [
    "**Above code is all about NLP - Natural Language Processing : Text Processing**"
   ]
  },
  {
   "cell_type": "code",
   "execution_count": 45,
   "id": "50e44d15",
   "metadata": {},
   "outputs": [],
   "source": [
    "#Example\n",
    "rock_status = 'MyRockPoro_25_MyRockPerms_ 175_MyRockLith_SST'"
   ]
  },
  {
   "cell_type": "code",
   "execution_count": 46,
   "id": "03aa952a",
   "metadata": {},
   "outputs": [
    {
     "data": {
      "text/plain": [
       "['MyRockPoro', '25', 'MyRockPerms', ' 175', 'MyRockLith', 'SST']"
      ]
     },
     "execution_count": 46,
     "metadata": {},
     "output_type": "execute_result"
    }
   ],
   "source": [
    "rock_status.split('_')"
   ]
  },
  {
   "cell_type": "code",
   "execution_count": 47,
   "id": "623cc468",
   "metadata": {},
   "outputs": [
    {
     "data": {
      "text/plain": [
       "'MyRockPerms'"
      ]
     },
     "execution_count": 47,
     "metadata": {},
     "output_type": "execute_result"
    }
   ],
   "source": [
    "#you can use this for getting component\n",
    "rock_status.split('_')[2]"
   ]
  },
  {
   "cell_type": "code",
   "execution_count": 48,
   "id": "74f08082",
   "metadata": {},
   "outputs": [
    {
     "data": {
      "text/plain": [
       "'25'"
      ]
     },
     "execution_count": 48,
     "metadata": {},
     "output_type": "execute_result"
    }
   ],
   "source": [
    "rock_status.split('_')[1]"
   ]
  },
  {
   "cell_type": "code",
   "execution_count": 49,
   "id": "f4b63750",
   "metadata": {},
   "outputs": [
    {
     "data": {
      "text/plain": [
       "'SST'"
      ]
     },
     "execution_count": 49,
     "metadata": {},
     "output_type": "execute_result"
    }
   ],
   "source": [
    "rock_status.split('_')[5]"
   ]
  },
  {
   "cell_type": "code",
   "execution_count": 50,
   "id": "1941aad9",
   "metadata": {},
   "outputs": [],
   "source": [
    "#replace by changing into int\n",
    "\n",
    "rock_status_mutable = rock_status.split('_')\n",
    "\n",
    "rock_status_mutable[1] = int(rock_status_mutable[1])\n",
    "rock_status_mutable[3] = int(rock_status_mutable[3])\n"
   ]
  },
  {
   "cell_type": "code",
   "execution_count": 51,
   "id": "d14228e3",
   "metadata": {},
   "outputs": [
    {
     "data": {
      "text/plain": [
       "['MyRockPoro', 25, 'MyRockPerms', 175, 'MyRockLith', 'SST']"
      ]
     },
     "execution_count": 51,
     "metadata": {},
     "output_type": "execute_result"
    }
   ],
   "source": [
    "rock_status_mutable"
   ]
  },
  {
   "cell_type": "markdown",
   "id": "d027700e",
   "metadata": {},
   "source": [
    "## END----"
   ]
  }
 ],
 "metadata": {
  "kernelspec": {
   "display_name": "Python 3 (ipykernel)",
   "language": "python",
   "name": "python3"
  },
  "language_info": {
   "codemirror_mode": {
    "name": "ipython",
    "version": 3
   },
   "file_extension": ".py",
   "mimetype": "text/x-python",
   "name": "python",
   "nbconvert_exporter": "python",
   "pygments_lexer": "ipython3",
   "version": "3.9.12"
  }
 },
 "nbformat": 4,
 "nbformat_minor": 5
}
