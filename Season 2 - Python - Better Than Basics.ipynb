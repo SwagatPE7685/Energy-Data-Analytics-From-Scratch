{
 "cells": [
  {
   "cell_type": "markdown",
   "id": "7ac7ceae",
   "metadata": {},
   "source": [
    "## Agenda\n",
    "\n",
    "1. Data Structures\n",
    "\n",
    "- Lists (Sesson 2)\n",
    "- Strings\n",
    "- Tuples\n",
    "- Set\n",
    "- Dictionary\n",
    "\n",
    "2. If- ELse Statements - \"Flow of Control\"\n",
    "3. Raising Exceptions - try and Except."
   ]
  },
  {
   "cell_type": "markdown",
   "id": "1eacdef1",
   "metadata": {},
   "source": [
    "## 1. Lists "
   ]
  },
  {
   "cell_type": "markdown",
   "id": "9b2ce3de",
   "metadata": {},
   "source": [
    "'''[a, b, 100, 200, 0.5]'''\n",
    "> **enclosed ina sqaure bracket.**\n"
   ]
  },
  {
   "cell_type": "code",
   "execution_count": 1,
   "id": "917c45c7",
   "metadata": {},
   "outputs": [
    {
     "data": {
      "text/plain": [
       "[1, 2, 3]"
      ]
     },
     "execution_count": 1,
     "metadata": {},
     "output_type": "execute_result"
    }
   ],
   "source": [
    "#Approach 1 : use the keyword list\n",
    "list([1, 2, 3])"
   ]
  },
  {
   "cell_type": "code",
   "execution_count": 3,
   "id": "078bc7e0",
   "metadata": {},
   "outputs": [
    {
     "data": {
      "text/plain": [
       "[1, 2, 3, 0.5, 100, 'Hey']"
      ]
     },
     "execution_count": 3,
     "metadata": {},
     "output_type": "execute_result"
    }
   ],
   "source": [
    "#Approach 2: Simple []\n",
    "[1, 2, 3, 0.5, 100,'Hey']"
   ]
  },
  {
   "cell_type": "markdown",
   "id": "a79bd2ac",
   "metadata": {},
   "source": [
    "> **Caution: Lists are slow in python**"
   ]
  },
  {
   "cell_type": "code",
   "execution_count": 5,
   "id": "1414ec35",
   "metadata": {},
   "outputs": [
    {
     "data": {
      "text/plain": [
       "range(0, 100)"
      ]
     },
     "execution_count": 5,
     "metadata": {},
     "output_type": "execute_result"
    }
   ],
   "source": [
    "range(100)"
   ]
  },
  {
   "cell_type": "markdown",
   "id": "caaeddf0",
   "metadata": {},
   "source": [
    ">**range(N) : creates alist of numbers from 0 to N-1, but it is a hidden list**\n",
    "\n",
    ">to convert range to list : type cast it : list(range(N))"
   ]
  },
  {
   "cell_type": "code",
   "execution_count": 10,
   "id": "59dfce95",
   "metadata": {},
   "outputs": [
    {
     "data": {
      "text/plain": [
       "(range, list)"
      ]
     },
     "execution_count": 10,
     "metadata": {},
     "output_type": "execute_result"
    }
   ],
   "source": [
    "type(range(5)), type(list(range(5)))"
   ]
  },
  {
   "cell_type": "code",
   "execution_count": 9,
   "id": "a2dedd9c",
   "metadata": {
    "scrolled": true
   },
   "outputs": [
    {
     "name": "stdout",
     "output_type": "stream",
     "text": [
      "[1, 2, 3, 4, 5, 6, 7, 8, 9, 10, 11, 12, 13, 14, 15, 16, 17, 18, 19, 20, 21, 22, 23, 24, 25, 26, 27, 28, 29, 30, 31, 32, 33, 34, 35, 36, 37, 38, 39, 40, 41, 42, 43, 44, 45, 46, 47, 48, 49, 50, 51, 52, 53, 54, 55, 56, 57, 58, 59, 60, 61, 62, 63, 64, 65, 66, 67, 68, 69, 70, 71, 72, 73, 74, 75, 76, 77, 78, 79, 80, 81, 82, 83, 84, 85, 86, 87, 88, 89, 90, 91, 92, 93, 94, 95, 96, 97, 98, 99, 100]\n"
     ]
    }
   ],
   "source": [
    "print(list(range(1, 100+1)))"
   ]
  },
  {
   "cell_type": "code",
   "execution_count": 15,
   "id": "46258a95",
   "metadata": {},
   "outputs": [
    {
     "name": "stdout",
     "output_type": "stream",
     "text": [
      "[50, 51, 52, 53, 54, 55, 56, 57, 58, 59, 60, 61, 62, 63, 64, 65, 66, 67, 68, 69, 70, 71, 72, 73, 74, 75, 76, 77, 78, 79, 80, 81, 82, 83, 84, 85, 86, 87, 88, 89, 90, 91, 92, 93, 94, 95, 96, 97, 98, 99, 100]\n"
     ]
    }
   ],
   "source": [
    "print(list(range(50, 100+1)))"
   ]
  },
  {
   "cell_type": "markdown",
   "id": "8a9defc2",
   "metadata": {},
   "source": [
    "> **Assigning a list to a variable**"
   ]
  },
  {
   "cell_type": "code",
   "execution_count": 22,
   "id": "5c9922bf",
   "metadata": {},
   "outputs": [],
   "source": [
    "sst1_porosities = [0.23, 0.22, 0.25, 0.29]\n",
    "sst1_perms = [110, 201, 301, 236, 506, 269]"
   ]
  },
  {
   "cell_type": "markdown",
   "id": "44e00c59",
   "metadata": {},
   "source": [
    ">**Checking length of the list**"
   ]
  },
  {
   "cell_type": "code",
   "execution_count": 18,
   "id": "a8bfc1a3",
   "metadata": {},
   "outputs": [
    {
     "data": {
      "text/plain": [
       "4"
      ]
     },
     "execution_count": 18,
     "metadata": {},
     "output_type": "execute_result"
    }
   ],
   "source": [
    "len(sst1_porosities)"
   ]
  },
  {
   "cell_type": "code",
   "execution_count": 21,
   "id": "77caa41c",
   "metadata": {
    "scrolled": true
   },
   "outputs": [
    {
     "data": {
      "text/plain": [
       "6"
      ]
     },
     "execution_count": 21,
     "metadata": {},
     "output_type": "execute_result"
    }
   ],
   "source": [
    "len(sst1_perms)"
   ]
  },
  {
   "cell_type": "markdown",
   "id": "096ff2e3",
   "metadata": {},
   "source": [
    ">**for Comparing in the list, use \"==\"**"
   ]
  },
  {
   "cell_type": "markdown",
   "id": "c9cde263",
   "metadata": {},
   "source": [
    "Q. Compare the length of sandstone1_porosity and sandstone2_perms?"
   ]
  },
  {
   "cell_type": "code",
   "execution_count": 23,
   "id": "77a667c2",
   "metadata": {},
   "outputs": [],
   "source": [
    "sandstone1_porosity = [59,26,26,28,2,9,1,40,7]\n",
    "sandstone2_perms = [5,89,94,61,84,1,8100,658,1,8,9,.5,4,98]"
   ]
  },
  {
   "cell_type": "code",
   "execution_count": 24,
   "id": "b6b742ef",
   "metadata": {},
   "outputs": [
    {
     "data": {
      "text/plain": [
       "9"
      ]
     },
     "execution_count": 24,
     "metadata": {},
     "output_type": "execute_result"
    }
   ],
   "source": [
    "len(sandstone1_porosity)"
   ]
  },
  {
   "cell_type": "code",
   "execution_count": 25,
   "id": "9c0d871c",
   "metadata": {},
   "outputs": [
    {
     "data": {
      "text/plain": [
       "14"
      ]
     },
     "execution_count": 25,
     "metadata": {},
     "output_type": "execute_result"
    }
   ],
   "source": [
    "len(sandstone2_perms)"
   ]
  },
  {
   "cell_type": "code",
   "execution_count": 26,
   "id": "f759521e",
   "metadata": {},
   "outputs": [
    {
     "data": {
      "text/plain": [
       "False"
      ]
     },
     "execution_count": 26,
     "metadata": {},
     "output_type": "execute_result"
    }
   ],
   "source": [
    "len(sandstone1_porosity) == len(sandstone2_perms)"
   ]
  },
  {
   "cell_type": "markdown",
   "id": "415439a7",
   "metadata": {},
   "source": [
    ">**A list is an ORDERED arrangement of numbers**\n",
    "\n",
    "> roll number ~ index\n",
    "\n",
    "> in Python : index begins at 0\n"
   ]
  },
  {
   "cell_type": "code",
   "execution_count": 27,
   "id": "fd152e4b",
   "metadata": {},
   "outputs": [
    {
     "data": {
      "text/plain": [
       "0.22"
      ]
     },
     "execution_count": 27,
     "metadata": {},
     "output_type": "execute_result"
    }
   ],
   "source": [
    "roll_no = 1\n",
    "sst1_porosities[roll_no]"
   ]
  },
  {
   "cell_type": "code",
   "execution_count": 28,
   "id": "a4308036",
   "metadata": {},
   "outputs": [
    {
     "data": {
      "text/plain": [
       "0.25"
      ]
     },
     "execution_count": 28,
     "metadata": {},
     "output_type": "execute_result"
    }
   ],
   "source": [
    "roll_no = 2\n",
    "sst1_porosities[roll_no]"
   ]
  },
  {
   "cell_type": "code",
   "execution_count": 29,
   "id": "338a5f6b",
   "metadata": {},
   "outputs": [
    {
     "data": {
      "text/plain": [
       "0.29"
      ]
     },
     "execution_count": 29,
     "metadata": {},
     "output_type": "execute_result"
    }
   ],
   "source": [
    "roll_no = 3\n",
    "sst1_porosities[roll_no]"
   ]
  },
  {
   "cell_type": "code",
   "execution_count": 30,
   "id": "ae65cc37",
   "metadata": {},
   "outputs": [
    {
     "data": {
      "text/plain": [
       "236"
      ]
     },
     "execution_count": 30,
     "metadata": {},
     "output_type": "execute_result"
    }
   ],
   "source": [
    "roll_no = 3\n",
    "sst1_perms[roll_no]"
   ]
  },
  {
   "cell_type": "code",
   "execution_count": 32,
   "id": "809ebb7e",
   "metadata": {},
   "outputs": [
    {
     "data": {
      "text/plain": [
       "110"
      ]
     },
     "execution_count": 32,
     "metadata": {},
     "output_type": "execute_result"
    }
   ],
   "source": [
    "roll_no = 0\n",
    "sst1_perms[roll_no]"
   ]
  },
  {
   "cell_type": "code",
   "execution_count": 33,
   "id": "f98e2548",
   "metadata": {},
   "outputs": [
    {
     "data": {
      "text/plain": [
       "0.5"
      ]
     },
     "execution_count": 33,
     "metadata": {},
     "output_type": "execute_result"
    }
   ],
   "source": [
    "roll_no = 11\n",
    "sandstone2_perms[roll_no]"
   ]
  },
  {
   "cell_type": "code",
   "execution_count": 35,
   "id": "77fc1197",
   "metadata": {},
   "outputs": [
    {
     "data": {
      "text/plain": [
       "1"
      ]
     },
     "execution_count": 35,
     "metadata": {},
     "output_type": "execute_result"
    }
   ],
   "source": [
    "roll_no = 8\n",
    "sandstone2_perms[roll_no]"
   ]
  },
  {
   "cell_type": "markdown",
   "id": "db63a1f0",
   "metadata": {},
   "source": [
    "> **The rollno (index no) for the Nth element in a list : N-1**"
   ]
  },
  {
   "cell_type": "markdown",
   "id": "61730b88",
   "metadata": {},
   "source": [
    "Q. find out the element at the 98th position?"
   ]
  },
  {
   "cell_type": "markdown",
   "id": "e0fbaff7",
   "metadata": {},
   "source": [
    "list1 = list(range(1,101))\n",
    "\n",
    "'''Position number 1 is index number 0'''\n",
    "\n",
    "'''Position number N is Index number N - 1'''"
   ]
  },
  {
   "cell_type": "code",
   "execution_count": 46,
   "id": "916755b9",
   "metadata": {},
   "outputs": [],
   "source": [
    "list1 = list(range(1,101))"
   ]
  },
  {
   "cell_type": "code",
   "execution_count": 60,
   "id": "65319c00",
   "metadata": {},
   "outputs": [
    {
     "data": {
      "text/plain": [
       "98"
      ]
     },
     "execution_count": 60,
     "metadata": {},
     "output_type": "execute_result"
    }
   ],
   "source": [
    "position = 98\n",
    "\n",
    "element = position - 1\n",
    "\n",
    "list1[element]"
   ]
  },
  {
   "cell_type": "markdown",
   "id": "6d803d42",
   "metadata": {},
   "source": [
    "---"
   ]
  },
  {
   "cell_type": "markdown",
   "id": "bf87ccae",
   "metadata": {},
   "source": [
    "Q. what is the element at:\n",
    "index no. = 150\n",
    "\n",
    "list2 = list(range(101, 201))"
   ]
  },
  {
   "cell_type": "code",
   "execution_count": 52,
   "id": "916ce5fa",
   "metadata": {},
   "outputs": [],
   "source": [
    "list2 = list(range(101, 201))"
   ]
  },
  {
   "cell_type": "markdown",
   "id": "2edb92ab",
   "metadata": {},
   "source": [
    "This will give us an\n",
    "error because index is limited to 100th position"
   ]
  },
  {
   "cell_type": "code",
   "execution_count": 55,
   "id": "64dadb4a",
   "metadata": {},
   "outputs": [
    {
     "ename": "IndexError",
     "evalue": "list index out of range",
     "output_type": "error",
     "traceback": [
      "\u001b[1;31m---------------------------------------------------------------------------\u001b[0m",
      "\u001b[1;31mIndexError\u001b[0m                                Traceback (most recent call last)",
      "Input \u001b[1;32mIn [55]\u001b[0m, in \u001b[0;36m<cell line: 5>\u001b[1;34m()\u001b[0m\n\u001b[0;32m      1\u001b[0m position \u001b[38;5;241m=\u001b[39m \u001b[38;5;241m150\u001b[39m\n\u001b[0;32m      3\u001b[0m index \u001b[38;5;241m=\u001b[39m position \u001b[38;5;241m-\u001b[39m \u001b[38;5;241m1\u001b[39m\n\u001b[1;32m----> 5\u001b[0m \u001b[43mlist2\u001b[49m\u001b[43m[\u001b[49m\u001b[43mindex\u001b[49m\u001b[43m]\u001b[49m\n",
      "\u001b[1;31mIndexError\u001b[0m: list index out of range"
     ]
    }
   ],
   "source": [
    "position = 150\n",
    "\n",
    "index = position - 1\n",
    "\n",
    "list2[index]"
   ]
  },
  {
   "cell_type": "markdown",
   "id": "366c0c8c",
   "metadata": {},
   "source": [
    "Lets do it again within 100th position"
   ]
  },
  {
   "cell_type": "code",
   "execution_count": 58,
   "id": "b22145b2",
   "metadata": {},
   "outputs": [
    {
     "data": {
      "text/plain": [
       "152"
      ]
     },
     "execution_count": 58,
     "metadata": {},
     "output_type": "execute_result"
    }
   ],
   "source": [
    "position = 50\n",
    "\n",
    "element = position + 1\n",
    "\n",
    "list2[element]"
   ]
  },
  {
   "cell_type": "markdown",
   "id": "06cfa0c8",
   "metadata": {},
   "source": [
    "---"
   ]
  },
  {
   "cell_type": "markdown",
   "id": "5fbfc976",
   "metadata": {},
   "source": [
    ">**Slicing and indexing in a list**\n",
    "\n",
    ">**Accessing values from a string**\n",
    "\n",
    ">**'''mylist[start_index : stop_index :step]'''**\n",
    "\n",
    "> Stop index is not included but start index is included."
   ]
  },
  {
   "cell_type": "markdown",
   "id": "e22fbf13",
   "metadata": {},
   "source": [
    "Q. Slice out a element from index range : 51 to 71 in list2"
   ]
  },
  {
   "cell_type": "code",
   "execution_count": 61,
   "id": "2ecdea84",
   "metadata": {},
   "outputs": [
    {
     "name": "stdout",
     "output_type": "stream",
     "text": [
      "[101, 102, 103, 104, 105, 106, 107, 108, 109, 110, 111, 112, 113, 114, 115, 116, 117, 118, 119, 120, 121, 122, 123, 124, 125, 126, 127, 128, 129, 130, 131, 132, 133, 134, 135, 136, 137, 138, 139, 140, 141, 142, 143, 144, 145, 146, 147, 148, 149, 150, 151, 152, 153, 154, 155, 156, 157, 158, 159, 160, 161, 162, 163, 164, 165, 166, 167, 168, 169, 170, 171, 172, 173, 174, 175, 176, 177, 178, 179, 180, 181, 182, 183, 184, 185, 186, 187, 188, 189, 190, 191, 192, 193, 194, 195, 196, 197, 198, 199, 200]\n"
     ]
    }
   ],
   "source": [
    "print(list2)"
   ]
  },
  {
   "cell_type": "code",
   "execution_count": 62,
   "id": "c01e524c",
   "metadata": {},
   "outputs": [
    {
     "name": "stdout",
     "output_type": "stream",
     "text": [
      "[152, 153, 154, 155, 156, 157, 158, 159, 160, 161, 162, 163, 164, 165, 166, 167, 168, 169, 170, 171]\n"
     ]
    }
   ],
   "source": [
    "st_idx = 51\n",
    "end_idx = 71\n",
    "\n",
    "print(list2[st_idx : end_idx : ])"
   ]
  },
  {
   "cell_type": "markdown",
   "id": "6f617b39",
   "metadata": {},
   "source": [
    "As we can see 71 th position is not there, we have to add \"+ 1\" in the end_inx to get the result.\n"
   ]
  },
  {
   "cell_type": "code",
   "execution_count": 65,
   "id": "9a7321aa",
   "metadata": {},
   "outputs": [
    {
     "name": "stdout",
     "output_type": "stream",
     "text": [
      "[152, 153, 154, 155, 156, 157, 158, 159, 160, 161, 162, 163, 164, 165, 166, 167, 168, 169, 170, 171, 172]\n"
     ]
    }
   ],
   "source": [
    "st_idx = 51\n",
    "end_idx = 71\n",
    "\n",
    "print(list2[st_idx : end_idx + 1 : ])"
   ]
  },
  {
   "cell_type": "markdown",
   "id": "75f964df",
   "metadata": {},
   "source": [
    "---"
   ]
  },
  {
   "cell_type": "code",
   "execution_count": 80,
   "id": "3062dda1",
   "metadata": {},
   "outputs": [
    {
     "name": "stdout",
     "output_type": "stream",
     "text": [
      "[0, 1, 2, 3, 4, 5, 6, 7, 8, 9, 10]\n"
     ]
    }
   ],
   "source": [
    "list3 = list(range(0, 11))\n",
    "print(list3)"
   ]
  },
  {
   "cell_type": "markdown",
   "id": "8bc2501f",
   "metadata": {},
   "source": [
    "Q. st_idx = 4 and end_idx = 9"
   ]
  },
  {
   "cell_type": "code",
   "execution_count": 83,
   "id": "bed6092d",
   "metadata": {},
   "outputs": [
    {
     "name": "stdout",
     "output_type": "stream",
     "text": [
      "[4, 5, 6, 7, 8, 9]\n"
     ]
    }
   ],
   "source": [
    "st_idx = 4\n",
    "end_idx = 9\n",
    "\n",
    "print(list3[st_idx : end_idx + 1: ])"
   ]
  },
  {
   "cell_type": "markdown",
   "id": "3051a176",
   "metadata": {},
   "source": [
    "---"
   ]
  },
  {
   "cell_type": "markdown",
   "id": "5605efaa",
   "metadata": {},
   "source": [
    "> **Lets deal with Step parameters**"
   ]
  },
  {
   "cell_type": "markdown",
   "id": "34e47ed6",
   "metadata": {},
   "source": [
    "Q. i = 0 and f = 10 and print alternate elements only."
   ]
  },
  {
   "cell_type": "code",
   "execution_count": 85,
   "id": "d900fa34",
   "metadata": {},
   "outputs": [
    {
     "data": {
      "text/plain": [
       "[0, 1, 2, 3, 4, 5, 6, 7, 8, 9, 10]"
      ]
     },
     "execution_count": 85,
     "metadata": {},
     "output_type": "execute_result"
    }
   ],
   "source": [
    "list3"
   ]
  },
  {
   "cell_type": "code",
   "execution_count": 86,
   "id": "de218b0a",
   "metadata": {},
   "outputs": [
    {
     "data": {
      "text/plain": [
       "[0, 1, 2, 3, 4, 5, 6, 7, 8, 9, 10]"
      ]
     },
     "execution_count": 86,
     "metadata": {},
     "output_type": "execute_result"
    }
   ],
   "source": [
    "list3[0:10+1:]"
   ]
  },
  {
   "cell_type": "code",
   "execution_count": 87,
   "id": "754d43fd",
   "metadata": {},
   "outputs": [
    {
     "data": {
      "text/plain": [
       "[0, 1, 2, 3, 4, 5, 6, 7, 8, 9, 10]"
      ]
     },
     "execution_count": 87,
     "metadata": {},
     "output_type": "execute_result"
    }
   ],
   "source": [
    "list3[0:10+1:1]"
   ]
  },
  {
   "cell_type": "markdown",
   "id": "d6bece5a",
   "metadata": {},
   "source": [
    "> By defualt the step size is \"1\" if i pick step size to \"2\"....."
   ]
  },
  {
   "cell_type": "code",
   "execution_count": 88,
   "id": "551be1a7",
   "metadata": {},
   "outputs": [
    {
     "data": {
      "text/plain": [
       "[0, 2, 4, 6, 8, 10]"
      ]
     },
     "execution_count": 88,
     "metadata": {},
     "output_type": "execute_result"
    }
   ],
   "source": [
    "list3[0:10+1:2]"
   ]
  },
  {
   "cell_type": "markdown",
   "id": "0e90d288",
   "metadata": {},
   "source": [
    "---"
   ]
  },
  {
   "cell_type": "code",
   "execution_count": 97,
   "id": "2867ca51",
   "metadata": {},
   "outputs": [],
   "source": [
    "list4 = list(range(1, 21))"
   ]
  },
  {
   "cell_type": "code",
   "execution_count": 90,
   "id": "80fa5342",
   "metadata": {},
   "outputs": [
    {
     "data": {
      "text/plain": [
       "[1, 2, 3, 4, 5, 6, 7, 8, 9, 10, 11, 12, 13, 14, 15, 16, 17, 18, 19, 20]"
      ]
     },
     "execution_count": 90,
     "metadata": {},
     "output_type": "execute_result"
    }
   ],
   "source": [
    "list4"
   ]
  },
  {
   "cell_type": "markdown",
   "id": "7a44b31e",
   "metadata": {},
   "source": [
    "Q. in list4 start with the first element and include the entire list : pick one drop 2."
   ]
  },
  {
   "cell_type": "code",
   "execution_count": 111,
   "id": "7775787a",
   "metadata": {},
   "outputs": [
    {
     "name": "stdout",
     "output_type": "stream",
     "text": [
      "[1, 4, 7, 10, 13, 16, 19]\n"
     ]
    }
   ],
   "source": [
    "list4[0:21+1:3]"
   ]
  },
  {
   "cell_type": "markdown",
   "id": "8c7c5787",
   "metadata": {},
   "source": [
    "---"
   ]
  },
  {
   "cell_type": "markdown",
   "id": "140aaa4a",
   "metadata": {},
   "source": [
    ">**let\"s deal with negative indices**\n",
    "\n",
    ">last element is at index no. is \"-1\""
   ]
  },
  {
   "cell_type": "code",
   "execution_count": 112,
   "id": "84cd4d0e",
   "metadata": {},
   "outputs": [
    {
     "data": {
      "text/plain": [
       "20"
      ]
     },
     "execution_count": 112,
     "metadata": {},
     "output_type": "execute_result"
    }
   ],
   "source": [
    "list4[-1]"
   ]
  },
  {
   "cell_type": "markdown",
   "id": "7e0047c0",
   "metadata": {},
   "source": [
    "Q. in list1 start at index no. -1 and use a step of -1 and print."
   ]
  },
  {
   "cell_type": "code",
   "execution_count": 113,
   "id": "f3404231",
   "metadata": {},
   "outputs": [
    {
     "name": "stdout",
     "output_type": "stream",
     "text": [
      "[1, 2, 3, 4, 5, 6, 7, 8, 9, 10, 11, 12, 13, 14, 15, 16, 17, 18, 19, 20, 21, 22, 23, 24, 25, 26, 27, 28, 29, 30, 31, 32, 33, 34, 35, 36, 37, 38, 39, 40, 41, 42, 43, 44, 45, 46, 47, 48, 49, 50, 51, 52, 53, 54, 55, 56, 57, 58, 59, 60, 61, 62, 63, 64, 65, 66, 67, 68, 69, 70, 71, 72, 73, 74, 75, 76, 77, 78, 79, 80, 81, 82, 83, 84, 85, 86, 87, 88, 89, 90, 91, 92, 93, 94, 95, 96, 97, 98, 99, 100]\n"
     ]
    }
   ],
   "source": [
    "print(list1)"
   ]
  },
  {
   "cell_type": "code",
   "execution_count": 114,
   "id": "9848c165",
   "metadata": {
    "scrolled": true
   },
   "outputs": [
    {
     "name": "stdout",
     "output_type": "stream",
     "text": [
      "[100, 99, 98, 97, 96, 95, 94, 93, 92, 91, 90, 89, 88, 87, 86, 85, 84, 83, 82, 81, 80, 79, 78, 77, 76, 75, 74, 73, 72, 71, 70, 69, 68, 67, 66, 65, 64, 63, 62, 61, 60, 59, 58, 57, 56, 55, 54, 53, 52, 51, 50, 49, 48, 47, 46, 45, 44, 43, 42, 41, 40, 39, 38, 37, 36, 35, 34, 33, 32, 31, 30, 29, 28, 27, 26, 25, 24, 23, 22, 21, 20, 19, 18, 17, 16, 15, 14, 13, 12, 11, 10, 9, 8, 7, 6, 5, 4, 3, 2, 1]\n"
     ]
    }
   ],
   "source": [
    "#it will reversed the order of list.\n",
    "print(list1[-1: :-1])"
   ]
  },
  {
   "cell_type": "markdown",
   "id": "ab59d8a1",
   "metadata": {},
   "source": [
    "---"
   ]
  },
  {
   "cell_type": "markdown",
   "id": "3baa9429",
   "metadata": {},
   "source": [
    "Q. list = [20,30,30,20], reverse this list"
   ]
  },
  {
   "cell_type": "code",
   "execution_count": 115,
   "id": "e3e05055",
   "metadata": {},
   "outputs": [],
   "source": [
    "list5 = (20, 30, 30, 20)"
   ]
  },
  {
   "cell_type": "code",
   "execution_count": 116,
   "id": "1dd4c6e2",
   "metadata": {},
   "outputs": [
    {
     "name": "stdout",
     "output_type": "stream",
     "text": [
      "(20, 30, 30, 20)\n"
     ]
    }
   ],
   "source": [
    "print(list5)"
   ]
  },
  {
   "cell_type": "code",
   "execution_count": 117,
   "id": "7cdceb94",
   "metadata": {},
   "outputs": [
    {
     "name": "stdout",
     "output_type": "stream",
     "text": [
      "(20, 30, 30, 20)\n"
     ]
    }
   ],
   "source": [
    "print(list5[-1: :-1])"
   ]
  },
  {
   "cell_type": "markdown",
   "id": "278c89e3",
   "metadata": {},
   "source": [
    "check whether it is true or not"
   ]
  },
  {
   "cell_type": "code",
   "execution_count": 121,
   "id": "a85caa62",
   "metadata": {},
   "outputs": [
    {
     "name": "stdout",
     "output_type": "stream",
     "text": [
      "True\n"
     ]
    }
   ],
   "source": [
    "list5 = (20, 30, 30, 20)\n",
    "\n",
    "list5_reversed = list5[-1: :-1]\n",
    "\n",
    "print(list5 == list5_reversed)"
   ]
  },
  {
   "cell_type": "markdown",
   "id": "c330c0d5",
   "metadata": {},
   "source": [
    "---"
   ]
  },
  {
   "cell_type": "markdown",
   "id": "fdfaecd6",
   "metadata": {},
   "source": [
    ">**lets look at List Methods : To work with lists**"
   ]
  },
  {
   "cell_type": "code",
   "execution_count": 123,
   "id": "1b41380b",
   "metadata": {},
   "outputs": [
    {
     "data": {
      "text/plain": [
       "[0.23, 0.22, 0.25, 0.29]"
      ]
     },
     "execution_count": 123,
     "metadata": {},
     "output_type": "execute_result"
    }
   ],
   "source": [
    "sst1_porosities"
   ]
  },
  {
   "cell_type": "code",
   "execution_count": 126,
   "id": "8afcbfc0",
   "metadata": {},
   "outputs": [
    {
     "data": {
      "text/plain": [
       "[110, 201, 301, 236, 506, 269]"
      ]
     },
     "execution_count": 126,
     "metadata": {},
     "output_type": "execute_result"
    }
   ],
   "source": [
    "sst1_perms"
   ]
  },
  {
   "cell_type": "markdown",
   "id": "7e8ef5dc",
   "metadata": {},
   "source": [
    ">**Method 1: Append (always add at the end)**"
   ]
  },
  {
   "cell_type": "markdown",
   "id": "37c44767",
   "metadata": {},
   "source": [
    "Q. what if you have one more sample of sst1_porosities = 0.26 and sst1_perms = 500. "
   ]
  },
  {
   "cell_type": "code",
   "execution_count": 124,
   "id": "9806c465",
   "metadata": {},
   "outputs": [],
   "source": [
    "sst1_porosities.append(0.26)"
   ]
  },
  {
   "cell_type": "code",
   "execution_count": 125,
   "id": "ba35fb3c",
   "metadata": {},
   "outputs": [
    {
     "data": {
      "text/plain": [
       "[0.23, 0.22, 0.25, 0.29, 0.26]"
      ]
     },
     "execution_count": 125,
     "metadata": {},
     "output_type": "execute_result"
    }
   ],
   "source": [
    "sst1_porosities"
   ]
  },
  {
   "cell_type": "code",
   "execution_count": 127,
   "id": "5fc3bb0f",
   "metadata": {},
   "outputs": [],
   "source": [
    "sst1_perms.append(500)"
   ]
  },
  {
   "cell_type": "code",
   "execution_count": 128,
   "id": "120f0ed0",
   "metadata": {},
   "outputs": [
    {
     "data": {
      "text/plain": [
       "[110, 201, 301, 236, 506, 269, 500]"
      ]
     },
     "execution_count": 128,
     "metadata": {},
     "output_type": "execute_result"
    }
   ],
   "source": [
    "sst1_perms"
   ]
  },
  {
   "cell_type": "markdown",
   "id": "6e8b7207",
   "metadata": {},
   "source": [
    ">**Method 2: pop (means drop)**"
   ]
  },
  {
   "cell_type": "markdown",
   "id": "227759ff",
   "metadata": {},
   "source": [
    "Q. if my manager says that the sample was garbage please drop them off."
   ]
  },
  {
   "cell_type": "code",
   "execution_count": 130,
   "id": "be7e1dfd",
   "metadata": {},
   "outputs": [
    {
     "data": {
      "text/plain": [
       "[0.23, 0.22, 0.25, 0.29, 0.26]"
      ]
     },
     "execution_count": 130,
     "metadata": {},
     "output_type": "execute_result"
    }
   ],
   "source": [
    "sst1_porosities"
   ]
  },
  {
   "cell_type": "code",
   "execution_count": 131,
   "id": "9b670e1f",
   "metadata": {},
   "outputs": [
    {
     "data": {
      "text/plain": [
       "0.26"
      ]
     },
     "execution_count": 131,
     "metadata": {},
     "output_type": "execute_result"
    }
   ],
   "source": [
    "sst1_porosities.pop()"
   ]
  },
  {
   "cell_type": "code",
   "execution_count": 132,
   "id": "3f320bbf",
   "metadata": {},
   "outputs": [
    {
     "data": {
      "text/plain": [
       "[110, 201, 301, 236, 506, 269, 500]"
      ]
     },
     "execution_count": 132,
     "metadata": {},
     "output_type": "execute_result"
    }
   ],
   "source": [
    "sst1_perms"
   ]
  },
  {
   "cell_type": "code",
   "execution_count": 135,
   "id": "becbc878",
   "metadata": {},
   "outputs": [
    {
     "data": {
      "text/plain": [
       "500"
      ]
     },
     "execution_count": 135,
     "metadata": {},
     "output_type": "execute_result"
    }
   ],
   "source": [
    "sst1_perms.pop()"
   ]
  },
  {
   "cell_type": "markdown",
   "id": "68265f38",
   "metadata": {},
   "source": [
    "**CUSTION:**\n",
    "\n",
    "**len(X)--- it is Function**\n",
    "\n",
    "**x.method--- it is method**"
   ]
  },
  {
   "cell_type": "markdown",
   "id": "fd254527",
   "metadata": {},
   "source": [
    "Q. in sst1_porosities append 0.30 and pop \n",
    "in sst1_perms append 628 and pop."
   ]
  },
  {
   "cell_type": "code",
   "execution_count": 136,
   "id": "35aa899e",
   "metadata": {},
   "outputs": [
    {
     "data": {
      "text/plain": [
       "[0.23, 0.22, 0.25, 0.29]"
      ]
     },
     "execution_count": 136,
     "metadata": {},
     "output_type": "execute_result"
    }
   ],
   "source": [
    "sst1_porosities"
   ]
  },
  {
   "cell_type": "code",
   "execution_count": 140,
   "id": "ce0baab2",
   "metadata": {},
   "outputs": [],
   "source": [
    "sst1_porosities.append(0.345)"
   ]
  },
  {
   "cell_type": "code",
   "execution_count": 141,
   "id": "c8d16189",
   "metadata": {},
   "outputs": [
    {
     "data": {
      "text/plain": [
       "[0.23, 0.22, 0.25, 0.29, 0.3, 0.345]"
      ]
     },
     "execution_count": 141,
     "metadata": {},
     "output_type": "execute_result"
    }
   ],
   "source": [
    "sst1_porosities"
   ]
  },
  {
   "cell_type": "code",
   "execution_count": 142,
   "id": "1951ba70",
   "metadata": {},
   "outputs": [
    {
     "data": {
      "text/plain": [
       "0.345"
      ]
     },
     "execution_count": 142,
     "metadata": {},
     "output_type": "execute_result"
    }
   ],
   "source": [
    "sst1_porosities.pop()"
   ]
  },
  {
   "cell_type": "code",
   "execution_count": 143,
   "id": "3f76b850",
   "metadata": {},
   "outputs": [
    {
     "data": {
      "text/plain": [
       "[110, 201, 301, 236, 506, 269]"
      ]
     },
     "execution_count": 143,
     "metadata": {},
     "output_type": "execute_result"
    }
   ],
   "source": [
    "sst1_perms"
   ]
  },
  {
   "cell_type": "code",
   "execution_count": 144,
   "id": "e6663e7d",
   "metadata": {},
   "outputs": [],
   "source": [
    "sst1_perms.append(628)"
   ]
  },
  {
   "cell_type": "code",
   "execution_count": 145,
   "id": "d33b0b51",
   "metadata": {},
   "outputs": [
    {
     "data": {
      "text/plain": [
       "[110, 201, 301, 236, 506, 269, 628]"
      ]
     },
     "execution_count": 145,
     "metadata": {},
     "output_type": "execute_result"
    }
   ],
   "source": [
    "sst1_perms"
   ]
  },
  {
   "cell_type": "code",
   "execution_count": 147,
   "id": "367522ed",
   "metadata": {},
   "outputs": [
    {
     "data": {
      "text/plain": [
       "628"
      ]
     },
     "execution_count": 147,
     "metadata": {},
     "output_type": "execute_result"
    }
   ],
   "source": [
    "sst1_perms.pop()"
   ]
  },
  {
   "cell_type": "markdown",
   "id": "2117ca66",
   "metadata": {},
   "source": [
    "---"
   ]
  },
  {
   "cell_type": "markdown",
   "id": "cae68425",
   "metadata": {},
   "source": [
    ">**LIST: is MUTABLE: it is modifyable**"
   ]
  },
  {
   "cell_type": "code",
   "execution_count": 148,
   "id": "cd850910",
   "metadata": {},
   "outputs": [
    {
     "data": {
      "text/plain": [
       "[0.23, 0.22, 0.25, 0.29, 0.3]"
      ]
     },
     "execution_count": 148,
     "metadata": {},
     "output_type": "execute_result"
    }
   ],
   "source": [
    "sst1_porosities"
   ]
  },
  {
   "cell_type": "code",
   "execution_count": 149,
   "id": "88fc353e",
   "metadata": {},
   "outputs": [],
   "source": [
    "sst1_porosities.append(0.55)"
   ]
  },
  {
   "cell_type": "code",
   "execution_count": 155,
   "id": "fe88af6c",
   "metadata": {},
   "outputs": [
    {
     "data": {
      "text/plain": [
       "0.55"
      ]
     },
     "execution_count": 155,
     "metadata": {},
     "output_type": "execute_result"
    }
   ],
   "source": [
    "sst1_porosities[-1] "
   ]
  },
  {
   "cell_type": "markdown",
   "id": "c074e10a",
   "metadata": {},
   "source": [
    "We can replace any element from the list."
   ]
  },
  {
   "cell_type": "code",
   "execution_count": 158,
   "id": "ac2381cd",
   "metadata": {},
   "outputs": [],
   "source": [
    "sst1_porosities[-1] = 0.48"
   ]
  },
  {
   "cell_type": "code",
   "execution_count": 159,
   "id": "7e3bcaee",
   "metadata": {
    "scrolled": true
   },
   "outputs": [
    {
     "data": {
      "text/plain": [
       "[0.23, 0.22, 0.25, 0.29, 0.3, 0.48]"
      ]
     },
     "execution_count": 159,
     "metadata": {},
     "output_type": "execute_result"
    }
   ],
   "source": [
    "sst1_porosities"
   ]
  },
  {
   "cell_type": "markdown",
   "id": "379f5816",
   "metadata": {},
   "source": [
    ">**String is INMUTABLE (Just an Example)**"
   ]
  },
  {
   "cell_type": "code",
   "execution_count": 161,
   "id": "b4a83997",
   "metadata": {},
   "outputs": [
    {
     "ename": "TypeError",
     "evalue": "'str' object does not support item assignment",
     "output_type": "error",
     "traceback": [
      "\u001b[1;31m---------------------------------------------------------------------------\u001b[0m",
      "\u001b[1;31mTypeError\u001b[0m                                 Traceback (most recent call last)",
      "Input \u001b[1;32mIn [161]\u001b[0m, in \u001b[0;36m<cell line: 3>\u001b[1;34m()\u001b[0m\n\u001b[0;32m      1\u001b[0m name \u001b[38;5;241m=\u001b[39m \u001b[38;5;124m'\u001b[39m\u001b[38;5;124mSwagatPradhan\u001b[39m\u001b[38;5;124m'\u001b[39m\n\u001b[1;32m----> 3\u001b[0m name[\u001b[38;5;241m-\u001b[39m\u001b[38;5;241m1\u001b[39m] \u001b[38;5;241m=\u001b[39m \u001b[38;5;124m'\u001b[39m\u001b[38;5;124mk\u001b[39m\u001b[38;5;124m'\u001b[39m\n",
      "\u001b[1;31mTypeError\u001b[0m: 'str' object does not support item assignment"
     ]
    }
   ],
   "source": [
    "name = 'SwagatPradhan'\n",
    "\n",
    "name[-1] = 'k'"
   ]
  },
  {
   "cell_type": "markdown",
   "id": "a627980b",
   "metadata": {},
   "source": [
    "---\n",
    "---"
   ]
  },
  {
   "cell_type": "markdown",
   "id": "0a178c67",
   "metadata": {},
   "source": [
    "**CAUTION: If you forgot any methods and range function you can use \"help\".**"
   ]
  },
  {
   "cell_type": "code",
   "execution_count": 163,
   "id": "ed87e28c",
   "metadata": {},
   "outputs": [
    {
     "name": "stdout",
     "output_type": "stream",
     "text": [
      "Help on class range in module builtins:\n",
      "\n",
      "class range(object)\n",
      " |  range(stop) -> range object\n",
      " |  range(start, stop[, step]) -> range object\n",
      " |  \n",
      " |  Return an object that produces a sequence of integers from start (inclusive)\n",
      " |  to stop (exclusive) by step.  range(i, j) produces i, i+1, i+2, ..., j-1.\n",
      " |  start defaults to 0, and stop is omitted!  range(4) produces 0, 1, 2, 3.\n",
      " |  These are exactly the valid indices for a list of 4 elements.\n",
      " |  When step is given, it specifies the increment (or decrement).\n",
      " |  \n",
      " |  Methods defined here:\n",
      " |  \n",
      " |  __bool__(self, /)\n",
      " |      True if self else False\n",
      " |  \n",
      " |  __contains__(self, key, /)\n",
      " |      Return key in self.\n",
      " |  \n",
      " |  __eq__(self, value, /)\n",
      " |      Return self==value.\n",
      " |  \n",
      " |  __ge__(self, value, /)\n",
      " |      Return self>=value.\n",
      " |  \n",
      " |  __getattribute__(self, name, /)\n",
      " |      Return getattr(self, name).\n",
      " |  \n",
      " |  __getitem__(self, key, /)\n",
      " |      Return self[key].\n",
      " |  \n",
      " |  __gt__(self, value, /)\n",
      " |      Return self>value.\n",
      " |  \n",
      " |  __hash__(self, /)\n",
      " |      Return hash(self).\n",
      " |  \n",
      " |  __iter__(self, /)\n",
      " |      Implement iter(self).\n",
      " |  \n",
      " |  __le__(self, value, /)\n",
      " |      Return self<=value.\n",
      " |  \n",
      " |  __len__(self, /)\n",
      " |      Return len(self).\n",
      " |  \n",
      " |  __lt__(self, value, /)\n",
      " |      Return self<value.\n",
      " |  \n",
      " |  __ne__(self, value, /)\n",
      " |      Return self!=value.\n",
      " |  \n",
      " |  __reduce__(...)\n",
      " |      Helper for pickle.\n",
      " |  \n",
      " |  __repr__(self, /)\n",
      " |      Return repr(self).\n",
      " |  \n",
      " |  __reversed__(...)\n",
      " |      Return a reverse iterator.\n",
      " |  \n",
      " |  count(...)\n",
      " |      rangeobject.count(value) -> integer -- return number of occurrences of value\n",
      " |  \n",
      " |  index(...)\n",
      " |      rangeobject.index(value) -> integer -- return index of value.\n",
      " |      Raise ValueError if the value is not present.\n",
      " |  \n",
      " |  ----------------------------------------------------------------------\n",
      " |  Static methods defined here:\n",
      " |  \n",
      " |  __new__(*args, **kwargs) from builtins.type\n",
      " |      Create and return a new object.  See help(type) for accurate signature.\n",
      " |  \n",
      " |  ----------------------------------------------------------------------\n",
      " |  Data descriptors defined here:\n",
      " |  \n",
      " |  start\n",
      " |  \n",
      " |  step\n",
      " |  \n",
      " |  stop\n",
      "\n"
     ]
    }
   ],
   "source": [
    "help(range)"
   ]
  },
  {
   "cell_type": "code",
   "execution_count": 164,
   "id": "b5e32298",
   "metadata": {},
   "outputs": [
    {
     "name": "stdout",
     "output_type": "stream",
     "text": [
      "Help on class list in module builtins:\n",
      "\n",
      "class list(object)\n",
      " |  list(iterable=(), /)\n",
      " |  \n",
      " |  Built-in mutable sequence.\n",
      " |  \n",
      " |  If no argument is given, the constructor creates a new empty list.\n",
      " |  The argument must be an iterable if specified.\n",
      " |  \n",
      " |  Methods defined here:\n",
      " |  \n",
      " |  __add__(self, value, /)\n",
      " |      Return self+value.\n",
      " |  \n",
      " |  __contains__(self, key, /)\n",
      " |      Return key in self.\n",
      " |  \n",
      " |  __delitem__(self, key, /)\n",
      " |      Delete self[key].\n",
      " |  \n",
      " |  __eq__(self, value, /)\n",
      " |      Return self==value.\n",
      " |  \n",
      " |  __ge__(self, value, /)\n",
      " |      Return self>=value.\n",
      " |  \n",
      " |  __getattribute__(self, name, /)\n",
      " |      Return getattr(self, name).\n",
      " |  \n",
      " |  __getitem__(...)\n",
      " |      x.__getitem__(y) <==> x[y]\n",
      " |  \n",
      " |  __gt__(self, value, /)\n",
      " |      Return self>value.\n",
      " |  \n",
      " |  __iadd__(self, value, /)\n",
      " |      Implement self+=value.\n",
      " |  \n",
      " |  __imul__(self, value, /)\n",
      " |      Implement self*=value.\n",
      " |  \n",
      " |  __init__(self, /, *args, **kwargs)\n",
      " |      Initialize self.  See help(type(self)) for accurate signature.\n",
      " |  \n",
      " |  __iter__(self, /)\n",
      " |      Implement iter(self).\n",
      " |  \n",
      " |  __le__(self, value, /)\n",
      " |      Return self<=value.\n",
      " |  \n",
      " |  __len__(self, /)\n",
      " |      Return len(self).\n",
      " |  \n",
      " |  __lt__(self, value, /)\n",
      " |      Return self<value.\n",
      " |  \n",
      " |  __mul__(self, value, /)\n",
      " |      Return self*value.\n",
      " |  \n",
      " |  __ne__(self, value, /)\n",
      " |      Return self!=value.\n",
      " |  \n",
      " |  __repr__(self, /)\n",
      " |      Return repr(self).\n",
      " |  \n",
      " |  __reversed__(self, /)\n",
      " |      Return a reverse iterator over the list.\n",
      " |  \n",
      " |  __rmul__(self, value, /)\n",
      " |      Return value*self.\n",
      " |  \n",
      " |  __setitem__(self, key, value, /)\n",
      " |      Set self[key] to value.\n",
      " |  \n",
      " |  __sizeof__(self, /)\n",
      " |      Return the size of the list in memory, in bytes.\n",
      " |  \n",
      " |  append(self, object, /)\n",
      " |      Append object to the end of the list.\n",
      " |  \n",
      " |  clear(self, /)\n",
      " |      Remove all items from list.\n",
      " |  \n",
      " |  copy(self, /)\n",
      " |      Return a shallow copy of the list.\n",
      " |  \n",
      " |  count(self, value, /)\n",
      " |      Return number of occurrences of value.\n",
      " |  \n",
      " |  extend(self, iterable, /)\n",
      " |      Extend list by appending elements from the iterable.\n",
      " |  \n",
      " |  index(self, value, start=0, stop=9223372036854775807, /)\n",
      " |      Return first index of value.\n",
      " |      \n",
      " |      Raises ValueError if the value is not present.\n",
      " |  \n",
      " |  insert(self, index, object, /)\n",
      " |      Insert object before index.\n",
      " |  \n",
      " |  pop(self, index=-1, /)\n",
      " |      Remove and return item at index (default last).\n",
      " |      \n",
      " |      Raises IndexError if list is empty or index is out of range.\n",
      " |  \n",
      " |  remove(self, value, /)\n",
      " |      Remove first occurrence of value.\n",
      " |      \n",
      " |      Raises ValueError if the value is not present.\n",
      " |  \n",
      " |  reverse(self, /)\n",
      " |      Reverse *IN PLACE*.\n",
      " |  \n",
      " |  sort(self, /, *, key=None, reverse=False)\n",
      " |      Sort the list in ascending order and return None.\n",
      " |      \n",
      " |      The sort is in-place (i.e. the list itself is modified) and stable (i.e. the\n",
      " |      order of two equal elements is maintained).\n",
      " |      \n",
      " |      If a key function is given, apply it once to each list item and sort them,\n",
      " |      ascending or descending, according to their function values.\n",
      " |      \n",
      " |      The reverse flag can be set to sort in descending order.\n",
      " |  \n",
      " |  ----------------------------------------------------------------------\n",
      " |  Class methods defined here:\n",
      " |  \n",
      " |  __class_getitem__(...) from builtins.type\n",
      " |      See PEP 585\n",
      " |  \n",
      " |  ----------------------------------------------------------------------\n",
      " |  Static methods defined here:\n",
      " |  \n",
      " |  __new__(*args, **kwargs) from builtins.type\n",
      " |      Create and return a new object.  See help(type) for accurate signature.\n",
      " |  \n",
      " |  ----------------------------------------------------------------------\n",
      " |  Data and other attributes defined here:\n",
      " |  \n",
      " |  __hash__ = None\n",
      "\n"
     ]
    }
   ],
   "source": [
    "help(list)"
   ]
  }
 ],
 "metadata": {
  "kernelspec": {
   "display_name": "Python 3 (ipykernel)",
   "language": "python",
   "name": "python3"
  },
  "language_info": {
   "codemirror_mode": {
    "name": "ipython",
    "version": 3
   },
   "file_extension": ".py",
   "mimetype": "text/x-python",
   "name": "python",
   "nbconvert_exporter": "python",
   "pygments_lexer": "ipython3",
   "version": "3.9.12"
  }
 },
 "nbformat": 4,
 "nbformat_minor": 5
}
