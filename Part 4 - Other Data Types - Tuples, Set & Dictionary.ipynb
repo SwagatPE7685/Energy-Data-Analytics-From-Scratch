{
 "cells": [
  {
   "cell_type": "markdown",
   "id": "ec1d518d",
   "metadata": {},
   "source": [
    "## Agenda\n",
    "\n",
    ">Tuples\n",
    "\n",
    ">Dictionary\n",
    "\n",
    ">Sets"
   ]
  },
  {
   "cell_type": "markdown",
   "id": "0e1bbb65",
   "metadata": {},
   "source": [
    "---"
   ]
  },
  {
   "cell_type": "markdown",
   "id": "a401bbac",
   "metadata": {},
   "source": [
    "## Tuples (Less Imp. Data Type)"
   ]
  },
  {
   "cell_type": "markdown",
   "id": "d8631130",
   "metadata": {},
   "source": [
    "- **Very Similar to a List**\n",
    "\n",
    "- **Differences :**\n",
    "\n",
    ">Enclosed by : ( a, b )\n",
    "\n",
    ">IMMUTABLE\n",
    "\n",
    ">List are mutable"
   ]
  },
  {
   "cell_type": "code",
   "execution_count": 1,
   "id": "1e09a986",
   "metadata": {},
   "outputs": [],
   "source": [
    "my_first_tuple = (100, 200, 300)"
   ]
  },
  {
   "cell_type": "code",
   "execution_count": 2,
   "id": "9b73a4b2",
   "metadata": {},
   "outputs": [
    {
     "data": {
      "text/plain": [
       "tuple"
      ]
     },
     "execution_count": 2,
     "metadata": {},
     "output_type": "execute_result"
    }
   ],
   "source": [
    "type(my_first_tuple )"
   ]
  },
  {
   "cell_type": "code",
   "execution_count": 3,
   "id": "686f6440",
   "metadata": {},
   "outputs": [
    {
     "data": {
      "text/plain": [
       "100"
      ]
     },
     "execution_count": 3,
     "metadata": {},
     "output_type": "execute_result"
    }
   ],
   "source": [
    "my_first_tuple[0]"
   ]
  },
  {
   "cell_type": "code",
   "execution_count": 4,
   "id": "542985f2",
   "metadata": {},
   "outputs": [
    {
     "data": {
      "text/plain": [
       "200"
      ]
     },
     "execution_count": 4,
     "metadata": {},
     "output_type": "execute_result"
    }
   ],
   "source": [
    "my_first_tuple[1]"
   ]
  },
  {
   "cell_type": "code",
   "execution_count": 5,
   "id": "bbbeb675",
   "metadata": {
    "scrolled": true
   },
   "outputs": [
    {
     "data": {
      "text/plain": [
       "300"
      ]
     },
     "execution_count": 5,
     "metadata": {},
     "output_type": "execute_result"
    }
   ],
   "source": [
    "my_first_tuple[2]"
   ]
  },
  {
   "cell_type": "markdown",
   "id": "1e25e80f",
   "metadata": {},
   "source": [
    "- **in Tuple we can\"t change any element within the bracket as shown below, it is an immutable object.**"
   ]
  },
  {
   "cell_type": "code",
   "execution_count": 6,
   "id": "e6438016",
   "metadata": {},
   "outputs": [
    {
     "ename": "TypeError",
     "evalue": "'tuple' object does not support item assignment",
     "output_type": "error",
     "traceback": [
      "\u001b[1;31m---------------------------------------------------------------------------\u001b[0m",
      "\u001b[1;31mTypeError\u001b[0m                                 Traceback (most recent call last)",
      "Input \u001b[1;32mIn [6]\u001b[0m, in \u001b[0;36m<cell line: 1>\u001b[1;34m()\u001b[0m\n\u001b[1;32m----> 1\u001b[0m my_first_tuple[\u001b[38;5;241m0\u001b[39m] \u001b[38;5;241m=\u001b[39m \u001b[38;5;241m400\u001b[39m\n",
      "\u001b[1;31mTypeError\u001b[0m: 'tuple' object does not support item assignment"
     ]
    }
   ],
   "source": [
    "my_first_tuple[0] = 400"
   ]
  },
  {
   "cell_type": "code",
   "execution_count": 7,
   "id": "c60ec68f",
   "metadata": {},
   "outputs": [
    {
     "data": {
      "text/plain": [
       "(2, 3, 4, 5, 6, 7, 8, 9)"
      ]
     },
     "execution_count": 7,
     "metadata": {},
     "output_type": "execute_result"
    }
   ],
   "source": [
    "my_tuple_1to10 = tuple(range(0, 10))\n",
    "\n",
    "my_tuple_1to10[2 : : ]"
   ]
  },
  {
   "cell_type": "markdown",
   "id": "b2c8e67c",
   "metadata": {},
   "source": [
    "---\n",
    "---\n"
   ]
  },
  {
   "cell_type": "markdown",
   "id": "018de5d3",
   "metadata": {},
   "source": [
    "## Set"
   ]
  },
  {
   "cell_type": "markdown",
   "id": "59d8cce5",
   "metadata": {},
   "source": [
    "- **Unordered**\n",
    "\n",
    "- **UNIQUE-FY the elements!**"
   ]
  },
  {
   "cell_type": "code",
   "execution_count": 8,
   "id": "5ce37cd2",
   "metadata": {},
   "outputs": [],
   "source": [
    "my_dup_containing_list = [1,2,2,3,6,41,4,1,5,2,6,6,9,1,'a','a']"
   ]
  },
  {
   "cell_type": "markdown",
   "id": "5b1d816e",
   "metadata": {},
   "source": [
    "- **Remove all duplcates**"
   ]
  },
  {
   "cell_type": "code",
   "execution_count": 9,
   "id": "41baac0e",
   "metadata": {},
   "outputs": [],
   "source": [
    "my_unique_set = set(my_dup_containing_list)"
   ]
  },
  {
   "cell_type": "code",
   "execution_count": 10,
   "id": "d6526c4d",
   "metadata": {},
   "outputs": [
    {
     "data": {
      "text/plain": [
       "{1, 2, 3, 4, 41, 5, 6, 9, 'a'}"
      ]
     },
     "execution_count": 10,
     "metadata": {},
     "output_type": "execute_result"
    }
   ],
   "source": [
    "my_unique_set "
   ]
  },
  {
   "cell_type": "code",
   "execution_count": 11,
   "id": "53fb231e",
   "metadata": {},
   "outputs": [
    {
     "data": {
      "text/plain": [
       "{1, 2, 3, 5, 9}"
      ]
     },
     "execution_count": 11,
     "metadata": {},
     "output_type": "execute_result"
    }
   ],
   "source": [
    "{1,2,2,3,3,5,5,9,9,5}"
   ]
  },
  {
   "cell_type": "code",
   "execution_count": 12,
   "id": "42660afa",
   "metadata": {},
   "outputs": [
    {
     "data": {
      "text/plain": [
       "[1, 2, 3, 5, 9]"
      ]
     },
     "execution_count": 12,
     "metadata": {},
     "output_type": "execute_result"
    }
   ],
   "source": [
    "#you can change it into list anytime\n",
    "list({1,2,2,3,3,5,5,9,9,5}) "
   ]
  },
  {
   "cell_type": "markdown",
   "id": "2766dc8b",
   "metadata": {},
   "source": [
    "---"
   ]
  },
  {
   "cell_type": "markdown",
   "id": "ca9ed784",
   "metadata": {},
   "source": [
    "- **Properties of Sets**"
   ]
  },
  {
   "cell_type": "markdown",
   "id": "6fbfca77",
   "metadata": {},
   "source": [
    "1. Union (the set which contain all the elements of both the sets)"
   ]
  },
  {
   "cell_type": "code",
   "execution_count": 13,
   "id": "3b470185",
   "metadata": {},
   "outputs": [
    {
     "data": {
      "text/plain": [
       "{1, 2, 3, 'A', 'B', 'C'}"
      ]
     },
     "execution_count": 13,
     "metadata": {},
     "output_type": "execute_result"
    }
   ],
   "source": [
    "set1 = {1,2,3} ; set2 = {'A','B','C'} ;set3 = {'B', 'C', 4, 5} ;\n",
    "set4 = {'B', 'C', 4, 5, 6}\n",
    "\n",
    "set1.union(set2)"
   ]
  },
  {
   "cell_type": "markdown",
   "id": "c510da61",
   "metadata": {},
   "source": [
    "2. Intersection (From both sets ,common element will comes out)"
   ]
  },
  {
   "cell_type": "code",
   "execution_count": 14,
   "id": "884824f4",
   "metadata": {},
   "outputs": [
    {
     "data": {
      "text/plain": [
       "{'B', 'C'}"
      ]
     },
     "execution_count": 14,
     "metadata": {},
     "output_type": "execute_result"
    }
   ],
   "source": [
    "set2.intersection(set3)"
   ]
  },
  {
   "cell_type": "markdown",
   "id": "39f15fce",
   "metadata": {},
   "source": [
    "3. issuperset ( returns \"True\" if a set has every elements of another sets, if not returns \"False\" )"
   ]
  },
  {
   "cell_type": "code",
   "execution_count": 15,
   "id": "826e0362",
   "metadata": {},
   "outputs": [
    {
     "data": {
      "text/plain": [
       "True"
      ]
     },
     "execution_count": 15,
     "metadata": {},
     "output_type": "execute_result"
    }
   ],
   "source": [
    "set4.issuperset(set3) "
   ]
  },
  {
   "cell_type": "markdown",
   "id": "900a7dd8",
   "metadata": {},
   "source": [
    "4. issubset ( returns \"True\" if all items in the set exists in the specified set otherwise it returns \"False\".)"
   ]
  },
  {
   "cell_type": "code",
   "execution_count": 16,
   "id": "f7d819cb",
   "metadata": {},
   "outputs": [
    {
     "data": {
      "text/plain": [
       "True"
      ]
     },
     "execution_count": 16,
     "metadata": {},
     "output_type": "execute_result"
    }
   ],
   "source": [
    "set3.issubset(set4)"
   ]
  },
  {
   "cell_type": "markdown",
   "id": "394e851b",
   "metadata": {},
   "source": [
    "---\n",
    "---"
   ]
  },
  {
   "cell_type": "markdown",
   "id": "b0471663",
   "metadata": {},
   "source": [
    "## Dictionary (Very IMP)"
   ]
  },
  {
   "cell_type": "markdown",
   "id": "a0a6e472",
   "metadata": {},
   "source": [
    "***{Key : value , key2 : value2 , key3 : value3, ...... }***\n",
    "\n",
    "- **Order is not important: Unordered**\n",
    "\n",
    "- **my_dict[0} will give an error**"
   ]
  },
  {
   "cell_type": "code",
   "execution_count": 17,
   "id": "5efc6dc9",
   "metadata": {},
   "outputs": [],
   "source": [
    "my_ex_dict = {'Key1' : 'value1' , 'Key2' : 'value2'}"
   ]
  },
  {
   "cell_type": "markdown",
   "id": "8eac0175",
   "metadata": {},
   "source": [
    "- **' : '  is important, it will assigned the value to the particular key**"
   ]
  },
  {
   "cell_type": "code",
   "execution_count": 18,
   "id": "298ca7f6",
   "metadata": {},
   "outputs": [
    {
     "data": {
      "text/plain": [
       "('value1', 'value2')"
      ]
     },
     "execution_count": 18,
     "metadata": {},
     "output_type": "execute_result"
    }
   ],
   "source": [
    "my_ex_dict['Key1'] , my_ex_dict['Key2']"
   ]
  },
  {
   "cell_type": "markdown",
   "id": "d5a01d53",
   "metadata": {},
   "source": [
    "---\n"
   ]
  },
  {
   "cell_type": "code",
   "execution_count": 19,
   "id": "232a3849",
   "metadata": {},
   "outputs": [],
   "source": [
    "#Example\n",
    "\n",
    "my_res_details = {'SSTA': [0.25 , 125], 'SSTB': [0.17, 80]}"
   ]
  },
  {
   "cell_type": "code",
   "execution_count": 20,
   "id": "1069e172",
   "metadata": {},
   "outputs": [
    {
     "data": {
      "text/plain": [
       "{'SSTA': [0.25, 125], 'SSTB': [0.17, 80]}"
      ]
     },
     "execution_count": 20,
     "metadata": {},
     "output_type": "execute_result"
    }
   ],
   "source": [
    "my_res_details"
   ]
  },
  {
   "cell_type": "code",
   "execution_count": 21,
   "id": "b747891b",
   "metadata": {},
   "outputs": [
    {
     "data": {
      "text/plain": [
       "[0.25, 125]"
      ]
     },
     "execution_count": 21,
     "metadata": {},
     "output_type": "execute_result"
    }
   ],
   "source": [
    "my_res_details['SSTA']"
   ]
  },
  {
   "cell_type": "code",
   "execution_count": 22,
   "id": "9588d5e5",
   "metadata": {},
   "outputs": [
    {
     "data": {
      "text/plain": [
       "[0.17, 80]"
      ]
     },
     "execution_count": 22,
     "metadata": {},
     "output_type": "execute_result"
    }
   ],
   "source": [
    "my_res_details['SSTB']"
   ]
  },
  {
   "cell_type": "code",
   "execution_count": 23,
   "id": "428ee5af",
   "metadata": {},
   "outputs": [
    {
     "data": {
      "text/plain": [
       "list"
      ]
     },
     "execution_count": 23,
     "metadata": {},
     "output_type": "execute_result"
    }
   ],
   "source": [
    "type(my_res_details['SSTB'])"
   ]
  },
  {
   "cell_type": "markdown",
   "id": "d3ab7b61",
   "metadata": {},
   "source": [
    "- **Remember : We always access the dict using keys (just like we used to access the lists using indexes)**"
   ]
  },
  {
   "cell_type": "markdown",
   "id": "7dd24526",
   "metadata": {},
   "source": [
    "Q. Can you Fetch the perm (125 mD) of SSTA?"
   ]
  },
  {
   "cell_type": "code",
   "execution_count": 24,
   "id": "6658e175",
   "metadata": {},
   "outputs": [
    {
     "data": {
      "text/plain": [
       "125"
      ]
     },
     "execution_count": 24,
     "metadata": {},
     "output_type": "execute_result"
    }
   ],
   "source": [
    "my_res_details['SSTA'][1]"
   ]
  },
  {
   "cell_type": "code",
   "execution_count": 25,
   "id": "09efa4ec",
   "metadata": {},
   "outputs": [
    {
     "data": {
      "text/plain": [
       "0.25"
      ]
     },
     "execution_count": 25,
     "metadata": {},
     "output_type": "execute_result"
    }
   ],
   "source": [
    "my_res_details['SSTA'][0]"
   ]
  },
  {
   "cell_type": "markdown",
   "id": "1b5ac27f",
   "metadata": {},
   "source": [
    "---"
   ]
  },
  {
   "cell_type": "code",
   "execution_count": 26,
   "id": "1c49d5db",
   "metadata": {},
   "outputs": [],
   "source": [
    "#Example\n",
    "\n",
    "my_res_details_new = {'RockA':{'Lith':'SSTA', 'Perm(mD)':125 ,'Poro':0.25}, \n",
    "                      'RockB':{'Lith':'LST', 'Perm(mD)':10 ,'Poro':0.10}}"
   ]
  },
  {
   "cell_type": "markdown",
   "id": "8158e91d",
   "metadata": {},
   "source": [
    "Q. What is the Porosity of Rock B?"
   ]
  },
  {
   "cell_type": "code",
   "execution_count": 27,
   "id": "0ee4539b",
   "metadata": {},
   "outputs": [
    {
     "data": {
      "text/plain": [
       "{'Lith': 'LST', 'Perm(mD)': 10, 'Poro': 0.1}"
      ]
     },
     "execution_count": 27,
     "metadata": {},
     "output_type": "execute_result"
    }
   ],
   "source": [
    "#Step 1: Which Rock? RockB\n",
    "my_res_details_new['RockB']"
   ]
  },
  {
   "cell_type": "code",
   "execution_count": 28,
   "id": "b04cff87",
   "metadata": {},
   "outputs": [
    {
     "data": {
      "text/plain": [
       "0.1"
      ]
     },
     "execution_count": 28,
     "metadata": {},
     "output_type": "execute_result"
    }
   ],
   "source": [
    "#step 2: in RockB details, access to Porosity\n",
    "my_res_details_new['RockB']['Poro']"
   ]
  },
  {
   "cell_type": "markdown",
   "id": "04888654",
   "metadata": {},
   "source": [
    "---"
   ]
  },
  {
   "cell_type": "code",
   "execution_count": 29,
   "id": "a737f1af",
   "metadata": {},
   "outputs": [],
   "source": [
    "#Example\n",
    "my_details = {'Name' : 'Swagat Pradhan',\n",
    "              'Industry' : 'Oil& Gas' ,\n",
    "              'Age' : 15}"
   ]
  },
  {
   "cell_type": "markdown",
   "id": "1e1fbac2",
   "metadata": {},
   "source": [
    "Q. Can you find out the last name of the person from above dict.?"
   ]
  },
  {
   "cell_type": "code",
   "execution_count": 30,
   "id": "47796ab7",
   "metadata": {},
   "outputs": [
    {
     "data": {
      "text/plain": [
       "'Swagat Pradhan'"
      ]
     },
     "execution_count": 30,
     "metadata": {},
     "output_type": "execute_result"
    }
   ],
   "source": [
    "#step 1: brings out the name first\n",
    "my_details['Name']"
   ]
  },
  {
   "cell_type": "code",
   "execution_count": 31,
   "id": "3e8014e2",
   "metadata": {},
   "outputs": [
    {
     "data": {
      "text/plain": [
       "['Swagat', 'Pradhan']"
      ]
     },
     "execution_count": 31,
     "metadata": {},
     "output_type": "execute_result"
    }
   ],
   "source": [
    "#Step 2: Split the name\n",
    "my_details['Name'].split(' ')"
   ]
  },
  {
   "cell_type": "code",
   "execution_count": 32,
   "id": "6d2c7955",
   "metadata": {},
   "outputs": [
    {
     "data": {
      "text/plain": [
       "'Pradhan'"
      ]
     },
     "execution_count": 32,
     "metadata": {},
     "output_type": "execute_result"
    }
   ],
   "source": [
    "#Step 3 : then use the index to get the last name\n",
    "my_details['Name'].split(' ')[-1]"
   ]
  },
  {
   "cell_type": "markdown",
   "id": "4b17019b",
   "metadata": {},
   "source": [
    "---"
   ]
  },
  {
   "cell_type": "code",
   "execution_count": 33,
   "id": "6cd345d9",
   "metadata": {},
   "outputs": [],
   "source": [
    "#Example\n",
    "\n",
    "dict_numbers = {'A':list(range(10)), 'B':[21,22,23,24,25,26,27,28,29,30]}"
   ]
  },
  {
   "cell_type": "code",
   "execution_count": 34,
   "id": "b8572372",
   "metadata": {},
   "outputs": [
    {
     "name": "stdout",
     "output_type": "stream",
     "text": [
      "{'A': [0, 1, 2, 3, 4, 5, 6, 7, 8, 9], 'B': [21, 22, 23, 24, 25, 26, 27, 28, 29, 30]}\n"
     ]
    }
   ],
   "source": [
    "print(dict_numbers)"
   ]
  },
  {
   "cell_type": "code",
   "execution_count": 35,
   "id": "bd4e97e7",
   "metadata": {},
   "outputs": [
    {
     "data": {
      "text/plain": [
       "dict_keys(['A', 'B'])"
      ]
     },
     "execution_count": 35,
     "metadata": {},
     "output_type": "execute_result"
    }
   ],
   "source": [
    "dict_numbers.keys()"
   ]
  },
  {
   "cell_type": "code",
   "execution_count": 73,
   "id": "8cbcae27",
   "metadata": {},
   "outputs": [
    {
     "data": {
      "text/plain": [
       "dict_values([[0, 1, 2, 3, 4, 5, 6, 7, 8, 9], [21, 22, 23, 24, 25, 26, 27, 28, 29, 30]])"
      ]
     },
     "execution_count": 73,
     "metadata": {},
     "output_type": "execute_result"
    }
   ],
   "source": [
    "dict_numbers.values()"
   ]
  },
  {
   "cell_type": "markdown",
   "id": "7ccceca2",
   "metadata": {},
   "source": [
    "---"
   ]
  },
  {
   "cell_type": "markdown",
   "id": "49cc4b51",
   "metadata": {},
   "source": [
    "- **You can edit the dictionary**"
   ]
  },
  {
   "cell_type": "markdown",
   "id": "b85da315",
   "metadata": {},
   "source": [
    ">**Adding a new K-V Pair**"
   ]
  },
  {
   "cell_type": "code",
   "execution_count": 37,
   "id": "f1d0eea9",
   "metadata": {},
   "outputs": [
    {
     "data": {
      "text/plain": [
       "{'RockA': {'Lith': 'SSTA', 'Perm(mD)': 125, 'Poro': 0.25},\n",
       " 'RockB': {'Lith': 'LST', 'Perm(mD)': 10, 'Poro': 0.1}}"
      ]
     },
     "execution_count": 37,
     "metadata": {},
     "output_type": "execute_result"
    }
   ],
   "source": [
    "my_res_details_new"
   ]
  },
  {
   "cell_type": "code",
   "execution_count": 38,
   "id": "28b181ab",
   "metadata": {},
   "outputs": [],
   "source": [
    "my_res_details_new['RockC'] = {'Lith': 'SST', 'Perm(mD)': 155, 'Poro': 0.15}"
   ]
  },
  {
   "cell_type": "code",
   "execution_count": 39,
   "id": "46cb52ef",
   "metadata": {},
   "outputs": [
    {
     "data": {
      "text/plain": [
       "{'RockA': {'Lith': 'SSTA', 'Perm(mD)': 125, 'Poro': 0.25},\n",
       " 'RockB': {'Lith': 'LST', 'Perm(mD)': 10, 'Poro': 0.1},\n",
       " 'RockC': {'Lith': 'SST', 'Perm(mD)': 155, 'Poro': 0.15}}"
      ]
     },
     "execution_count": 39,
     "metadata": {},
     "output_type": "execute_result"
    }
   ],
   "source": [
    "my_res_details_new"
   ]
  },
  {
   "cell_type": "code",
   "execution_count": 40,
   "id": "2696beed",
   "metadata": {},
   "outputs": [
    {
     "data": {
      "text/plain": [
       "{'A': 1}"
      ]
     },
     "execution_count": 40,
     "metadata": {},
     "output_type": "execute_result"
    }
   ],
   "source": [
    "#What happens here?\n",
    "\n",
    "myD = dict()\n",
    "\n",
    "myD['A'] = 1\n",
    "\n",
    "myD"
   ]
  },
  {
   "cell_type": "markdown",
   "id": "4c50d74e",
   "metadata": {},
   "source": [
    "Q.  {'Lith': 'SST', 'Perm(mD)': 100, 'Poro': 0.23} assign this to a RockD in the dictionary."
   ]
  },
  {
   "cell_type": "code",
   "execution_count": 45,
   "id": "5a7d9875",
   "metadata": {},
   "outputs": [],
   "source": [
    "my_res_details_new['RockD'] = {'Lith': 'SST', 'Perm(mD)': 100, 'Poro': 0.23}"
   ]
  },
  {
   "cell_type": "code",
   "execution_count": 46,
   "id": "9adb7f30",
   "metadata": {},
   "outputs": [
    {
     "data": {
      "text/plain": [
       "{'RockA': {'Lith': 'SSTA', 'Perm(mD)': 125, 'Poro': 0.25},\n",
       " 'RockB': {'Lith': 'LST', 'Perm(mD)': 10, 'Poro': 0.1},\n",
       " 'RockC': {'Lith': 'SST', 'Perm(mD)': 155, 'Poro': 0.15},\n",
       " 'RockD': {'Lith': 'SST', 'Perm(mD)': 100, 'Poro': 0.23}}"
      ]
     },
     "execution_count": 46,
     "metadata": {},
     "output_type": "execute_result"
    }
   ],
   "source": [
    "my_res_details_new"
   ]
  },
  {
   "cell_type": "markdown",
   "id": "911bce9a",
   "metadata": {},
   "source": [
    "Q. Correct and make the poro of RockD to be 0.25 instead of 0.23"
   ]
  },
  {
   "cell_type": "code",
   "execution_count": 47,
   "id": "83a89d9c",
   "metadata": {},
   "outputs": [
    {
     "data": {
      "text/plain": [
       "{'Lith': 'SST', 'Perm(mD)': 100, 'Poro': 0.23}"
      ]
     },
     "execution_count": 47,
     "metadata": {},
     "output_type": "execute_result"
    }
   ],
   "source": [
    "my_res_details_new['RockD']"
   ]
  },
  {
   "cell_type": "code",
   "execution_count": 48,
   "id": "e3f7249f",
   "metadata": {},
   "outputs": [],
   "source": [
    "my_res_details_new['RockD']['Poro'] = 0.25"
   ]
  },
  {
   "cell_type": "code",
   "execution_count": 49,
   "id": "abc9e880",
   "metadata": {},
   "outputs": [
    {
     "data": {
      "text/plain": [
       "{'Lith': 'SST', 'Perm(mD)': 100, 'Poro': 0.25}"
      ]
     },
     "execution_count": 49,
     "metadata": {},
     "output_type": "execute_result"
    }
   ],
   "source": [
    "my_res_details_new['RockD']"
   ]
  },
  {
   "cell_type": "markdown",
   "id": "71c7d335",
   "metadata": {},
   "source": [
    "> **A dict can be changed to a tubular datatype in python.**"
   ]
  },
  {
   "cell_type": "code",
   "execution_count": 54,
   "id": "407955ca",
   "metadata": {},
   "outputs": [
    {
     "data": {
      "text/plain": [
       "{'Depth': [1000, 1200, 1500], 'Poros': [0.25, 0.24, 0.22]}"
      ]
     },
     "execution_count": 54,
     "metadata": {},
     "output_type": "execute_result"
    }
   ],
   "source": [
    "#Example (this is just a sample for introducing 'Pandas')\n",
    "\n",
    "my_poros = {'Depth' : [1000, 1200, 1500],\n",
    "           'Poros' : [0.25, 0.24, 0.22]}\n",
    "my_poros"
   ]
  },
  {
   "cell_type": "code",
   "execution_count": 57,
   "id": "14d8cbf9",
   "metadata": {},
   "outputs": [],
   "source": [
    "import pandas as pd"
   ]
  },
  {
   "cell_type": "code",
   "execution_count": 71,
   "id": "fbd8b715",
   "metadata": {},
   "outputs": [
    {
     "data": {
      "text/html": [
       "<div>\n",
       "<style scoped>\n",
       "    .dataframe tbody tr th:only-of-type {\n",
       "        vertical-align: middle;\n",
       "    }\n",
       "\n",
       "    .dataframe tbody tr th {\n",
       "        vertical-align: top;\n",
       "    }\n",
       "\n",
       "    .dataframe thead th {\n",
       "        text-align: right;\n",
       "    }\n",
       "</style>\n",
       "<table border=\"1\" class=\"dataframe\">\n",
       "  <thead>\n",
       "    <tr style=\"text-align: right;\">\n",
       "      <th></th>\n",
       "      <th>Depth</th>\n",
       "      <th>Poros</th>\n",
       "    </tr>\n",
       "  </thead>\n",
       "  <tbody>\n",
       "    <tr>\n",
       "      <th>0</th>\n",
       "      <td>1000</td>\n",
       "      <td>0.25</td>\n",
       "    </tr>\n",
       "    <tr>\n",
       "      <th>1</th>\n",
       "      <td>1200</td>\n",
       "      <td>0.24</td>\n",
       "    </tr>\n",
       "    <tr>\n",
       "      <th>2</th>\n",
       "      <td>1500</td>\n",
       "      <td>0.22</td>\n",
       "    </tr>\n",
       "  </tbody>\n",
       "</table>\n",
       "</div>"
      ],
      "text/plain": [
       "   Depth  Poros\n",
       "0   1000   0.25\n",
       "1   1200   0.24\n",
       "2   1500   0.22"
      ]
     },
     "execution_count": 71,
     "metadata": {},
     "output_type": "execute_result"
    }
   ],
   "source": [
    "pd.DataFrame(my_poros)"
   ]
  },
  {
   "cell_type": "code",
   "execution_count": 72,
   "id": "e930b76d",
   "metadata": {},
   "outputs": [
    {
     "data": {
      "text/plain": [
       "<AxesSubplot:>"
      ]
     },
     "execution_count": 72,
     "metadata": {},
     "output_type": "execute_result"
    },
    {
     "data": {
      "image/png": "[encoded data removed]",
      "text/plain": [
       "<Figure size 432x288 with 1 Axes>"
      ]
     },
     "metadata": {
      "needs_background": "light"
     },
     "output_type": "display_data"
    }
   ],
   "source": [
    "pd.DataFrame(my_poros).plot()"
   ]
  }
 ],
 "metadata": {
  "kernelspec": {
   "display_name": "Python 3 (ipykernel)",
   "language": "python",
   "name": "python3"
  },
  "language_info": {
   "codemirror_mode": {
    "name": "ipython",
    "version": 3
   },
   "file_extension": ".py",
   "mimetype": "text/x-python",
   "name": "python",
   "nbconvert_exporter": "python",
   "pygments_lexer": "ipython3",
   "version": "3.9.12"
  }
 },
 "nbformat": 4,
 "nbformat_minor": 5
}
