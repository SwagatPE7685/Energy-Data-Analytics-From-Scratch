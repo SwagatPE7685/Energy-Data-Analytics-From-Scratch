{
 "cells": [
  {
   "cell_type": "markdown",
   "id": "f69653bd",
   "metadata": {},
   "source": [
    "## **Some other points of functions**"
   ]
  },
  {
   "cell_type": "markdown",
   "id": "c26cac83",
   "metadata": {},
   "source": [
    "- **lets use an example of specific gravity**"
   ]
  },
  {
   "cell_type": "code",
   "execution_count": 1,
   "id": "de169d32",
   "metadata": {},
   "outputs": [],
   "source": [
    "def api(sg):\n",
    "    '''\"api function will take input as specific gravity and \n",
    "    return density in API\"'''\n",
    "    \n",
    "    api = 141.5/sg -131.5\n",
    "    print(f'the api gravity is {api}')"
   ]
  },
  {
   "cell_type": "code",
   "execution_count": 2,
   "id": "7752f9ae",
   "metadata": {},
   "outputs": [
    {
     "name": "stdout",
     "output_type": "stream",
     "text": [
      "the api gravity is 151.5\n"
     ]
    }
   ],
   "source": [
    "api(0.5)"
   ]
  },
  {
   "cell_type": "markdown",
   "id": "39d1c86c",
   "metadata": {},
   "source": [
    "- **comes to Darcy Equation**"
   ]
  },
  {
   "cell_type": "code",
   "execution_count": 3,
   "id": "96faa6c9",
   "metadata": {},
   "outputs": [],
   "source": [
    "def darcy_calculation(C = 141.2):\n",
    "    '''Gives value of Darcy coefficient\n",
    "    Inputs: Flowrate,viscosity,formation Volume factor, Permeabilty,Net Pay Thickness\n",
    "    Output: darcy Coefficient'''\n",
    "    q = float(input('Enter the Flowrate in STB/d\\D: '))\n",
    "    mu = float(input('Enter Viscosity in cP: '))\n",
    "    B = float(input('Enter FVF rb/STB '))\n",
    "    k = float(input('Enter Perm mD '))\n",
    "    h = float(input('Enter Res Thickness ft:  '))\n",
    "    \n",
    "    darcy_calculation = C*q*mu*B/(k*h)\n",
    "    return darcy_calculation\n",
    "    "
   ]
  },
  {
   "cell_type": "code",
   "execution_count": 7,
   "id": "55bbd082",
   "metadata": {},
   "outputs": [
    {
     "name": "stdout",
     "output_type": "stream",
     "text": [
      "Enter the Flowrate in STB/d\\D: 1\n",
      "Enter Viscosity in cP: 2\n",
      "Enter FVF rb/STB 3\n",
      "Enter Perm mD 10\n",
      "Enter Res Thickness ft:  300\n"
     ]
    }
   ],
   "source": [
    "Cofficient = darcy_calculation()"
   ]
  },
  {
   "cell_type": "code",
   "execution_count": 11,
   "id": "ee96007e",
   "metadata": {},
   "outputs": [
    {
     "data": {
      "text/plain": [
       "0.2824"
      ]
     },
     "execution_count": 11,
     "metadata": {},
     "output_type": "execute_result"
    }
   ],
   "source": [
    "Cofficient"
   ]
  },
  {
   "cell_type": "markdown",
   "id": "2108b01b",
   "metadata": {},
   "source": [
    "---\n",
    "---"
   ]
  },
  {
   "cell_type": "markdown",
   "id": "0e7835f1",
   "metadata": {},
   "source": [
    "## NumPy"
   ]
  },
  {
   "cell_type": "markdown",
   "id": "4867a645",
   "metadata": {},
   "source": [
    "**Array**\n",
    "\n",
    ">**basically used to store the data**\n",
    "\n",
    ">**much faster than other languages**"
   ]
  },
  {
   "cell_type": "markdown",
   "id": "eef27369",
   "metadata": {},
   "source": [
    "First you need to import the numpy"
   ]
  },
  {
   "cell_type": "code",
   "execution_count": 19,
   "id": "87957e66",
   "metadata": {},
   "outputs": [],
   "source": [
    "import numpy as np"
   ]
  },
  {
   "cell_type": "code",
   "execution_count": 20,
   "id": "5c113d03",
   "metadata": {},
   "outputs": [
    {
     "data": {
      "text/plain": [
       "array(55565)"
      ]
     },
     "execution_count": 20,
     "metadata": {},
     "output_type": "execute_result"
    }
   ],
   "source": [
    "np.array(55565)"
   ]
  },
  {
   "cell_type": "code",
   "execution_count": 22,
   "id": "d6f2bf00",
   "metadata": {},
   "outputs": [],
   "source": [
    "#Example lets store the porosity data\n",
    "\n",
    "porosity = [0, 2, 3, 5, 6, 9]"
   ]
  },
  {
   "cell_type": "code",
   "execution_count": 23,
   "id": "5f7b386c",
   "metadata": {},
   "outputs": [
    {
     "data": {
      "text/plain": [
       "[0, 2, 3, 5, 6, 9]"
      ]
     },
     "execution_count": 23,
     "metadata": {},
     "output_type": "execute_result"
    }
   ],
   "source": [
    "porosity"
   ]
  },
  {
   "cell_type": "code",
   "execution_count": 24,
   "id": "d223d7bc",
   "metadata": {},
   "outputs": [
    {
     "data": {
      "text/plain": [
       "list"
      ]
     },
     "execution_count": 24,
     "metadata": {},
     "output_type": "execute_result"
    }
   ],
   "source": [
    "type(porosity)"
   ]
  },
  {
   "cell_type": "markdown",
   "id": "0f5af2c2",
   "metadata": {},
   "source": [
    "change it into array"
   ]
  },
  {
   "cell_type": "code",
   "execution_count": 25,
   "id": "101b1e2f",
   "metadata": {},
   "outputs": [],
   "source": [
    "arr_porosity = np.array(porosity)"
   ]
  },
  {
   "cell_type": "code",
   "execution_count": 26,
   "id": "51965cde",
   "metadata": {},
   "outputs": [
    {
     "data": {
      "text/plain": [
       "array([0, 2, 3, 5, 6, 9])"
      ]
     },
     "execution_count": 26,
     "metadata": {},
     "output_type": "execute_result"
    }
   ],
   "source": [
    "arr_porosity"
   ]
  },
  {
   "cell_type": "code",
   "execution_count": 27,
   "id": "cb207257",
   "metadata": {},
   "outputs": [
    {
     "data": {
      "text/plain": [
       "numpy.ndarray"
      ]
     },
     "execution_count": 27,
     "metadata": {},
     "output_type": "execute_result"
    }
   ],
   "source": [
    "type(arr_porosity)"
   ]
  },
  {
   "cell_type": "markdown",
   "id": "05ff7312",
   "metadata": {},
   "source": [
    "Also you can change it into tuple"
   ]
  },
  {
   "cell_type": "code",
   "execution_count": 28,
   "id": "a30240d9",
   "metadata": {},
   "outputs": [],
   "source": [
    "tup_poro = tuple(porosity)"
   ]
  },
  {
   "cell_type": "code",
   "execution_count": 29,
   "id": "5948d2f0",
   "metadata": {},
   "outputs": [
    {
     "data": {
      "text/plain": [
       "(0, 2, 3, 5, 6, 9)"
      ]
     },
     "execution_count": 29,
     "metadata": {},
     "output_type": "execute_result"
    }
   ],
   "source": [
    "tup_poro"
   ]
  },
  {
   "cell_type": "code",
   "execution_count": 30,
   "id": "8fbc7922",
   "metadata": {
    "scrolled": true
   },
   "outputs": [
    {
     "data": {
      "text/plain": [
       "tuple"
      ]
     },
     "execution_count": 30,
     "metadata": {},
     "output_type": "execute_result"
    }
   ],
   "source": [
    "type(tup_poro)"
   ]
  },
  {
   "cell_type": "markdown",
   "id": "008e5805",
   "metadata": {},
   "source": [
    "---\n",
    "---"
   ]
  },
  {
   "cell_type": "markdown",
   "id": "7ce43494",
   "metadata": {},
   "source": [
    "# Dimensions\n",
    "\n"
   ]
  },
  {
   "cell_type": "markdown",
   "id": "fd1733f0",
   "metadata": {},
   "source": [
    "> **1. Zero Dimension**"
   ]
  },
  {
   "cell_type": "code",
   "execution_count": 31,
   "id": "4ae90604",
   "metadata": {},
   "outputs": [],
   "source": [
    "arr = np.array(45)"
   ]
  },
  {
   "cell_type": "code",
   "execution_count": 32,
   "id": "08bc24a4",
   "metadata": {},
   "outputs": [
    {
     "data": {
      "text/plain": [
       "array(45)"
      ]
     },
     "execution_count": 32,
     "metadata": {},
     "output_type": "execute_result"
    }
   ],
   "source": [
    "arr"
   ]
  },
  {
   "cell_type": "markdown",
   "id": "843ca1ef",
   "metadata": {},
   "source": [
    "for checking the dimension of \"array\" use \"ndim\""
   ]
  },
  {
   "cell_type": "code",
   "execution_count": 33,
   "id": "b4cde048",
   "metadata": {},
   "outputs": [
    {
     "data": {
      "text/plain": [
       "0"
      ]
     },
     "execution_count": 33,
     "metadata": {},
     "output_type": "execute_result"
    }
   ],
   "source": [
    "arr.ndim"
   ]
  },
  {
   "cell_type": "markdown",
   "id": "66201538",
   "metadata": {},
   "source": [
    "---"
   ]
  },
  {
   "cell_type": "markdown",
   "id": "e4e66359",
   "metadata": {},
   "source": [
    "> **2. One Dimension**"
   ]
  },
  {
   "cell_type": "code",
   "execution_count": 49,
   "id": "b0b53cd6",
   "metadata": {},
   "outputs": [],
   "source": [
    "# for one dimension you have to use two brackets\n",
    "arr_1d = np.array([1,2,3,6,5,4,9])"
   ]
  },
  {
   "cell_type": "code",
   "execution_count": 40,
   "id": "eca3b3cf",
   "metadata": {},
   "outputs": [
    {
     "data": {
      "text/plain": [
       "array([1, 2, 3, 6, 5, 4, 9])"
      ]
     },
     "execution_count": 40,
     "metadata": {},
     "output_type": "execute_result"
    }
   ],
   "source": [
    "arr_1d"
   ]
  },
  {
   "cell_type": "code",
   "execution_count": 41,
   "id": "789e49a2",
   "metadata": {},
   "outputs": [
    {
     "data": {
      "text/plain": [
       "1"
      ]
     },
     "execution_count": 41,
     "metadata": {},
     "output_type": "execute_result"
    }
   ],
   "source": [
    "arr_1d.ndim"
   ]
  },
  {
   "cell_type": "markdown",
   "id": "c492c4ed",
   "metadata": {},
   "source": [
    "---"
   ]
  },
  {
   "cell_type": "markdown",
   "id": "aee42b39",
   "metadata": {},
   "source": [
    "> **3. Two Dimension**"
   ]
  },
  {
   "cell_type": "code",
   "execution_count": 115,
   "id": "896a49a0",
   "metadata": {},
   "outputs": [],
   "source": [
    "# for two dimension you have to use three brackets\n",
    "arr_2d = np.array([[1,2,3],[2,3,6],[4,5,6]])"
   ]
  },
  {
   "cell_type": "code",
   "execution_count": 116,
   "id": "4bf97910",
   "metadata": {},
   "outputs": [
    {
     "data": {
      "text/plain": [
       "array([[1, 2, 3],\n",
       "       [2, 3, 6],\n",
       "       [4, 5, 6]])"
      ]
     },
     "execution_count": 116,
     "metadata": {},
     "output_type": "execute_result"
    }
   ],
   "source": [
    "arr_2d"
   ]
  },
  {
   "cell_type": "code",
   "execution_count": 117,
   "id": "1a278b31",
   "metadata": {},
   "outputs": [
    {
     "data": {
      "text/plain": [
       "2"
      ]
     },
     "execution_count": 117,
     "metadata": {},
     "output_type": "execute_result"
    }
   ],
   "source": [
    "arr_2d.ndim"
   ]
  },
  {
   "cell_type": "code",
   "execution_count": 54,
   "id": "91159c14",
   "metadata": {},
   "outputs": [
    {
     "name": "stderr",
     "output_type": "stream",
     "text": [
      "C:\\Users\\user\\AppData\\Local\\Temp\\ipykernel_10348\\1797122181.py:2: VisibleDeprecationWarning: Creating an ndarray from ragged nested sequences (which is a list-or-tuple of lists-or-tuples-or ndarrays with different lengths or shapes) is deprecated. If you meant to do this, you must specify 'dtype=object' when creating the ndarray.\n",
      "  arra_1d = np.array([[1,2,3],[2,3,6],[4,5,6,5]])\n"
     ]
    }
   ],
   "source": [
    "#what if number of elements in 1D arrays are different:\n",
    "arra_1d = np.array([[1,2,3],[2,3,6],[4,5,6,5]])"
   ]
  },
  {
   "cell_type": "code",
   "execution_count": 55,
   "id": "12d6e429",
   "metadata": {},
   "outputs": [
    {
     "data": {
      "text/plain": [
       "array([list([1, 2, 3]), list([2, 3, 6]), list([4, 5, 6, 5])], dtype=object)"
      ]
     },
     "execution_count": 55,
     "metadata": {},
     "output_type": "execute_result"
    }
   ],
   "source": [
    "arra_1d"
   ]
  },
  {
   "cell_type": "code",
   "execution_count": 57,
   "id": "2a7041cb",
   "metadata": {},
   "outputs": [
    {
     "data": {
      "text/plain": [
       "1"
      ]
     },
     "execution_count": 57,
     "metadata": {},
     "output_type": "execute_result"
    }
   ],
   "source": [
    "'it will show 1 dimension as the no. of elements are different, array is not taking it as a dimension, it take it as a list'\n",
    "arra_1d.ndim"
   ]
  },
  {
   "cell_type": "markdown",
   "id": "d87ce5d3",
   "metadata": {},
   "source": [
    "- **In NumPy array you can store no. , floats, strings**"
   ]
  },
  {
   "cell_type": "code",
   "execution_count": 58,
   "id": "841b0b60",
   "metadata": {},
   "outputs": [],
   "source": [
    "a = np.array ([2,2.3,'abcd'])"
   ]
  },
  {
   "cell_type": "code",
   "execution_count": 59,
   "id": "aef3efb4",
   "metadata": {},
   "outputs": [
    {
     "data": {
      "text/plain": [
       "array(['2', '2.3', 'abcd'], dtype='<U32')"
      ]
     },
     "execution_count": 59,
     "metadata": {},
     "output_type": "execute_result"
    }
   ],
   "source": [
    "a"
   ]
  },
  {
   "cell_type": "markdown",
   "id": "208d30cf",
   "metadata": {},
   "source": [
    "---"
   ]
  },
  {
   "cell_type": "markdown",
   "id": "0b09a38d",
   "metadata": {},
   "source": [
    "> **4. Three Dimention**"
   ]
  },
  {
   "cell_type": "code",
   "execution_count": 73,
   "id": "26af4dc9",
   "metadata": {},
   "outputs": [],
   "source": [
    "arr_3d = np.array([[[1,2,3,6],[3,4,5,7],[4,5,9,4]],[[1,2,1,3],[3,4,4,5],[4,8,7,8]]])"
   ]
  },
  {
   "cell_type": "code",
   "execution_count": 74,
   "id": "fc701fd8",
   "metadata": {
    "scrolled": true
   },
   "outputs": [
    {
     "data": {
      "text/plain": [
       "array([[[1, 2, 3, 6],\n",
       "        [3, 4, 5, 7],\n",
       "        [4, 5, 9, 4]],\n",
       "\n",
       "       [[1, 2, 1, 3],\n",
       "        [3, 4, 4, 5],\n",
       "        [4, 8, 7, 8]]])"
      ]
     },
     "execution_count": 74,
     "metadata": {},
     "output_type": "execute_result"
    }
   ],
   "source": [
    "arr_3d"
   ]
  },
  {
   "cell_type": "code",
   "execution_count": 75,
   "id": "f169c91a",
   "metadata": {},
   "outputs": [
    {
     "data": {
      "text/plain": [
       "3"
      ]
     },
     "execution_count": 75,
     "metadata": {},
     "output_type": "execute_result"
    }
   ],
   "source": [
    "arr_3d.ndim"
   ]
  },
  {
   "cell_type": "code",
   "execution_count": 83,
   "id": "4f84ed6e",
   "metadata": {},
   "outputs": [
    {
     "data": {
      "text/plain": [
       "2"
      ]
     },
     "execution_count": 83,
     "metadata": {},
     "output_type": "execute_result"
    }
   ],
   "source": [
    "#also we can do some indices\n",
    "arr_3d[1][0][1]"
   ]
  },
  {
   "cell_type": "code",
   "execution_count": 86,
   "id": "332ff5ec",
   "metadata": {},
   "outputs": [],
   "source": [
    "#Example : find pick out the no \"9998\" \n",
    "arra_4d = np.array([[[[1,2,3,4],[3,4,5,6],[4,5,6,4]],[[31,26,64,65],[56,59,56,12],[45,48,49,66]]],\n",
    "                    [[[11,22,33,66],[78,89,56,15],[45,89,69,326]],[[54,545,54,9998],[78,15,91,61],[45,45,65,31]]]])"
   ]
  },
  {
   "cell_type": "code",
   "execution_count": 87,
   "id": "6be0f21d",
   "metadata": {},
   "outputs": [
    {
     "data": {
      "text/plain": [
       "array([[[[   1,    2,    3,    4],\n",
       "         [   3,    4,    5,    6],\n",
       "         [   4,    5,    6,    4]],\n",
       "\n",
       "        [[  31,   26,   64,   65],\n",
       "         [  56,   59,   56,   12],\n",
       "         [  45,   48,   49,   66]]],\n",
       "\n",
       "\n",
       "       [[[  11,   22,   33,   66],\n",
       "         [  78,   89,   56,   15],\n",
       "         [  45,   89,   69,  326]],\n",
       "\n",
       "        [[  54,  545,   54, 9998],\n",
       "         [  78,   15,   91,   61],\n",
       "         [  45,   45,   65,   31]]]])"
      ]
     },
     "execution_count": 87,
     "metadata": {},
     "output_type": "execute_result"
    }
   ],
   "source": [
    "arra_4d"
   ]
  },
  {
   "cell_type": "code",
   "execution_count": 96,
   "id": "7ae9ce59",
   "metadata": {},
   "outputs": [
    {
     "data": {
      "text/plain": [
       "9998"
      ]
     },
     "execution_count": 96,
     "metadata": {},
     "output_type": "execute_result"
    }
   ],
   "source": [
    "arra_4d[1][1][0][3]"
   ]
  },
  {
   "cell_type": "markdown",
   "id": "b8296197",
   "metadata": {},
   "source": [
    "> **dont get confuse with the no. of bracket**\n",
    "\n",
    "Zero dimension - [  ]\n",
    "\n",
    "first dimesion - [[  ]]\n",
    "\n",
    "three dimension - [[[  ]]]\n",
    "\n",
    "four dimension - [[[[  ]]]]"
   ]
  },
  {
   "cell_type": "markdown",
   "id": "e9a2415d",
   "metadata": {},
   "source": [
    "**ndin = gives you the no. of dimension**\n",
    "\n",
    "**ndmin = add the no. of dimensions**"
   ]
  },
  {
   "cell_type": "code",
   "execution_count": 101,
   "id": "763b454b",
   "metadata": {},
   "outputs": [],
   "source": [
    "#you can practice by doing this\n",
    " \n",
    "    check_arr = np.array([3,2,6],ndmin = 4)"
   ]
  },
  {
   "cell_type": "code",
   "execution_count": 102,
   "id": "28d9d657",
   "metadata": {},
   "outputs": [
    {
     "data": {
      "text/plain": [
       "array([[[[3, 2, 6]]]])"
      ]
     },
     "execution_count": 102,
     "metadata": {},
     "output_type": "execute_result"
    }
   ],
   "source": [
    "check_arr"
   ]
  },
  {
   "cell_type": "markdown",
   "id": "9fbb773a",
   "metadata": {},
   "source": [
    "---"
   ]
  },
  {
   "cell_type": "markdown",
   "id": "ef1593fa",
   "metadata": {},
   "source": [
    "## Shape: Checking the shape of array"
   ]
  },
  {
   "cell_type": "markdown",
   "id": "c0470734",
   "metadata": {},
   "source": [
    "> 1 diemsion"
   ]
  },
  {
   "cell_type": "code",
   "execution_count": 112,
   "id": "5af219e0",
   "metadata": {},
   "outputs": [
    {
     "data": {
      "text/plain": [
       "array([list([1, 2, 3]), list([2, 3, 6]), list([4, 5, 6, 5])], dtype=object)"
      ]
     },
     "execution_count": 112,
     "metadata": {},
     "output_type": "execute_result"
    }
   ],
   "source": [
    "arr_1d"
   ]
  },
  {
   "cell_type": "code",
   "execution_count": 126,
   "id": "a0e47202",
   "metadata": {},
   "outputs": [
    {
     "data": {
      "text/plain": [
       "(3,)"
      ]
     },
     "execution_count": 126,
     "metadata": {},
     "output_type": "execute_result"
    }
   ],
   "source": [
    "arr_1d.shape"
   ]
  },
  {
   "cell_type": "markdown",
   "id": "3b7f74da",
   "metadata": {},
   "source": [
    "> 2 dimension"
   ]
  },
  {
   "cell_type": "code",
   "execution_count": 153,
   "id": "86a8fa31",
   "metadata": {},
   "outputs": [
    {
     "data": {
      "text/plain": [
       "array([[1, 2, 3],\n",
       "       [2, 3, 6],\n",
       "       [4, 5, 6]])"
      ]
     },
     "execution_count": 153,
     "metadata": {},
     "output_type": "execute_result"
    }
   ],
   "source": [
    "arr_2d"
   ]
  },
  {
   "cell_type": "code",
   "execution_count": 119,
   "id": "5a4f827c",
   "metadata": {},
   "outputs": [
    {
     "data": {
      "text/plain": [
       "(3, 3)"
      ]
     },
     "execution_count": 119,
     "metadata": {},
     "output_type": "execute_result"
    }
   ],
   "source": [
    "arr_2d.shape"
   ]
  },
  {
   "cell_type": "markdown",
   "id": "b8ba556c",
   "metadata": {},
   "source": [
    "> 3 dimension"
   ]
  },
  {
   "cell_type": "code",
   "execution_count": 120,
   "id": "cd043889",
   "metadata": {},
   "outputs": [
    {
     "data": {
      "text/plain": [
       "array([[[1, 2, 3, 6],\n",
       "        [3, 4, 5, 7],\n",
       "        [4, 5, 9, 4]],\n",
       "\n",
       "       [[1, 2, 1, 3],\n",
       "        [3, 4, 4, 5],\n",
       "        [4, 8, 7, 8]]])"
      ]
     },
     "execution_count": 120,
     "metadata": {},
     "output_type": "execute_result"
    }
   ],
   "source": [
    "arr_3d"
   ]
  },
  {
   "cell_type": "code",
   "execution_count": 122,
   "id": "bf843e96",
   "metadata": {},
   "outputs": [
    {
     "data": {
      "text/plain": [
       "(2, 3, 4)"
      ]
     },
     "execution_count": 122,
     "metadata": {},
     "output_type": "execute_result"
    }
   ],
   "source": [
    "arr_3d.shape"
   ]
  },
  {
   "cell_type": "markdown",
   "id": "082db25b",
   "metadata": {},
   "source": [
    "> 4 dimension"
   ]
  },
  {
   "cell_type": "code",
   "execution_count": 124,
   "id": "8d116a1b",
   "metadata": {},
   "outputs": [
    {
     "data": {
      "text/plain": [
       "array([[[[   1,    2,    3,    4],\n",
       "         [   3,    4,    5,    6],\n",
       "         [   4,    5,    6,    4]],\n",
       "\n",
       "        [[  31,   26,   64,   65],\n",
       "         [  56,   59,   56,   12],\n",
       "         [  45,   48,   49,   66]]],\n",
       "\n",
       "\n",
       "       [[[  11,   22,   33,   66],\n",
       "         [  78,   89,   56,   15],\n",
       "         [  45,   89,   69,  326]],\n",
       "\n",
       "        [[  54,  545,   54, 9998],\n",
       "         [  78,   15,   91,   61],\n",
       "         [  45,   45,   65,   31]]]])"
      ]
     },
     "execution_count": 124,
     "metadata": {},
     "output_type": "execute_result"
    }
   ],
   "source": [
    "arra_4d"
   ]
  },
  {
   "cell_type": "code",
   "execution_count": 125,
   "id": "c5eb495b",
   "metadata": {},
   "outputs": [
    {
     "data": {
      "text/plain": [
       "(2, 2, 3, 4)"
      ]
     },
     "execution_count": 125,
     "metadata": {},
     "output_type": "execute_result"
    }
   ],
   "source": [
    "arra_4d.shape"
   ]
  },
  {
   "cell_type": "markdown",
   "id": "4688978f",
   "metadata": {},
   "source": [
    "Other Example"
   ]
  },
  {
   "cell_type": "code",
   "execution_count": 131,
   "id": "0b33f991",
   "metadata": {},
   "outputs": [],
   "source": [
    "arr_7 = np.array([3,2,6],ndmin = 5)"
   ]
  },
  {
   "cell_type": "code",
   "execution_count": 132,
   "id": "d7f9f00d",
   "metadata": {},
   "outputs": [
    {
     "data": {
      "text/plain": [
       "array([[[[[3, 2, 6]]]]])"
      ]
     },
     "execution_count": 132,
     "metadata": {},
     "output_type": "execute_result"
    }
   ],
   "source": [
    "arr_7"
   ]
  },
  {
   "cell_type": "code",
   "execution_count": 133,
   "id": "c9939028",
   "metadata": {},
   "outputs": [
    {
     "data": {
      "text/plain": [
       "(1, 1, 1, 1, 3)"
      ]
     },
     "execution_count": 133,
     "metadata": {},
     "output_type": "execute_result"
    }
   ],
   "source": [
    "arr_7.shape"
   ]
  },
  {
   "cell_type": "markdown",
   "id": "42256b91",
   "metadata": {},
   "source": [
    "---"
   ]
  },
  {
   "cell_type": "markdown",
   "id": "6e70ccf1",
   "metadata": {},
   "source": [
    "# Generating Arrays"
   ]
  },
  {
   "cell_type": "markdown",
   "id": "92a99a42",
   "metadata": {},
   "source": [
    "> **arange**\n",
    "\n",
    " - np arange (start, stop, step)"
   ]
  },
  {
   "cell_type": "code",
   "execution_count": 134,
   "id": "87949547",
   "metadata": {},
   "outputs": [
    {
     "data": {
      "text/plain": [
       "array([ 0,  2,  4,  6,  8, 10])"
      ]
     },
     "execution_count": 134,
     "metadata": {},
     "output_type": "execute_result"
    }
   ],
   "source": [
    "np.arange(0,12,2)"
   ]
  },
  {
   "cell_type": "markdown",
   "id": "503c4746",
   "metadata": {},
   "source": [
    "Q. makes an array of pressures ranging from 0 to 5000 psi with a step size of 500 psiu\n",
    "\n",
    "- np.arange(0,5000,500)\n",
    "- np.arange(0,5001,500)\n",
    "- np.arange(0,5500,500)"
   ]
  },
  {
   "cell_type": "code",
   "execution_count": 138,
   "id": "5479a124",
   "metadata": {},
   "outputs": [],
   "source": [
    "pressure_01 = np.arange(0,5000,500)"
   ]
  },
  {
   "cell_type": "code",
   "execution_count": 139,
   "id": "bb2b1485",
   "metadata": {},
   "outputs": [
    {
     "data": {
      "text/plain": [
       "array([   0,  500, 1000, 1500, 2000, 2500, 3000, 3500, 4000, 4500])"
      ]
     },
     "execution_count": 139,
     "metadata": {},
     "output_type": "execute_result"
    }
   ],
   "source": [
    "pressure_01"
   ]
  },
  {
   "cell_type": "code",
   "execution_count": 140,
   "id": "6d5c998b",
   "metadata": {},
   "outputs": [],
   "source": [
    "pressure_02 = np.arange(0,5001,500)"
   ]
  },
  {
   "cell_type": "code",
   "execution_count": 141,
   "id": "088442be",
   "metadata": {},
   "outputs": [
    {
     "data": {
      "text/plain": [
       "array([   0,  500, 1000, 1500, 2000, 2500, 3000, 3500, 4000, 4500, 5000])"
      ]
     },
     "execution_count": 141,
     "metadata": {},
     "output_type": "execute_result"
    }
   ],
   "source": [
    "pressure_02"
   ]
  },
  {
   "cell_type": "code",
   "execution_count": 142,
   "id": "a2604e73",
   "metadata": {},
   "outputs": [],
   "source": [
    "pressure_03 = np.arange(0,5500,500)"
   ]
  },
  {
   "cell_type": "code",
   "execution_count": 143,
   "id": "0db7c49a",
   "metadata": {},
   "outputs": [
    {
     "data": {
      "text/plain": [
       "array([   0,  500, 1000, 1500, 2000, 2500, 3000, 3500, 4000, 4500, 5000])"
      ]
     },
     "execution_count": 143,
     "metadata": {},
     "output_type": "execute_result"
    }
   ],
   "source": [
    "pressure_03"
   ]
  },
  {
   "cell_type": "markdown",
   "id": "47305cbc",
   "metadata": {},
   "source": [
    "---"
   ]
  },
  {
   "cell_type": "markdown",
   "id": "61b89eac",
   "metadata": {},
   "source": [
    "# Linspace: create linearly spaced arrays"
   ]
  },
  {
   "cell_type": "markdown",
   "id": "9f56b461",
   "metadata": {},
   "source": [
    "- **Syntex: np.linspace(start,stop,number of points)**\n",
    "\n",
    "- **Stop point is also included in array**"
   ]
  },
  {
   "cell_type": "code",
   "execution_count": 144,
   "id": "ec77f851",
   "metadata": {},
   "outputs": [],
   "source": [
    "#Example:\n",
    "\n",
    "satuations = np.linspace(0,1,100)"
   ]
  },
  {
   "cell_type": "code",
   "execution_count": 145,
   "id": "6e7cafe4",
   "metadata": {},
   "outputs": [
    {
     "data": {
      "text/plain": [
       "array([0.        , 0.01010101, 0.02020202, 0.03030303, 0.04040404,\n",
       "       0.05050505, 0.06060606, 0.07070707, 0.08080808, 0.09090909,\n",
       "       0.1010101 , 0.11111111, 0.12121212, 0.13131313, 0.14141414,\n",
       "       0.15151515, 0.16161616, 0.17171717, 0.18181818, 0.19191919,\n",
       "       0.2020202 , 0.21212121, 0.22222222, 0.23232323, 0.24242424,\n",
       "       0.25252525, 0.26262626, 0.27272727, 0.28282828, 0.29292929,\n",
       "       0.3030303 , 0.31313131, 0.32323232, 0.33333333, 0.34343434,\n",
       "       0.35353535, 0.36363636, 0.37373737, 0.38383838, 0.39393939,\n",
       "       0.4040404 , 0.41414141, 0.42424242, 0.43434343, 0.44444444,\n",
       "       0.45454545, 0.46464646, 0.47474747, 0.48484848, 0.49494949,\n",
       "       0.50505051, 0.51515152, 0.52525253, 0.53535354, 0.54545455,\n",
       "       0.55555556, 0.56565657, 0.57575758, 0.58585859, 0.5959596 ,\n",
       "       0.60606061, 0.61616162, 0.62626263, 0.63636364, 0.64646465,\n",
       "       0.65656566, 0.66666667, 0.67676768, 0.68686869, 0.6969697 ,\n",
       "       0.70707071, 0.71717172, 0.72727273, 0.73737374, 0.74747475,\n",
       "       0.75757576, 0.76767677, 0.77777778, 0.78787879, 0.7979798 ,\n",
       "       0.80808081, 0.81818182, 0.82828283, 0.83838384, 0.84848485,\n",
       "       0.85858586, 0.86868687, 0.87878788, 0.88888889, 0.8989899 ,\n",
       "       0.90909091, 0.91919192, 0.92929293, 0.93939394, 0.94949495,\n",
       "       0.95959596, 0.96969697, 0.97979798, 0.98989899, 1.        ])"
      ]
     },
     "execution_count": 145,
     "metadata": {},
     "output_type": "execute_result"
    }
   ],
   "source": [
    "satuations"
   ]
  },
  {
   "cell_type": "markdown",
   "id": "6d07b307",
   "metadata": {},
   "source": [
    "# Making array with us of zeros, ones and identity matrices"
   ]
  },
  {
   "cell_type": "markdown",
   "id": "ad3030d9",
   "metadata": {},
   "source": [
    "> **use np.zeros((shape of array))**"
   ]
  },
  {
   "cell_type": "code",
   "execution_count": 148,
   "id": "f337d0f9",
   "metadata": {},
   "outputs": [],
   "source": [
    "#Example:\n",
    "    \n",
    "a = np.zeros((5,5))"
   ]
  },
  {
   "cell_type": "code",
   "execution_count": 149,
   "id": "db570631",
   "metadata": {},
   "outputs": [
    {
     "data": {
      "text/plain": [
       "array([[0., 0., 0., 0., 0.],\n",
       "       [0., 0., 0., 0., 0.],\n",
       "       [0., 0., 0., 0., 0.],\n",
       "       [0., 0., 0., 0., 0.],\n",
       "       [0., 0., 0., 0., 0.]])"
      ]
     },
     "execution_count": 149,
     "metadata": {},
     "output_type": "execute_result"
    }
   ],
   "source": [
    "a"
   ]
  },
  {
   "cell_type": "markdown",
   "id": "2437a4d9",
   "metadata": {},
   "source": [
    "> **NumPy are Mutable in nature**"
   ]
  },
  {
   "cell_type": "code",
   "execution_count": 151,
   "id": "f2b4e622",
   "metadata": {},
   "outputs": [],
   "source": [
    "# you can any element becoz it is mutable\n",
    "\n",
    "a[2,2] = 4"
   ]
  },
  {
   "cell_type": "code",
   "execution_count": 152,
   "id": "4592114c",
   "metadata": {},
   "outputs": [
    {
     "data": {
      "text/plain": [
       "array([[0., 0., 0., 0., 0.],\n",
       "       [0., 0., 0., 0., 0.],\n",
       "       [0., 0., 4., 0., 0.],\n",
       "       [0., 0., 0., 0., 0.],\n",
       "       [0., 0., 0., 0., 0.]])"
      ]
     },
     "execution_count": 152,
     "metadata": {},
     "output_type": "execute_result"
    }
   ],
   "source": [
    "a"
   ]
  },
  {
   "cell_type": "markdown",
   "id": "c66029f0",
   "metadata": {},
   "source": [
    "> **Identity matrices = diagonal matrices**\n",
    "\n",
    "> **us np.eye**"
   ]
  },
  {
   "cell_type": "code",
   "execution_count": 163,
   "id": "265017db",
   "metadata": {},
   "outputs": [],
   "source": [
    "i = np.eye(5,5)"
   ]
  },
  {
   "cell_type": "code",
   "execution_count": 164,
   "id": "a1e5689b",
   "metadata": {},
   "outputs": [
    {
     "data": {
      "text/plain": [
       "array([[1., 0., 0., 0., 0.],\n",
       "       [0., 1., 0., 0., 0.],\n",
       "       [0., 0., 1., 0., 0.],\n",
       "       [0., 0., 0., 1., 0.],\n",
       "       [0., 0., 0., 0., 1.]])"
      ]
     },
     "execution_count": 164,
     "metadata": {},
     "output_type": "execute_result"
    }
   ],
   "source": [
    "i"
   ]
  },
  {
   "cell_type": "markdown",
   "id": "250215d5",
   "metadata": {},
   "source": [
    "- you can also multiply anything with matrices"
   ]
  },
  {
   "cell_type": "code",
   "execution_count": 166,
   "id": "05c7f345",
   "metadata": {},
   "outputs": [],
   "source": [
    "k =i*5"
   ]
  },
  {
   "cell_type": "code",
   "execution_count": 167,
   "id": "45168f5d",
   "metadata": {},
   "outputs": [
    {
     "data": {
      "text/plain": [
       "array([[5., 0., 0., 0., 0.],\n",
       "       [0., 5., 0., 0., 0.],\n",
       "       [0., 0., 5., 0., 0.],\n",
       "       [0., 0., 0., 5., 0.],\n",
       "       [0., 0., 0., 0., 5.]])"
      ]
     },
     "execution_count": 167,
     "metadata": {},
     "output_type": "execute_result"
    }
   ],
   "source": [
    "k"
   ]
  }
 ],
 "metadata": {
  "kernelspec": {
   "display_name": "Python 3 (ipykernel)",
   "language": "python",
   "name": "python3"
  },
  "language_info": {
   "codemirror_mode": {
    "name": "ipython",
    "version": 3
   },
   "file_extension": ".py",
   "mimetype": "text/x-python",
   "name": "python",
   "nbconvert_exporter": "python",
   "pygments_lexer": "ipython3",
   "version": "3.9.12"
  }
 },
 "nbformat": 4,
 "nbformat_minor": 5
}
