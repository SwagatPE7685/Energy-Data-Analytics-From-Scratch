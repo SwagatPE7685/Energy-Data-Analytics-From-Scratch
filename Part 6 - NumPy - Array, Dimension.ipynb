{
 "cells": [
  {
   "cell_type": "markdown",
   "id": "f69653bd",
   "metadata": {},
   "source": [
    "## **Some other points of functions**"
   ]
  },
  {
   "cell_type": "markdown",
   "id": "c26cac83",
   "metadata": {},
   "source": [
    "- **lets use an example of specific gravity**"
   ]
  },
  {
   "cell_type": "code",
   "execution_count": 1,
   "id": "de169d32",
   "metadata": {},
   "outputs": [],
   "source": [
    "def api(sg):\n",
    "    '''\"api function will take input as specific gravity and \n",
    "    return density in API\"'''\n",
    "    \n",
    "    api = 141.5/sg -131.5\n",
    "    print(f'the api gravity is {api}')"
   ]
  },
  {
   "cell_type": "code",
   "execution_count": 2,
   "id": "7752f9ae",
   "metadata": {},
   "outputs": [
    {
     "name": "stdout",
     "output_type": "stream",
     "text": [
      "the api gravity is 151.5\n"
     ]
    }
   ],
   "source": [
    "api(0.5)"
   ]
  },
  {
   "cell_type": "markdown",
   "id": "39d1c86c",
   "metadata": {},
   "source": [
    "- **comes to Darcy Equation**"
   ]
  },
  {
   "cell_type": "code",
   "execution_count": 3,
   "id": "96faa6c9",
   "metadata": {},
   "outputs": [],
   "source": [
    "def darcy_calculation(C = 141.2):\n",
    "    '''Gives value of Darcy coefficient\n",
    "    Inputs: Flowrate,viscosity,formation Volume factor, Permeabilty,Net Pay Thickness\n",
    "    Output: darcy Coefficient'''\n",
    "    q = float(input('Enter the Flowrate in STB/d\\D: '))\n",
    "    mu = float(input('Enter Viscosity in cP: '))\n",
    "    B = float(input('Enter FVF rb/STB '))\n",
    "    k = float(input('Enter Perm mD '))\n",
    "    h = float(input('Enter Res Thickness ft:  '))\n",
    "    \n",
    "    darcy_calculation = C*q*mu*B/(k*h)\n",
    "    return darcy_calculation\n",
    "    "
   ]
  },
  {
   "cell_type": "code",
   "execution_count": 7,
   "id": "55bbd082",
   "metadata": {},
   "outputs": [
    {
     "name": "stdout",
     "output_type": "stream",
     "text": [
      "Enter the Flowrate in STB/d\\D: 1\n",
      "Enter Viscosity in cP: 2\n",
      "Enter FVF rb/STB 3\n",
      "Enter Perm mD 10\n",
      "Enter Res Thickness ft:  300\n"
     ]
    }
   ],
   "source": [
    "Cofficient = darcy_calculation()"
   ]
  },
  {
   "cell_type": "code",
   "execution_count": 11,
   "id": "ee96007e",
   "metadata": {},
   "outputs": [
    {
     "data": {
      "text/plain": [
       "0.2824"
      ]
     },
     "execution_count": 11,
     "metadata": {},
     "output_type": "execute_result"
    }
   ],
   "source": [
    "Cofficient"
   ]
  },
  {
   "cell_type": "markdown",
   "id": "fd3c330f",
   "metadata": {},
   "source": [
    "---\n",
    "---"
   ]
  },
  {
   "cell_type": "markdown",
   "id": "7ae90f06",
   "metadata": {},
   "source": [
    "## NumPy"
   ]
  },
  {
   "cell_type": "markdown",
   "id": "90527222",
   "metadata": {},
   "source": [
    "**Array**\n",
    "\n",
    ">**basically used to store the data**\n",
    "\n",
    ">**much faster than other languages**"
   ]
  },
  {
   "cell_type": "markdown",
   "id": "018b2e62",
   "metadata": {},
   "source": [
    "First you need to import the numpy"
   ]
  },
  {
   "cell_type": "code",
   "execution_count": 19,
   "id": "87957e66",
   "metadata": {},
   "outputs": [],
   "source": [
    "import numpy as np"
   ]
  },
  {
   "cell_type": "code",
   "execution_count": 20,
   "id": "8804f5dc",
   "metadata": {},
   "outputs": [
    {
     "data": {
      "text/plain": [
       "array(55565)"
      ]
     },
     "execution_count": 20,
     "metadata": {},
     "output_type": "execute_result"
    }
   ],
   "source": [
    "np.array(55565)"
   ]
  },
  {
   "cell_type": "code",
   "execution_count": 22,
   "id": "d6f2bf00",
   "metadata": {},
   "outputs": [],
   "source": [
    "#Example lets store the porosity data\n",
    "\n",
    "porosity = [0, 2, 3, 5, 6, 9]"
   ]
  },
  {
   "cell_type": "code",
   "execution_count": 23,
   "id": "0bded44b",
   "metadata": {},
   "outputs": [
    {
     "data": {
      "text/plain": [
       "[0, 2, 3, 5, 6, 9]"
      ]
     },
     "execution_count": 23,
     "metadata": {},
     "output_type": "execute_result"
    }
   ],
   "source": [
    "porosity"
   ]
  },
  {
   "cell_type": "code",
   "execution_count": 24,
   "id": "24be588d",
   "metadata": {},
   "outputs": [
    {
     "data": {
      "text/plain": [
       "list"
      ]
     },
     "execution_count": 24,
     "metadata": {},
     "output_type": "execute_result"
    }
   ],
   "source": [
    "type(porosity)"
   ]
  },
  {
   "cell_type": "markdown",
   "id": "9864f7b7",
   "metadata": {},
   "source": [
    "change it into array"
   ]
  },
  {
   "cell_type": "code",
   "execution_count": 25,
   "id": "723848c4",
   "metadata": {},
   "outputs": [],
   "source": [
    "arr_porosity = np.array(porosity)"
   ]
  },
  {
   "cell_type": "code",
   "execution_count": 26,
   "id": "51965cde",
   "metadata": {},
   "outputs": [
    {
     "data": {
      "text/plain": [
       "array([0, 2, 3, 5, 6, 9])"
      ]
     },
     "execution_count": 26,
     "metadata": {},
     "output_type": "execute_result"
    }
   ],
   "source": [
    "arr_porosity"
   ]
  },
  {
   "cell_type": "code",
   "execution_count": 27,
   "id": "a6bd7814",
   "metadata": {},
   "outputs": [
    {
     "data": {
      "text/plain": [
       "numpy.ndarray"
      ]
     },
     "execution_count": 27,
     "metadata": {},
     "output_type": "execute_result"
    }
   ],
   "source": [
    "type(arr_porosity)"
   ]
  },
  {
   "cell_type": "markdown",
   "id": "2cf3aea9",
   "metadata": {},
   "source": [
    "Also you can change it into tuple"
   ]
  },
  {
   "cell_type": "code",
   "execution_count": 28,
   "id": "a30240d9",
   "metadata": {},
   "outputs": [],
   "source": [
    "tup_poro = tuple(porosity)"
   ]
  },
  {
   "cell_type": "code",
   "execution_count": 29,
   "id": "714755ae",
   "metadata": {},
   "outputs": [
    {
     "data": {
      "text/plain": [
       "(0, 2, 3, 5, 6, 9)"
      ]
     },
     "execution_count": 29,
     "metadata": {},
     "output_type": "execute_result"
    }
   ],
   "source": [
    "tup_poro"
   ]
  },
  {
   "cell_type": "code",
   "execution_count": 30,
   "id": "ea793c6a",
   "metadata": {
    "scrolled": true
   },
   "outputs": [
    {
     "data": {
      "text/plain": [
       "tuple"
      ]
     },
     "execution_count": 30,
     "metadata": {},
     "output_type": "execute_result"
    }
   ],
   "source": [
    "type(tup_poro)"
   ]
  },
  {
   "cell_type": "markdown",
   "id": "90801fd3",
   "metadata": {},
   "source": [
    "---\n",
    "---"
   ]
  },
  {
   "cell_type": "markdown",
   "id": "2ed22cca",
   "metadata": {},
   "source": [
    "# Dimensions\n",
    "\n"
   ]
  },
  {
   "cell_type": "markdown",
   "id": "7e6d44a8",
   "metadata": {},
   "source": [
    "> **1. Zero Dimension**"
   ]
  },
  {
   "cell_type": "code",
   "execution_count": 31,
   "id": "67314cab",
   "metadata": {},
   "outputs": [],
   "source": [
    "arr = np.array(45)"
   ]
  },
  {
   "cell_type": "code",
   "execution_count": 32,
   "id": "918f97e6",
   "metadata": {},
   "outputs": [
    {
     "data": {
      "text/plain": [
       "array(45)"
      ]
     },
     "execution_count": 32,
     "metadata": {},
     "output_type": "execute_result"
    }
   ],
   "source": [
    "arr"
   ]
  },
  {
   "cell_type": "markdown",
   "id": "3dcfd178",
   "metadata": {},
   "source": [
    "for checking the dimension of \"array\" use \"ndim\""
   ]
  },
  {
   "cell_type": "code",
   "execution_count": 33,
   "id": "84326426",
   "metadata": {},
   "outputs": [
    {
     "data": {
      "text/plain": [
       "0"
      ]
     },
     "execution_count": 33,
     "metadata": {},
     "output_type": "execute_result"
    }
   ],
   "source": [
    "arr.ndim"
   ]
  },
  {
   "cell_type": "markdown",
   "id": "14607ee4",
   "metadata": {},
   "source": [
    "---"
   ]
  },
  {
   "cell_type": "markdown",
   "id": "88620677",
   "metadata": {},
   "source": [
    "> **2. One Dimension**"
   ]
  },
  {
   "cell_type": "code",
   "execution_count": 49,
   "id": "7a692b5a",
   "metadata": {},
   "outputs": [],
   "source": [
    "# for one dimension you have to use two brackets\n",
    "arr_1d = np.array([1,2,3,6,5,4,9])"
   ]
  },
  {
   "cell_type": "code",
   "execution_count": 40,
   "id": "8e80bc83",
   "metadata": {},
   "outputs": [
    {
     "data": {
      "text/plain": [
       "array([1, 2, 3, 6, 5, 4, 9])"
      ]
     },
     "execution_count": 40,
     "metadata": {},
     "output_type": "execute_result"
    }
   ],
   "source": [
    "arr_1d"
   ]
  },
  {
   "cell_type": "code",
   "execution_count": 41,
   "id": "4584dfe2",
   "metadata": {},
   "outputs": [
    {
     "data": {
      "text/plain": [
       "1"
      ]
     },
     "execution_count": 41,
     "metadata": {},
     "output_type": "execute_result"
    }
   ],
   "source": [
    "arr_1d.ndim"
   ]
  },
  {
   "cell_type": "markdown",
   "id": "fc6d4e33",
   "metadata": {},
   "source": [
    "---"
   ]
  },
  {
   "cell_type": "markdown",
   "id": "ba0f8f4c",
   "metadata": {},
   "source": [
    "> **3. Two Dimension**"
   ]
  },
  {
   "cell_type": "code",
   "execution_count": 115,
   "id": "db11a84a",
   "metadata": {},
   "outputs": [],
   "source": [
    "# for two dimension you have to use three brackets\n",
    "arr_2d = np.array([[1,2,3],[2,3,6],[4,5,6]])"
   ]
  },
  {
   "cell_type": "code",
   "execution_count": 116,
   "id": "3431f02b",
   "metadata": {},
   "outputs": [
    {
     "data": {
      "text/plain": [
       "array([[1, 2, 3],\n",
       "       [2, 3, 6],\n",
       "       [4, 5, 6]])"
      ]
     },
     "execution_count": 116,
     "metadata": {},
     "output_type": "execute_result"
    }
   ],
   "source": [
    "arr_2d"
   ]
  },
  {
   "cell_type": "code",
   "execution_count": 117,
   "id": "b8cf38f4",
   "metadata": {},
   "outputs": [
    {
     "data": {
      "text/plain": [
       "2"
      ]
     },
     "execution_count": 117,
     "metadata": {},
     "output_type": "execute_result"
    }
   ],
   "source": [
    "arr_2d.ndim"
   ]
  },
  {
   "cell_type": "code",
   "execution_count": 54,
   "id": "efa70e59",
   "metadata": {},
   "outputs": [
    {
     "name": "stderr",
     "output_type": "stream",
     "text": [
      "C:\\Users\\user\\AppData\\Local\\Temp\\ipykernel_10348\\1797122181.py:2: VisibleDeprecationWarning: Creating an ndarray from ragged nested sequences (which is a list-or-tuple of lists-or-tuples-or ndarrays with different lengths or shapes) is deprecated. If you meant to do this, you must specify 'dtype=object' when creating the ndarray.\n",
      "  arra_1d = np.array([[1,2,3],[2,3,6],[4,5,6,5]])\n"
     ]
    }
   ],
   "source": [
    "#what if number of elements in 1D arrays are different:\n",
    "arra_1d = np.array([[1,2,3],[2,3,6],[4,5,6,5]])"
   ]
  },
  {
   "cell_type": "code",
   "execution_count": 55,
   "id": "572022bf",
   "metadata": {},
   "outputs": [
    {
     "data": {
      "text/plain": [
       "array([list([1, 2, 3]), list([2, 3, 6]), list([4, 5, 6, 5])], dtype=object)"
      ]
     },
     "execution_count": 55,
     "metadata": {},
     "output_type": "execute_result"
    }
   ],
   "source": [
    "arra_1d"
   ]
  },
  {
   "cell_type": "code",
   "execution_count": 57,
   "id": "d89eaea3",
   "metadata": {},
   "outputs": [
    {
     "data": {
      "text/plain": [
       "1"
      ]
     },
     "execution_count": 57,
     "metadata": {},
     "output_type": "execute_result"
    }
   ],
   "source": [
    "'it will show 1 dimension as the no. of elements are different, array is not taking it as a dimension, it take it as a list'\n",
    "arra_1d.ndim"
   ]
  },
  {
   "cell_type": "markdown",
   "id": "94cfcc74",
   "metadata": {},
   "source": [
    "- **In NumPy array you can store no. , floats, strings**"
   ]
  },
  {
   "cell_type": "code",
   "execution_count": 58,
   "id": "02d8d6a0",
   "metadata": {},
   "outputs": [],
   "source": [
    "a = np.array ([2,2.3,'abcd'])"
   ]
  },
  {
   "cell_type": "code",
   "execution_count": 59,
   "id": "79bf0b4b",
   "metadata": {},
   "outputs": [
    {
     "data": {
      "text/plain": [
       "array(['2', '2.3', 'abcd'], dtype='<U32')"
      ]
     },
     "execution_count": 59,
     "metadata": {},
     "output_type": "execute_result"
    }
   ],
   "source": [
    "a"
   ]
  },
  {
   "cell_type": "markdown",
   "id": "3408cd05",
   "metadata": {},
   "source": [
    "---"
   ]
  },
  {
   "cell_type": "markdown",
   "id": "9c39ef2d",
   "metadata": {},
   "source": [
    "> **4. Three Dimention**"
   ]
  },
  {
   "cell_type": "code",
   "execution_count": 73,
   "id": "c6f947fa",
   "metadata": {},
   "outputs": [],
   "source": [
    "arr_3d = np.array([[[1,2,3,6],[3,4,5,7],[4,5,9,4]],[[1,2,1,3],[3,4,4,5],[4,8,7,8]]])"
   ]
  },
  {
   "cell_type": "code",
   "execution_count": 74,
   "id": "3f8915e9",
   "metadata": {
    "scrolled": true
   },
   "outputs": [
    {
     "data": {
      "text/plain": [
       "array([[[1, 2, 3, 6],\n",
       "        [3, 4, 5, 7],\n",
       "        [4, 5, 9, 4]],\n",
       "\n",
       "       [[1, 2, 1, 3],\n",
       "        [3, 4, 4, 5],\n",
       "        [4, 8, 7, 8]]])"
      ]
     },
     "execution_count": 74,
     "metadata": {},
     "output_type": "execute_result"
    }
   ],
   "source": [
    "arr_3d"
   ]
  },
  {
   "cell_type": "code",
   "execution_count": 75,
   "id": "7dff39b6",
   "metadata": {},
   "outputs": [
    {
     "data": {
      "text/plain": [
       "3"
      ]
     },
     "execution_count": 75,
     "metadata": {},
     "output_type": "execute_result"
    }
   ],
   "source": [
    "arr_3d.ndim"
   ]
  },
  {
   "cell_type": "code",
   "execution_count": 83,
   "id": "bfff49e3",
   "metadata": {},
   "outputs": [
    {
     "data": {
      "text/plain": [
       "2"
      ]
     },
     "execution_count": 83,
     "metadata": {},
     "output_type": "execute_result"
    }
   ],
   "source": [
    "#also we can do some indices\n",
    "arr_3d[1][0][1]"
   ]
  },
  {
   "cell_type": "code",
   "execution_count": 86,
   "id": "46747d87",
   "metadata": {},
   "outputs": [],
   "source": [
    "#Example : find pick out the no \"9998\" \n",
    "arra_4d = np.array([[[[1,2,3,4],[3,4,5,6],[4,5,6,4]],[[31,26,64,65],[56,59,56,12],[45,48,49,66]]],\n",
    "                    [[[11,22,33,66],[78,89,56,15],[45,89,69,326]],[[54,545,54,9998],[78,15,91,61],[45,45,65,31]]]])"
   ]
  },
  {
   "cell_type": "code",
   "execution_count": 87,
   "id": "f39da4c6",
   "metadata": {},
   "outputs": [
    {
     "data": {
      "text/plain": [
       "array([[[[   1,    2,    3,    4],\n",
       "         [   3,    4,    5,    6],\n",
       "         [   4,    5,    6,    4]],\n",
       "\n",
       "        [[  31,   26,   64,   65],\n",
       "         [  56,   59,   56,   12],\n",
       "         [  45,   48,   49,   66]]],\n",
       "\n",
       "\n",
       "       [[[  11,   22,   33,   66],\n",
       "         [  78,   89,   56,   15],\n",
       "         [  45,   89,   69,  326]],\n",
       "\n",
       "        [[  54,  545,   54, 9998],\n",
       "         [  78,   15,   91,   61],\n",
       "         [  45,   45,   65,   31]]]])"
      ]
     },
     "execution_count": 87,
     "metadata": {},
     "output_type": "execute_result"
    }
   ],
   "source": [
    "arra_4d"
   ]
  },
  {
   "cell_type": "code",
   "execution_count": 96,
   "id": "99ad50a7",
   "metadata": {},
   "outputs": [
    {
     "data": {
      "text/plain": [
       "9998"
      ]
     },
     "execution_count": 96,
     "metadata": {},
     "output_type": "execute_result"
    }
   ],
   "source": [
    "arra_4d[1][1][0][3]"
   ]
  },
  {
   "cell_type": "markdown",
   "id": "0d083e8b",
   "metadata": {},
   "source": [
    "- **dont confuse with the no. of bracket**\n",
    "\n",
    "Zero dimension - []\n",
    "\n",
    "first dimesion - [[]]\n",
    "\n",
    "three dimension - [[[]]]\n",
    "\n",
    "four dimension - [[[[]]]]"
   ]
  },
  {
   "cell_type": "markdown",
   "id": "46dd68d6",
   "metadata": {},
   "source": [
    "**ndin = gives you the no. of dimension**\n",
    "\n",
    "**ndmin = add the no. of dimensions**"
   ]
  },
  {
   "cell_type": "code",
   "execution_count": 101,
   "id": "6de51c74",
   "metadata": {},
   "outputs": [],
   "source": [
    "#you can practice by doing this\n",
    " \n",
    "    check_arr = np.array([3,2,6],ndmin = 4)"
   ]
  },
  {
   "cell_type": "code",
   "execution_count": 102,
   "id": "0d00a085",
   "metadata": {},
   "outputs": [
    {
     "data": {
      "text/plain": [
       "array([[[[3, 2, 6]]]])"
      ]
     },
     "execution_count": 102,
     "metadata": {},
     "output_type": "execute_result"
    }
   ],
   "source": [
    "check_arr"
   ]
  },
  {
   "cell_type": "markdown",
   "id": "a400b5ea",
   "metadata": {},
   "source": [
    "---"
   ]
  },
  {
   "cell_type": "markdown",
   "id": "8f18495d",
   "metadata": {},
   "source": [
    "## Shape: Checking the shape of array"
   ]
  },
  {
   "cell_type": "markdown",
   "id": "b8b7737b",
   "metadata": {},
   "source": [
    "> 1 diemsion"
   ]
  },
  {
   "cell_type": "code",
   "execution_count": 112,
   "id": "cbb16136",
   "metadata": {},
   "outputs": [
    {
     "data": {
      "text/plain": [
       "array([list([1, 2, 3]), list([2, 3, 6]), list([4, 5, 6, 5])], dtype=object)"
      ]
     },
     "execution_count": 112,
     "metadata": {},
     "output_type": "execute_result"
    }
   ],
   "source": [
    "arr_1d"
   ]
  },
  {
   "cell_type": "code",
   "execution_count": 126,
   "id": "f2b69590",
   "metadata": {},
   "outputs": [
    {
     "data": {
      "text/plain": [
       "(3,)"
      ]
     },
     "execution_count": 126,
     "metadata": {},
     "output_type": "execute_result"
    }
   ],
   "source": [
    "arr_1d.shape"
   ]
  },
  {
   "cell_type": "markdown",
   "id": "424fecda",
   "metadata": {},
   "source": [
    "> 2 dimension"
   ]
  },
  {
   "cell_type": "code",
   "execution_count": 118,
   "id": "2435e77a",
   "metadata": {},
   "outputs": [
    {
     "data": {
      "text/plain": [
       "array([[1, 2, 3],\n",
       "       [2, 3, 6],\n",
       "       [4, 5, 6]])"
      ]
     },
     "execution_count": 118,
     "metadata": {},
     "output_type": "execute_result"
    }
   ],
   "source": [
    "arr_2d"
   ]
  },
  {
   "cell_type": "code",
   "execution_count": 119,
   "id": "e7370d65",
   "metadata": {},
   "outputs": [
    {
     "data": {
      "text/plain": [
       "(3, 3)"
      ]
     },
     "execution_count": 119,
     "metadata": {},
     "output_type": "execute_result"
    }
   ],
   "source": [
    "arr_2d.shape"
   ]
  },
  {
   "cell_type": "markdown",
   "id": "496df946",
   "metadata": {},
   "source": [
    "> 3 dimension"
   ]
  },
  {
   "cell_type": "code",
   "execution_count": 120,
   "id": "e5afa30f",
   "metadata": {},
   "outputs": [
    {
     "data": {
      "text/plain": [
       "array([[[1, 2, 3, 6],\n",
       "        [3, 4, 5, 7],\n",
       "        [4, 5, 9, 4]],\n",
       "\n",
       "       [[1, 2, 1, 3],\n",
       "        [3, 4, 4, 5],\n",
       "        [4, 8, 7, 8]]])"
      ]
     },
     "execution_count": 120,
     "metadata": {},
     "output_type": "execute_result"
    }
   ],
   "source": [
    "arr_3d"
   ]
  },
  {
   "cell_type": "code",
   "execution_count": 122,
   "id": "baea2fef",
   "metadata": {},
   "outputs": [
    {
     "data": {
      "text/plain": [
       "(2, 3, 4)"
      ]
     },
     "execution_count": 122,
     "metadata": {},
     "output_type": "execute_result"
    }
   ],
   "source": [
    "arr_3d.shape"
   ]
  },
  {
   "cell_type": "markdown",
   "id": "850ee072",
   "metadata": {},
   "source": [
    "> 4 dimension"
   ]
  },
  {
   "cell_type": "code",
   "execution_count": 124,
   "id": "f5ef8190",
   "metadata": {},
   "outputs": [
    {
     "data": {
      "text/plain": [
       "array([[[[   1,    2,    3,    4],\n",
       "         [   3,    4,    5,    6],\n",
       "         [   4,    5,    6,    4]],\n",
       "\n",
       "        [[  31,   26,   64,   65],\n",
       "         [  56,   59,   56,   12],\n",
       "         [  45,   48,   49,   66]]],\n",
       "\n",
       "\n",
       "       [[[  11,   22,   33,   66],\n",
       "         [  78,   89,   56,   15],\n",
       "         [  45,   89,   69,  326]],\n",
       "\n",
       "        [[  54,  545,   54, 9998],\n",
       "         [  78,   15,   91,   61],\n",
       "         [  45,   45,   65,   31]]]])"
      ]
     },
     "execution_count": 124,
     "metadata": {},
     "output_type": "execute_result"
    }
   ],
   "source": [
    "arra_4d"
   ]
  },
  {
   "cell_type": "code",
   "execution_count": 125,
   "id": "da462859",
   "metadata": {},
   "outputs": [
    {
     "data": {
      "text/plain": [
       "(2, 2, 3, 4)"
      ]
     },
     "execution_count": 125,
     "metadata": {},
     "output_type": "execute_result"
    }
   ],
   "source": [
    "arra_4d.shape"
   ]
  },
  {
   "cell_type": "markdown",
   "id": "43ae853b",
   "metadata": {},
   "source": [
    "Other Example"
   ]
  },
  {
   "cell_type": "code",
   "execution_count": 131,
   "id": "e6ac5841",
   "metadata": {},
   "outputs": [],
   "source": [
    "arr_7 = np.array([3,2,6],ndmin = 5)"
   ]
  },
  {
   "cell_type": "code",
   "execution_count": 132,
   "id": "7030572d",
   "metadata": {},
   "outputs": [
    {
     "data": {
      "text/plain": [
       "array([[[[[3, 2, 6]]]]])"
      ]
     },
     "execution_count": 132,
     "metadata": {},
     "output_type": "execute_result"
    }
   ],
   "source": [
    "arr_7"
   ]
  },
  {
   "cell_type": "code",
   "execution_count": 133,
   "id": "a8efdb8d",
   "metadata": {},
   "outputs": [
    {
     "data": {
      "text/plain": [
       "(1, 1, 1, 1, 3)"
      ]
     },
     "execution_count": 133,
     "metadata": {},
     "output_type": "execute_result"
    }
   ],
   "source": [
    "arr_7.shape"
   ]
  },
  {
   "cell_type": "markdown",
   "id": "711cb539",
   "metadata": {},
   "source": [
    "---"
   ]
  },
  {
   "cell_type": "markdown",
   "id": "0c574099",
   "metadata": {},
   "source": [
    "# Generating Arrays"
   ]
  },
  {
   "cell_type": "markdown",
   "id": "7f018e0e",
   "metadata": {},
   "source": [
    "**arange**\n",
    "\n",
    "- np arange (start, stop, step)"
   ]
  },
  {
   "cell_type": "code",
   "execution_count": 134,
   "id": "b63b63cf",
   "metadata": {},
   "outputs": [
    {
     "data": {
      "text/plain": [
       "array([ 0,  2,  4,  6,  8, 10])"
      ]
     },
     "execution_count": 134,
     "metadata": {},
     "output_type": "execute_result"
    }
   ],
   "source": [
    "np.arange(0,12,2)"
   ]
  },
  {
   "cell_type": "markdown",
   "id": "872cf564",
   "metadata": {},
   "source": [
    "Q. makes an array of pressures ranging from 0 to 5000 psi with a step size of 500 psiu\n",
    "\n",
    "- np.arange(0,5000,500)\n",
    "- np.arange(0,5001,500)\n",
    "- np.arange(0,5500,500)"
   ]
  },
  {
   "cell_type": "code",
   "execution_count": 138,
   "id": "3cd77619",
   "metadata": {},
   "outputs": [],
   "source": [
    "pressure_01 = np.arange(0,5000,500)"
   ]
  },
  {
   "cell_type": "code",
   "execution_count": 139,
   "id": "31f1557a",
   "metadata": {},
   "outputs": [
    {
     "data": {
      "text/plain": [
       "array([   0,  500, 1000, 1500, 2000, 2500, 3000, 3500, 4000, 4500])"
      ]
     },
     "execution_count": 139,
     "metadata": {},
     "output_type": "execute_result"
    }
   ],
   "source": [
    "pressure_01"
   ]
  },
  {
   "cell_type": "code",
   "execution_count": 140,
   "id": "f3293d6f",
   "metadata": {},
   "outputs": [],
   "source": [
    "pressure_02 = np.arange(0,5001,500)"
   ]
  },
  {
   "cell_type": "code",
   "execution_count": 141,
   "id": "50606de2",
   "metadata": {},
   "outputs": [
    {
     "data": {
      "text/plain": [
       "array([   0,  500, 1000, 1500, 2000, 2500, 3000, 3500, 4000, 4500, 5000])"
      ]
     },
     "execution_count": 141,
     "metadata": {},
     "output_type": "execute_result"
    }
   ],
   "source": [
    "pressure_02"
   ]
  },
  {
   "cell_type": "code",
   "execution_count": 142,
   "id": "60d91a2f",
   "metadata": {},
   "outputs": [],
   "source": [
    "pressure_03 = np.arange(0,5500,500)"
   ]
  },
  {
   "cell_type": "code",
   "execution_count": 143,
   "id": "3beb4bdd",
   "metadata": {},
   "outputs": [
    {
     "data": {
      "text/plain": [
       "array([   0,  500, 1000, 1500, 2000, 2500, 3000, 3500, 4000, 4500, 5000])"
      ]
     },
     "execution_count": 143,
     "metadata": {},
     "output_type": "execute_result"
    }
   ],
   "source": [
    "pressure_03"
   ]
  },
  {
   "cell_type": "markdown",
   "id": "8aaec6fd",
   "metadata": {},
   "source": [
    "---"
   ]
  },
  {
   "cell_type": "markdown",
   "id": "577f07ee",
   "metadata": {},
   "source": [
    "# Linspace: create linearly spaced arrays"
   ]
  },
  {
   "cell_type": "code",
   "execution_count": null,
   "id": "b84b0906",
   "metadata": {},
   "outputs": [],
   "source": []
  },
  {
   "cell_type": "code",
   "execution_count": null,
   "id": "70dcaa22",
   "metadata": {},
   "outputs": [],
   "source": []
  },
  {
   "cell_type": "code",
   "execution_count": null,
   "id": "44bdc3b0",
   "metadata": {},
   "outputs": [],
   "source": []
  }
 ],
 "metadata": {
  "kernelspec": {
   "display_name": "Python 3 (ipykernel)",
   "language": "python",
   "name": "python3"
  },
  "language_info": {
   "codemirror_mode": {
    "name": "ipython",
    "version": 3
   },
   "file_extension": ".py",
   "mimetype": "text/x-python",
   "name": "python",
   "nbconvert_exporter": "python",
   "pygments_lexer": "ipython3",
   "version": "3.9.12"
  }
 },
 "nbformat": 4,
 "nbformat_minor": 5
}
