{
 "cells": [
  {
   "cell_type": "code",
   "execution_count": 2,
   "id": "a2084958",
   "metadata": {},
   "outputs": [],
   "source": [
    "import numpy as np\n",
    "import pandas as pd\n",
    "import matplotlib.pyplot as plt\n",
    "import seaborn as sns"
   ]
  },
  {
   "cell_type": "code",
   "execution_count": 3,
   "id": "b6497530",
   "metadata": {},
   "outputs": [],
   "source": [
    "x = np.linspace(0,100,10)\n",
    "\n",
    "y = x**2"
   ]
  },
  {
   "cell_type": "code",
   "execution_count": 4,
   "id": "de5b11ac",
   "metadata": {},
   "outputs": [
    {
     "data": {
      "text/plain": [
       "array([  0.        ,  11.11111111,  22.22222222,  33.33333333,\n",
       "        44.44444444,  55.55555556,  66.66666667,  77.77777778,\n",
       "        88.88888889, 100.        ])"
      ]
     },
     "execution_count": 4,
     "metadata": {},
     "output_type": "execute_result"
    }
   ],
   "source": [
    "x"
   ]
  },
  {
   "cell_type": "code",
   "execution_count": 11,
   "id": "2e9e8162",
   "metadata": {
    "scrolled": true
   },
   "outputs": [
    {
     "data": {
      "text/plain": [
       "array([    0.        ,   123.45679012,   493.82716049,  1111.11111111,\n",
       "        1975.30864198,  3086.41975309,  4444.44444444,  6049.38271605,\n",
       "        7901.2345679 , 10000.        ])"
      ]
     },
     "execution_count": 11,
     "metadata": {},
     "output_type": "execute_result"
    }
   ],
   "source": [
    "y"
   ]
  },
  {
   "cell_type": "markdown",
   "id": "37dc6dc4",
   "metadata": {},
   "source": [
    "## **Scatter Plot**"
   ]
  },
  {
   "cell_type": "code",
   "execution_count": 15,
   "id": "98e10ead",
   "metadata": {},
   "outputs": [
    {
     "data": {
      "text/plain": [
       "[<matplotlib.lines.Line2D at 0x1d4ce08bfa0>]"
      ]
     },
     "execution_count": 15,
     "metadata": {},
     "output_type": "execute_result"
    },
    {
     "data": {
      "image/png": "[encoded data removed]",
      "text/plain": [
       "<Figure size 432x288 with 1 Axes>"
      ]
     },
     "metadata": {
      "needs_background": "light"
     },
     "output_type": "display_data"
    }
   ],
   "source": [
    "#play with it for practice\n",
    "\n",
    "plt.scatter(x,y,s=150,c='red')\n",
    "plt.plot(x,y,c='blue')"
   ]
  },
  {
   "cell_type": "code",
   "execution_count": 18,
   "id": "3b13cc72",
   "metadata": {
    "scrolled": true
   },
   "outputs": [
    {
     "data": {
      "text/plain": [
       "[<matplotlib.lines.Line2D at 0x1d4cdf339a0>]"
      ]
     },
     "execution_count": 18,
     "metadata": {},
     "output_type": "execute_result"
    },
    {
     "data": {
      "image/png": "[encoded data removed]",
      "text/plain": [
       "<Figure size 432x288 with 1 Axes>"
      ]
     },
     "metadata": {
      "needs_background": "light"
     },
     "output_type": "display_data"
    }
   ],
   "source": [
    "#you can fade the color\n",
    "\n",
    "plt.scatter(x,y,s=150,c='red',alpha=0.50)\n",
    "plt.plot(x,y,c='blue')"
   ]
  },
  {
   "cell_type": "markdown",
   "id": "c5857282",
   "metadata": {},
   "source": [
    "----\n",
    "----"
   ]
  },
  {
   "cell_type": "code",
   "execution_count": 19,
   "id": "89b83fc3",
   "metadata": {},
   "outputs": [],
   "source": [
    "df = pd.read_csv('https://raw.githubusercontent.com/jaiyesh/Energy-DA-from-scratch/main/Final%20PF-12%20and%20Injection.csv')"
   ]
  },
  {
   "cell_type": "code",
   "execution_count": 20,
   "id": "ceb530c6",
   "metadata": {},
   "outputs": [
    {
     "data": {
      "text/html": [
       "<div>\n",
       "<style scoped>\n",
       "    .dataframe tbody tr th:only-of-type {\n",
       "        vertical-align: middle;\n",
       "    }\n",
       "\n",
       "    .dataframe tbody tr th {\n",
       "        vertical-align: top;\n",
       "    }\n",
       "\n",
       "    .dataframe thead th {\n",
       "        text-align: right;\n",
       "    }\n",
       "</style>\n",
       "<table border=\"1\" class=\"dataframe\">\n",
       "  <thead>\n",
       "    <tr style=\"text-align: right;\">\n",
       "      <th></th>\n",
       "      <th>DATEPRD</th>\n",
       "      <th>NPD_WELL_BORE_CODE</th>\n",
       "      <th>NPD_WELL_BORE_NAME</th>\n",
       "      <th>ON_STREAM_HRS</th>\n",
       "      <th>AVG_DOWNHOLE_PRESSURE</th>\n",
       "      <th>AVG_DOWNHOLE_TEMPERATURE</th>\n",
       "      <th>AVG_DP_TUBING</th>\n",
       "      <th>AVG_ANNULUS_PRESS</th>\n",
       "      <th>AVG_CHOKE_SIZE_P</th>\n",
       "      <th>AVG_WHP_P</th>\n",
       "      <th>AVG_WHT_P</th>\n",
       "      <th>DP_CHOKE_SIZE</th>\n",
       "      <th>BORE_GAS_VOL</th>\n",
       "      <th>BORE_WAT_VOL</th>\n",
       "      <th>Injection Hours F-4</th>\n",
       "      <th>Water Injection F-4</th>\n",
       "      <th>Injection Hours F-5</th>\n",
       "      <th>Water Injection F-5</th>\n",
       "      <th>Total Water Injection</th>\n",
       "      <th>BORE_OIL_VOL</th>\n",
       "    </tr>\n",
       "  </thead>\n",
       "  <tbody>\n",
       "    <tr>\n",
       "      <th>0</th>\n",
       "      <td>01-Sep-07</td>\n",
       "      <td>5599</td>\n",
       "      <td>15/9-F-12</td>\n",
       "      <td>0.0</td>\n",
       "      <td>0.0</td>\n",
       "      <td>0.0</td>\n",
       "      <td>0.0</td>\n",
       "      <td>0.000</td>\n",
       "      <td>0.00000</td>\n",
       "      <td>0.0</td>\n",
       "      <td>0.0</td>\n",
       "      <td>0.000</td>\n",
       "      <td>0.0</td>\n",
       "      <td>0.0</td>\n",
       "      <td>0.00</td>\n",
       "      <td>0</td>\n",
       "      <td>0.0</td>\n",
       "      <td>0</td>\n",
       "      <td>0</td>\n",
       "      <td>0.0</td>\n",
       "    </tr>\n",
       "    <tr>\n",
       "      <th>1</th>\n",
       "      <td>02-Sep-07</td>\n",
       "      <td>5599</td>\n",
       "      <td>15/9-F-12</td>\n",
       "      <td>0.0</td>\n",
       "      <td>0.0</td>\n",
       "      <td>0.0</td>\n",
       "      <td>0.0</td>\n",
       "      <td>0.000</td>\n",
       "      <td>0.00000</td>\n",
       "      <td>0.0</td>\n",
       "      <td>0.0</td>\n",
       "      <td>0.000</td>\n",
       "      <td>0.0</td>\n",
       "      <td>0.0</td>\n",
       "      <td>0.00</td>\n",
       "      <td>0</td>\n",
       "      <td>0.0</td>\n",
       "      <td>0</td>\n",
       "      <td>0</td>\n",
       "      <td>0.0</td>\n",
       "    </tr>\n",
       "    <tr>\n",
       "      <th>2</th>\n",
       "      <td>03-Sep-07</td>\n",
       "      <td>5599</td>\n",
       "      <td>15/9-F-12</td>\n",
       "      <td>0.0</td>\n",
       "      <td>0.0</td>\n",
       "      <td>0.0</td>\n",
       "      <td>0.0</td>\n",
       "      <td>0.000</td>\n",
       "      <td>0.00000</td>\n",
       "      <td>0.0</td>\n",
       "      <td>0.0</td>\n",
       "      <td>0.000</td>\n",
       "      <td>0.0</td>\n",
       "      <td>0.0</td>\n",
       "      <td>0.00</td>\n",
       "      <td>0</td>\n",
       "      <td>0.0</td>\n",
       "      <td>0</td>\n",
       "      <td>0</td>\n",
       "      <td>0.0</td>\n",
       "    </tr>\n",
       "    <tr>\n",
       "      <th>3</th>\n",
       "      <td>04-Sep-07</td>\n",
       "      <td>5599</td>\n",
       "      <td>15/9-F-12</td>\n",
       "      <td>0.0</td>\n",
       "      <td>0.0</td>\n",
       "      <td>0.0</td>\n",
       "      <td>0.0</td>\n",
       "      <td>0.000</td>\n",
       "      <td>0.00000</td>\n",
       "      <td>0.0</td>\n",
       "      <td>0.0</td>\n",
       "      <td>0.000</td>\n",
       "      <td>0.0</td>\n",
       "      <td>0.0</td>\n",
       "      <td>0.00</td>\n",
       "      <td>0</td>\n",
       "      <td>0.0</td>\n",
       "      <td>0</td>\n",
       "      <td>0</td>\n",
       "      <td>0.0</td>\n",
       "    </tr>\n",
       "    <tr>\n",
       "      <th>4</th>\n",
       "      <td>05-Sep-07</td>\n",
       "      <td>5599</td>\n",
       "      <td>15/9-F-12</td>\n",
       "      <td>0.0</td>\n",
       "      <td>0.0</td>\n",
       "      <td>0.0</td>\n",
       "      <td>0.0</td>\n",
       "      <td>0.000</td>\n",
       "      <td>0.00000</td>\n",
       "      <td>0.0</td>\n",
       "      <td>0.0</td>\n",
       "      <td>0.000</td>\n",
       "      <td>0.0</td>\n",
       "      <td>0.0</td>\n",
       "      <td>0.00</td>\n",
       "      <td>0</td>\n",
       "      <td>0.0</td>\n",
       "      <td>0</td>\n",
       "      <td>0</td>\n",
       "      <td>0.0</td>\n",
       "    </tr>\n",
       "    <tr>\n",
       "      <th>...</th>\n",
       "      <td>...</td>\n",
       "      <td>...</td>\n",
       "      <td>...</td>\n",
       "      <td>...</td>\n",
       "      <td>...</td>\n",
       "      <td>...</td>\n",
       "      <td>...</td>\n",
       "      <td>...</td>\n",
       "      <td>...</td>\n",
       "      <td>...</td>\n",
       "      <td>...</td>\n",
       "      <td>...</td>\n",
       "      <td>...</td>\n",
       "      <td>...</td>\n",
       "      <td>...</td>\n",
       "      <td>...</td>\n",
       "      <td>...</td>\n",
       "      <td>...</td>\n",
       "      <td>...</td>\n",
       "      <td>...</td>\n",
       "    </tr>\n",
       "    <tr>\n",
       "      <th>3300</th>\n",
       "      <td>13-Sep-16</td>\n",
       "      <td>5599</td>\n",
       "      <td>15/9-F-12</td>\n",
       "      <td>0.0</td>\n",
       "      <td>0.0</td>\n",
       "      <td>0.0</td>\n",
       "      <td>0.0</td>\n",
       "      <td>19.959</td>\n",
       "      <td>0.99291</td>\n",
       "      <td>0.0</td>\n",
       "      <td>0.0</td>\n",
       "      <td>0.013</td>\n",
       "      <td>0.0</td>\n",
       "      <td>0.0</td>\n",
       "      <td>0.00</td>\n",
       "      <td>0</td>\n",
       "      <td>0.0</td>\n",
       "      <td>0</td>\n",
       "      <td>0</td>\n",
       "      <td>0.0</td>\n",
       "    </tr>\n",
       "    <tr>\n",
       "      <th>3301</th>\n",
       "      <td>14-Sep-16</td>\n",
       "      <td>5599</td>\n",
       "      <td>15/9-F-12</td>\n",
       "      <td>0.0</td>\n",
       "      <td>0.0</td>\n",
       "      <td>0.0</td>\n",
       "      <td>0.0</td>\n",
       "      <td>19.959</td>\n",
       "      <td>0.97304</td>\n",
       "      <td>0.0</td>\n",
       "      <td>0.0</td>\n",
       "      <td>0.016</td>\n",
       "      <td>0.0</td>\n",
       "      <td>0.0</td>\n",
       "      <td>9.56</td>\n",
       "      <td>1811</td>\n",
       "      <td>0.0</td>\n",
       "      <td>0</td>\n",
       "      <td>1811</td>\n",
       "      <td>0.0</td>\n",
       "    </tr>\n",
       "    <tr>\n",
       "      <th>3302</th>\n",
       "      <td>15-Sep-16</td>\n",
       "      <td>5599</td>\n",
       "      <td>15/9-F-12</td>\n",
       "      <td>0.0</td>\n",
       "      <td>0.0</td>\n",
       "      <td>0.0</td>\n",
       "      <td>0.0</td>\n",
       "      <td>19.959</td>\n",
       "      <td>0.97778</td>\n",
       "      <td>0.0</td>\n",
       "      <td>0.0</td>\n",
       "      <td>0.024</td>\n",
       "      <td>0.0</td>\n",
       "      <td>0.0</td>\n",
       "      <td>24.00</td>\n",
       "      <td>4469</td>\n",
       "      <td>0.0</td>\n",
       "      <td>0</td>\n",
       "      <td>4469</td>\n",
       "      <td>0.0</td>\n",
       "    </tr>\n",
       "    <tr>\n",
       "      <th>3303</th>\n",
       "      <td>16-Sep-16</td>\n",
       "      <td>5599</td>\n",
       "      <td>15/9-F-12</td>\n",
       "      <td>0.0</td>\n",
       "      <td>0.0</td>\n",
       "      <td>0.0</td>\n",
       "      <td>0.0</td>\n",
       "      <td>19.959</td>\n",
       "      <td>0.96101</td>\n",
       "      <td>0.0</td>\n",
       "      <td>0.0</td>\n",
       "      <td>0.025</td>\n",
       "      <td>0.0</td>\n",
       "      <td>0.0</td>\n",
       "      <td>24.00</td>\n",
       "      <td>4475</td>\n",
       "      <td>0.0</td>\n",
       "      <td>0</td>\n",
       "      <td>4475</td>\n",
       "      <td>0.0</td>\n",
       "    </tr>\n",
       "    <tr>\n",
       "      <th>3304</th>\n",
       "      <td>17-Sep-16</td>\n",
       "      <td>5599</td>\n",
       "      <td>15/9-F-12</td>\n",
       "      <td>0.0</td>\n",
       "      <td>0.0</td>\n",
       "      <td>0.0</td>\n",
       "      <td>0.0</td>\n",
       "      <td>19.959</td>\n",
       "      <td>0.90339</td>\n",
       "      <td>0.0</td>\n",
       "      <td>0.0</td>\n",
       "      <td>0.026</td>\n",
       "      <td>0.0</td>\n",
       "      <td>0.0</td>\n",
       "      <td>7.61</td>\n",
       "      <td>1419</td>\n",
       "      <td>0.0</td>\n",
       "      <td>0</td>\n",
       "      <td>1419</td>\n",
       "      <td>0.0</td>\n",
       "    </tr>\n",
       "  </tbody>\n",
       "</table>\n",
       "<p>3305 rows × 20 columns</p>\n",
       "</div>"
      ],
      "text/plain": [
       "        DATEPRD  NPD_WELL_BORE_CODE NPD_WELL_BORE_NAME  ON_STREAM_HRS  \\\n",
       "0     01-Sep-07                5599          15/9-F-12            0.0   \n",
       "1     02-Sep-07                5599          15/9-F-12            0.0   \n",
       "2     03-Sep-07                5599          15/9-F-12            0.0   \n",
       "3     04-Sep-07                5599          15/9-F-12            0.0   \n",
       "4     05-Sep-07                5599          15/9-F-12            0.0   \n",
       "...         ...                 ...                ...            ...   \n",
       "3300  13-Sep-16                5599          15/9-F-12            0.0   \n",
       "3301  14-Sep-16                5599          15/9-F-12            0.0   \n",
       "3302  15-Sep-16                5599          15/9-F-12            0.0   \n",
       "3303  16-Sep-16                5599          15/9-F-12            0.0   \n",
       "3304  17-Sep-16                5599          15/9-F-12            0.0   \n",
       "\n",
       "      AVG_DOWNHOLE_PRESSURE  AVG_DOWNHOLE_TEMPERATURE  AVG_DP_TUBING  \\\n",
       "0                       0.0                       0.0            0.0   \n",
       "1                       0.0                       0.0            0.0   \n",
       "2                       0.0                       0.0            0.0   \n",
       "3                       0.0                       0.0            0.0   \n",
       "4                       0.0                       0.0            0.0   \n",
       "...                     ...                       ...            ...   \n",
       "3300                    0.0                       0.0            0.0   \n",
       "3301                    0.0                       0.0            0.0   \n",
       "3302                    0.0                       0.0            0.0   \n",
       "3303                    0.0                       0.0            0.0   \n",
       "3304                    0.0                       0.0            0.0   \n",
       "\n",
       "      AVG_ANNULUS_PRESS  AVG_CHOKE_SIZE_P  AVG_WHP_P  AVG_WHT_P  \\\n",
       "0                 0.000           0.00000        0.0        0.0   \n",
       "1                 0.000           0.00000        0.0        0.0   \n",
       "2                 0.000           0.00000        0.0        0.0   \n",
       "3                 0.000           0.00000        0.0        0.0   \n",
       "4                 0.000           0.00000        0.0        0.0   \n",
       "...                 ...               ...        ...        ...   \n",
       "3300             19.959           0.99291        0.0        0.0   \n",
       "3301             19.959           0.97304        0.0        0.0   \n",
       "3302             19.959           0.97778        0.0        0.0   \n",
       "3303             19.959           0.96101        0.0        0.0   \n",
       "3304             19.959           0.90339        0.0        0.0   \n",
       "\n",
       "      DP_CHOKE_SIZE  BORE_GAS_VOL  BORE_WAT_VOL  Injection Hours F-4  \\\n",
       "0             0.000           0.0           0.0                 0.00   \n",
       "1             0.000           0.0           0.0                 0.00   \n",
       "2             0.000           0.0           0.0                 0.00   \n",
       "3             0.000           0.0           0.0                 0.00   \n",
       "4             0.000           0.0           0.0                 0.00   \n",
       "...             ...           ...           ...                  ...   \n",
       "3300          0.013           0.0           0.0                 0.00   \n",
       "3301          0.016           0.0           0.0                 9.56   \n",
       "3302          0.024           0.0           0.0                24.00   \n",
       "3303          0.025           0.0           0.0                24.00   \n",
       "3304          0.026           0.0           0.0                 7.61   \n",
       "\n",
       "      Water Injection F-4  Injection Hours F-5  Water Injection F-5  \\\n",
       "0                       0                  0.0                    0   \n",
       "1                       0                  0.0                    0   \n",
       "2                       0                  0.0                    0   \n",
       "3                       0                  0.0                    0   \n",
       "4                       0                  0.0                    0   \n",
       "...                   ...                  ...                  ...   \n",
       "3300                    0                  0.0                    0   \n",
       "3301                 1811                  0.0                    0   \n",
       "3302                 4469                  0.0                    0   \n",
       "3303                 4475                  0.0                    0   \n",
       "3304                 1419                  0.0                    0   \n",
       "\n",
       "      Total Water Injection  BORE_OIL_VOL  \n",
       "0                         0           0.0  \n",
       "1                         0           0.0  \n",
       "2                         0           0.0  \n",
       "3                         0           0.0  \n",
       "4                         0           0.0  \n",
       "...                     ...           ...  \n",
       "3300                      0           0.0  \n",
       "3301                   1811           0.0  \n",
       "3302                   4469           0.0  \n",
       "3303                   4475           0.0  \n",
       "3304                   1419           0.0  \n",
       "\n",
       "[3305 rows x 20 columns]"
      ]
     },
     "execution_count": 20,
     "metadata": {},
     "output_type": "execute_result"
    }
   ],
   "source": [
    "df"
   ]
  },
  {
   "cell_type": "code",
   "execution_count": 21,
   "id": "7ee6057a",
   "metadata": {},
   "outputs": [
    {
     "data": {
      "text/plain": [
       "3305"
      ]
     },
     "execution_count": 21,
     "metadata": {},
     "output_type": "execute_result"
    }
   ],
   "source": [
    "len(df)"
   ]
  },
  {
   "cell_type": "code",
   "execution_count": 25,
   "id": "ce969029",
   "metadata": {},
   "outputs": [
    {
     "data": {
      "text/plain": [
       "Index(['DATEPRD', 'NPD_WELL_BORE_CODE', 'NPD_WELL_BORE_NAME', 'ON_STREAM_HRS',\n",
       "       'AVG_DOWNHOLE_PRESSURE', 'AVG_DOWNHOLE_TEMPERATURE', 'AVG_DP_TUBING',\n",
       "       'AVG_ANNULUS_PRESS', 'AVG_CHOKE_SIZE_P', 'AVG_WHP_P', 'AVG_WHT_P',\n",
       "       'DP_CHOKE_SIZE', 'BORE_GAS_VOL', 'BORE_WAT_VOL', 'Injection Hours F-4',\n",
       "       'Water Injection F-4', 'Injection Hours F-5', 'Water Injection F-5',\n",
       "       'Total Water Injection', 'BORE_OIL_VOL'],\n",
       "      dtype='object')"
      ]
     },
     "execution_count": 25,
     "metadata": {},
     "output_type": "execute_result"
    }
   ],
   "source": [
    "df.columns"
   ]
  },
  {
   "cell_type": "code",
   "execution_count": 27,
   "id": "2094ccfe",
   "metadata": {},
   "outputs": [
    {
     "data": {
      "text/plain": [
       "[<matplotlib.lines.Line2D at 0x1d4d1b19b20>]"
      ]
     },
     "execution_count": 27,
     "metadata": {},
     "output_type": "execute_result"
    },
    {
     "data": {
      "image/png": "[encoded data removed]",
      "text/plain": [
       "<Figure size 432x288 with 1 Axes>"
      ]
     },
     "metadata": {
      "needs_background": "light"
     },
     "output_type": "display_data"
    }
   ],
   "source": [
    "plt.plot(df['BORE_OIL_VOL'])"
   ]
  },
  {
   "cell_type": "code",
   "execution_count": 139,
   "id": "bbd737d9",
   "metadata": {},
   "outputs": [],
   "source": [
    "phi_sst = np.random.normal(loc=25,scale=10,size=100)\n",
    "phi_lst = np.random.normal(loc=10,scale=5,size=100)"
   ]
  },
  {
   "cell_type": "code",
   "execution_count": 140,
   "id": "77d544f7",
   "metadata": {},
   "outputs": [],
   "source": [
    "df_phi = pd.DataFrame({'sst_poro': phi_sst ,'lst_poro' : phi_lst})"
   ]
  },
  {
   "cell_type": "code",
   "execution_count": 141,
   "id": "e17d4811",
   "metadata": {},
   "outputs": [
    {
     "data": {
      "text/html": [
       "<div>\n",
       "<style scoped>\n",
       "    .dataframe tbody tr th:only-of-type {\n",
       "        vertical-align: middle;\n",
       "    }\n",
       "\n",
       "    .dataframe tbody tr th {\n",
       "        vertical-align: top;\n",
       "    }\n",
       "\n",
       "    .dataframe thead th {\n",
       "        text-align: right;\n",
       "    }\n",
       "</style>\n",
       "<table border=\"1\" class=\"dataframe\">\n",
       "  <thead>\n",
       "    <tr style=\"text-align: right;\">\n",
       "      <th></th>\n",
       "      <th>sst_poro</th>\n",
       "      <th>lst_poro</th>\n",
       "    </tr>\n",
       "  </thead>\n",
       "  <tbody>\n",
       "    <tr>\n",
       "      <th>0</th>\n",
       "      <td>18.656178</td>\n",
       "      <td>4.309351</td>\n",
       "    </tr>\n",
       "    <tr>\n",
       "      <th>1</th>\n",
       "      <td>41.181855</td>\n",
       "      <td>15.551068</td>\n",
       "    </tr>\n",
       "    <tr>\n",
       "      <th>2</th>\n",
       "      <td>9.309374</td>\n",
       "      <td>8.597404</td>\n",
       "    </tr>\n",
       "    <tr>\n",
       "      <th>3</th>\n",
       "      <td>21.074698</td>\n",
       "      <td>4.274724</td>\n",
       "    </tr>\n",
       "    <tr>\n",
       "      <th>4</th>\n",
       "      <td>28.120198</td>\n",
       "      <td>10.402393</td>\n",
       "    </tr>\n",
       "    <tr>\n",
       "      <th>...</th>\n",
       "      <td>...</td>\n",
       "      <td>...</td>\n",
       "    </tr>\n",
       "    <tr>\n",
       "      <th>95</th>\n",
       "      <td>14.993992</td>\n",
       "      <td>6.260923</td>\n",
       "    </tr>\n",
       "    <tr>\n",
       "      <th>96</th>\n",
       "      <td>31.552201</td>\n",
       "      <td>13.621554</td>\n",
       "    </tr>\n",
       "    <tr>\n",
       "      <th>97</th>\n",
       "      <td>11.143296</td>\n",
       "      <td>12.500327</td>\n",
       "    </tr>\n",
       "    <tr>\n",
       "      <th>98</th>\n",
       "      <td>26.287300</td>\n",
       "      <td>8.198071</td>\n",
       "    </tr>\n",
       "    <tr>\n",
       "      <th>99</th>\n",
       "      <td>32.291029</td>\n",
       "      <td>14.666125</td>\n",
       "    </tr>\n",
       "  </tbody>\n",
       "</table>\n",
       "<p>100 rows × 2 columns</p>\n",
       "</div>"
      ],
      "text/plain": [
       "     sst_poro   lst_poro\n",
       "0   18.656178   4.309351\n",
       "1   41.181855  15.551068\n",
       "2    9.309374   8.597404\n",
       "3   21.074698   4.274724\n",
       "4   28.120198  10.402393\n",
       "..        ...        ...\n",
       "95  14.993992   6.260923\n",
       "96  31.552201  13.621554\n",
       "97  11.143296  12.500327\n",
       "98  26.287300   8.198071\n",
       "99  32.291029  14.666125\n",
       "\n",
       "[100 rows x 2 columns]"
      ]
     },
     "execution_count": 141,
     "metadata": {},
     "output_type": "execute_result"
    }
   ],
   "source": [
    "df_phi"
   ]
  },
  {
   "cell_type": "code",
   "execution_count": 142,
   "id": "479652f4",
   "metadata": {},
   "outputs": [
    {
     "data": {
      "text/plain": [
       "(array([ 2.,  2., 10., 17., 25., 16., 17.,  8.,  2.,  1.]),\n",
       " array([-1.1125817 ,  3.76593372,  8.64444914, 13.52296456, 18.40147998,\n",
       "        23.2799954 , 28.15851082, 33.03702624, 37.91554166, 42.79405708,\n",
       "        47.6725725 ]),\n",
       " <BarContainer object of 10 artists>)"
      ]
     },
     "execution_count": 142,
     "metadata": {},
     "output_type": "execute_result"
    },
    {
     "data": {
      "image/png": "[encoded data removed]",
      "text/plain": [
       "<Figure size 432x288 with 1 Axes>"
      ]
     },
     "metadata": {
      "needs_background": "light"
     },
     "output_type": "display_data"
    }
   ],
   "source": [
    "#Histogram: distribution of Qttive data\n",
    "plt.hist(df_phi['sst_poro'])"
   ]
  },
  {
   "cell_type": "code",
   "execution_count": 143,
   "id": "8c601c7e",
   "metadata": {},
   "outputs": [
    {
     "data": {
      "text/plain": [
       "(array([ 1.,  2.,  2., 14., 20., 17., 15., 18.,  6.,  5.]),\n",
       " array([-2.71495277, -0.46133623,  1.79228031,  4.04589684,  6.29951338,\n",
       "         8.55312992, 10.80674645, 13.06036299, 15.31397953, 17.56759606,\n",
       "        19.8212126 ]),\n",
       " <BarContainer object of 10 artists>)"
      ]
     },
     "execution_count": 143,
     "metadata": {},
     "output_type": "execute_result"
    },
    {
     "data": {
      "image/png": "[encoded data removed]",
      "text/plain": [
       "<Figure size 432x288 with 1 Axes>"
      ]
     },
     "metadata": {
      "needs_background": "light"
     },
     "output_type": "display_data"
    }
   ],
   "source": [
    "plt.hist(df_phi['sst_poro'])\n",
    "plt.hist(df_phi['lst_poro'])"
   ]
  },
  {
   "cell_type": "code",
   "execution_count": 144,
   "id": "cd6520e0",
   "metadata": {},
   "outputs": [
    {
     "data": {
      "image/png": "[encoded data removed]",
      "text/plain": [
       "<Figure size 1080x576 with 1 Axes>"
      ]
     },
     "metadata": {
      "needs_background": "light"
     },
     "output_type": "display_data"
    }
   ],
   "source": [
    "#you can also beautify as we have discussed in last session\n",
    "plt.figure(figsize=(15,8))\n",
    "plt.hist(df_phi['sst_poro'],label = 'Sandstone Porosity%',alpha = 0.8)\n",
    "plt.hist(df_phi['lst_poro'],label = 'Limestone Porosity%',alpha = 0.8)\n",
    "\n",
    "plt.xlabel('Frequency',color = 'Red',size = 15)\n",
    "plt.ylabel('Porosity',color = 'red',size = 15)\n",
    "plt.title('Porosity vrs Frequency Table',color ='green',size = 15)\n",
    "plt.legend()\n",
    "plt.grid()"
   ]
  },
  {
   "cell_type": "code",
   "execution_count": 145,
   "id": "a904e1e8",
   "metadata": {},
   "outputs": [
    {
     "data": {
      "image/png": "[encoded data removed]",
      "text/plain": [
       "<Figure size 1080x576 with 1 Axes>"
      ]
     },
     "metadata": {
      "needs_background": "light"
     },
     "output_type": "display_data"
    }
   ],
   "source": [
    "#axvline : represent the vertical straight line\n",
    "#axhline : represent the horizontal straight line\n",
    "#used for representing the min and max values\n",
    "\n",
    "\n",
    "plt.figure(figsize=(15,8))\n",
    "\n",
    "plt.hist(df_phi['sst_poro'],label = 'Sandstone Porosity%',alpha = 0.8)\n",
    "plt.hist(df_phi['lst_poro'],label = 'Limestone Porosity%',alpha = 0.8)\n",
    "\n",
    "plt.xlabel('Frequency',color = 'Red',size = 15)\n",
    "plt.ylabel('Porosity',color = 'red',size = 15)\n",
    "plt.title('Porosity vrs Frequency Table',color ='green',size = 15)\n",
    "\n",
    "plt.axvline(x=0,label =\"Min-theoretical Porosity\",color = \"red\")\n",
    "plt.axvline(x=40,label =\"Max-theoretical Porosity\",color = \"red\")\n",
    "plt.axhline(y=25,label =\"Max-Frequency\",color = \"brown\")\n",
    "\n",
    "plt.legend()\n",
    "plt.grid()"
   ]
  },
  {
   "cell_type": "markdown",
   "id": "d77a02de",
   "metadata": {},
   "source": [
    "## **Box Plot**"
   ]
  },
  {
   "cell_type": "code",
   "execution_count": 154,
   "id": "f7363c58",
   "metadata": {},
   "outputs": [
    {
     "name": "stderr",
     "output_type": "stream",
     "text": [
      "D:\\Anaconda\\lib\\site-packages\\seaborn\\_decorators.py:36: FutureWarning: Pass the following variable as a keyword arg: x. From version 0.12, the only valid positional argument will be `data`, and passing other arguments without an explicit keyword will result in an error or misinterpretation.\n",
      "  warnings.warn(\n"
     ]
    },
    {
     "data": {
      "text/plain": [
       "<AxesSubplot:xlabel='sst_poro'>"
      ]
     },
     "execution_count": 154,
     "metadata": {},
     "output_type": "execute_result"
    },
    {
     "data": {
      "image/png": "[encoded data removed]",
      "text/plain": [
       "<Figure size 432x288 with 1 Axes>"
      ]
     },
     "metadata": {
      "needs_background": "light"
     },
     "output_type": "display_data"
    }
   ],
   "source": [
    "sns.boxplot(df_phi['sst_poro'])"
   ]
  },
  {
   "cell_type": "code",
   "execution_count": 156,
   "id": "48657123",
   "metadata": {},
   "outputs": [
    {
     "data": {
      "text/plain": [
       "21.57500382707803"
      ]
     },
     "execution_count": 156,
     "metadata": {},
     "output_type": "execute_result"
    }
   ],
   "source": [
    "#use of 'quantile', it will show you the mean value\n",
    "df_phi['sst_poro'].quantile(0.5)"
   ]
  },
  {
   "cell_type": "code",
   "execution_count": 152,
   "id": "ad16a4a8",
   "metadata": {},
   "outputs": [
    {
     "name": "stderr",
     "output_type": "stream",
     "text": [
      "D:\\Anaconda\\lib\\site-packages\\seaborn\\_decorators.py:36: FutureWarning: Pass the following variable as a keyword arg: x. From version 0.12, the only valid positional argument will be `data`, and passing other arguments without an explicit keyword will result in an error or misinterpretation.\n",
      "  warnings.warn(\n"
     ]
    },
    {
     "data": {
      "text/plain": [
       "<AxesSubplot:xlabel='lst_poro'>"
      ]
     },
     "execution_count": 152,
     "metadata": {},
     "output_type": "execute_result"
    },
    {
     "data": {
      "image/png": "[encoded data removed]",
      "text/plain": [
       "<Figure size 432x288 with 1 Axes>"
      ]
     },
     "metadata": {
      "needs_background": "light"
     },
     "output_type": "display_data"
    }
   ],
   "source": [
    "sns.boxplot(df_phi['lst_poro'])"
   ]
  },
  {
   "cell_type": "code",
   "execution_count": 157,
   "id": "26e0409d",
   "metadata": {},
   "outputs": [
    {
     "data": {
      "text/plain": [
       "9.869338305861536"
      ]
     },
     "execution_count": 157,
     "metadata": {},
     "output_type": "execute_result"
    }
   ],
   "source": [
    "df_phi['lst_poro'].quantile(0.5)"
   ]
  },
  {
   "cell_type": "code",
   "execution_count": 161,
   "id": "891cf0a3",
   "metadata": {},
   "outputs": [
    {
     "name": "stderr",
     "output_type": "stream",
     "text": [
      "D:\\Anaconda\\lib\\site-packages\\seaborn\\_decorators.py:36: FutureWarning: Pass the following variable as a keyword arg: x. From version 0.12, the only valid positional argument will be `data`, and passing other arguments without an explicit keyword will result in an error or misinterpretation.\n",
      "  warnings.warn(\n"
     ]
    },
    {
     "data": {
      "text/plain": [
       "<matplotlib.lines.Line2D at 0x1d4d72c8ee0>"
      ]
     },
     "execution_count": 161,
     "metadata": {},
     "output_type": "execute_result"
    },
    {
     "data": {
      "image/png": "[encoded data removed]",
      "text/plain": [
       "<Figure size 432x288 with 1 Axes>"
      ]
     },
     "metadata": {
      "needs_background": "light"
     },
     "output_type": "display_data"
    }
   ],
   "source": [
    "#represent the mean value in the plot\n",
    "\n",
    "sns.boxplot(df_phi['lst_poro'])\n",
    "plt.axvline(df_phi['lst_poro'].quantile(0.5),color = 'red')"
   ]
  },
  {
   "cell_type": "code",
   "execution_count": 164,
   "id": "255674af",
   "metadata": {},
   "outputs": [
    {
     "name": "stderr",
     "output_type": "stream",
     "text": [
      "D:\\Anaconda\\lib\\site-packages\\seaborn\\_decorators.py:36: FutureWarning: Pass the following variable as a keyword arg: x. From version 0.12, the only valid positional argument will be `data`, and passing other arguments without an explicit keyword will result in an error or misinterpretation.\n",
      "  warnings.warn(\n"
     ]
    },
    {
     "data": {
      "text/plain": [
       "<matplotlib.lines.Line2D at 0x1d4d4abfa90>"
      ]
     },
     "execution_count": 164,
     "metadata": {},
     "output_type": "execute_result"
    },
    {
     "data": {
      "image/png": "[encoded data removed]",
      "text/plain": [
       "<Figure size 432x288 with 1 Axes>"
      ]
     },
     "metadata": {
      "needs_background": "light"
     },
     "output_type": "display_data"
    }
   ],
   "source": [
    "#Also represent the min and max values\n",
    "\n",
    "sns.boxplot(df_phi['lst_poro'])\n",
    "\n",
    "plt.axvline(df_phi['lst_poro'].quantile(0.5),color = 'red')\n",
    "plt.axvline(df_phi['lst_poro'].quantile(0.25),color = 'red')\n",
    "plt.axvline(df_phi['lst_poro'].quantile(0.75),color = 'red')"
   ]
  },
  {
   "cell_type": "code",
   "execution_count": 169,
   "id": "6615e0a1",
   "metadata": {},
   "outputs": [
    {
     "name": "stderr",
     "output_type": "stream",
     "text": [
      "D:\\Anaconda\\lib\\site-packages\\seaborn\\_decorators.py:36: FutureWarning: Pass the following variable as a keyword arg: x. From version 0.12, the only valid positional argument will be `data`, and passing other arguments without an explicit keyword will result in an error or misinterpretation.\n",
      "  warnings.warn(\n"
     ]
    },
    {
     "data": {
      "text/plain": [
       "<matplotlib.lines.Line2D at 0x1d4d8fed310>"
      ]
     },
     "execution_count": 169,
     "metadata": {},
     "output_type": "execute_result"
    },
    {
     "data": {
      "image/png": "[encoded data removed]",
      "text/plain": [
       "<Figure size 432x288 with 1 Axes>"
      ]
     },
     "metadata": {
      "needs_background": "light"
     },
     "output_type": "display_data"
    }
   ],
   "source": [
    "sns.boxplot(df_phi['lst_poro'])\n",
    "\n",
    "plt.axvline(df_phi['lst_poro'].quantile(0.5),color = 'red')\n",
    "plt.axvline(df_phi['lst_poro'].quantile(0.25),color = 'red')\n",
    "plt.axvline(df_phi['lst_poro'].quantile(0.75),color = 'red')\n",
    "\n",
    "plt.axvline(df_phi['lst_poro'].max(),color = 'red')\n",
    "plt.axvline(df_phi['lst_poro'].min(),color = 'red')\n"
   ]
  },
  {
   "cell_type": "code",
   "execution_count": 175,
   "id": "33cb5dcd",
   "metadata": {},
   "outputs": [
    {
     "name": "stderr",
     "output_type": "stream",
     "text": [
      "D:\\Anaconda\\lib\\site-packages\\seaborn\\_decorators.py:36: FutureWarning: Pass the following variable as a keyword arg: x. From version 0.12, the only valid positional argument will be `data`, and passing other arguments without an explicit keyword will result in an error or misinterpretation.\n",
      "  warnings.warn(\n",
      "D:\\Anaconda\\lib\\site-packages\\seaborn\\_decorators.py:36: FutureWarning: Pass the following variable as a keyword arg: x. From version 0.12, the only valid positional argument will be `data`, and passing other arguments without an explicit keyword will result in an error or misinterpretation.\n",
      "  warnings.warn(\n"
     ]
    },
    {
     "data": {
      "text/plain": [
       "<AxesSubplot:xlabel='lst_poro'>"
      ]
     },
     "execution_count": 175,
     "metadata": {},
     "output_type": "execute_result"
    },
    {
     "data": {
      "image/png": "[encoded data removed]",
      "text/plain": [
       "<Figure size 432x288 with 1 Axes>"
      ]
     },
     "metadata": {
      "needs_background": "light"
     },
     "output_type": "display_data"
    }
   ],
   "source": [
    "#we can plot two boxplot in one\n",
    "\n",
    "sns.boxplot(df_phi['sst_poro'])\n",
    "sns.boxplot(df_phi['lst_poro'],color = 'orange')"
   ]
  },
  {
   "cell_type": "markdown",
   "id": "4992f804",
   "metadata": {},
   "source": [
    "## Sub plots\n"
   ]
  },
  {
   "cell_type": "markdown",
   "id": "a5a49a42",
   "metadata": {},
   "source": [
    "> **Its helps to plot multiple plot togather**"
   ]
  },
  {
   "cell_type": "code",
   "execution_count": 196,
   "id": "6994b5d0",
   "metadata": {},
   "outputs": [
    {
     "data": {
      "text/plain": [
       "[<matplotlib.lines.Line2D at 0x1d4dea95040>]"
      ]
     },
     "execution_count": 196,
     "metadata": {},
     "output_type": "execute_result"
    },
    {
     "data": {
      "image/png": "[encoded data removed]",
      "text/plain": [
       "<Figure size 720x432 with 4 Axes>"
      ]
     },
     "metadata": {
      "needs_background": "light"
     },
     "output_type": "display_data"
    }
   ],
   "source": [
    "fig,axs = plt.subplots(nrows=2,ncols=2)\n",
    "fig.set_figheight(6);fig.set_figwidth(10)\n",
    "\n",
    "x_data = np.linspace(1,100,1000)\n",
    "\n",
    "axs[0,0].plot(x_data, x_data**1, label = 'Power = 1')  # y = x^1\n",
    "axs[0,0].set_title('Power = 1')\n",
    "axs[0,0].grid()\n",
    "\n",
    "axs[0,1].scatter(x_data, x_data**2, label = 'Power = 2')  # y = x^2\n",
    "\n",
    "\n",
    "axs[1,0].plot((df['BORE_OIL_VOL']), label = 'Power = 3')  # y = x^3\n",
    "\n",
    "\n",
    "axs[1,1].plot(x_data, x_data**4, label = 'Power = 4')  # y = x^4\n"
   ]
  },
  {
   "cell_type": "markdown",
   "id": "76824e2b",
   "metadata": {},
   "source": [
    "---"
   ]
  },
  {
   "cell_type": "markdown",
   "id": "4ae378b0",
   "metadata": {},
   "source": [
    "## Exploratory Data Analysis Beginning"
   ]
  },
  {
   "cell_type": "code",
   "execution_count": 194,
   "id": "b0631845",
   "metadata": {},
   "outputs": [
    {
     "data": {
      "text/html": [
       "<div>\n",
       "<style scoped>\n",
       "    .dataframe tbody tr th:only-of-type {\n",
       "        vertical-align: middle;\n",
       "    }\n",
       "\n",
       "    .dataframe tbody tr th {\n",
       "        vertical-align: top;\n",
       "    }\n",
       "\n",
       "    .dataframe thead th {\n",
       "        text-align: right;\n",
       "    }\n",
       "</style>\n",
       "<table border=\"1\" class=\"dataframe\">\n",
       "  <thead>\n",
       "    <tr style=\"text-align: right;\">\n",
       "      <th></th>\n",
       "      <th>DATEPRD</th>\n",
       "      <th>NPD_WELL_BORE_CODE</th>\n",
       "      <th>NPD_WELL_BORE_NAME</th>\n",
       "      <th>ON_STREAM_HRS</th>\n",
       "      <th>AVG_DOWNHOLE_PRESSURE</th>\n",
       "      <th>AVG_DOWNHOLE_TEMPERATURE</th>\n",
       "      <th>AVG_DP_TUBING</th>\n",
       "      <th>AVG_ANNULUS_PRESS</th>\n",
       "      <th>AVG_CHOKE_SIZE_P</th>\n",
       "      <th>AVG_WHP_P</th>\n",
       "      <th>AVG_WHT_P</th>\n",
       "      <th>DP_CHOKE_SIZE</th>\n",
       "      <th>BORE_GAS_VOL</th>\n",
       "      <th>BORE_WAT_VOL</th>\n",
       "      <th>Injection Hours F-4</th>\n",
       "      <th>Water Injection F-4</th>\n",
       "      <th>Injection Hours F-5</th>\n",
       "      <th>Water Injection F-5</th>\n",
       "      <th>Total Water Injection</th>\n",
       "      <th>BORE_OIL_VOL</th>\n",
       "    </tr>\n",
       "  </thead>\n",
       "  <tbody>\n",
       "    <tr>\n",
       "      <th>0</th>\n",
       "      <td>01-Sep-07</td>\n",
       "      <td>5599</td>\n",
       "      <td>15/9-F-12</td>\n",
       "      <td>0.0</td>\n",
       "      <td>0.0</td>\n",
       "      <td>0.0</td>\n",
       "      <td>0.0</td>\n",
       "      <td>0.000</td>\n",
       "      <td>0.00000</td>\n",
       "      <td>0.0</td>\n",
       "      <td>0.0</td>\n",
       "      <td>0.000</td>\n",
       "      <td>0.0</td>\n",
       "      <td>0.0</td>\n",
       "      <td>0.00</td>\n",
       "      <td>0</td>\n",
       "      <td>0.0</td>\n",
       "      <td>0</td>\n",
       "      <td>0</td>\n",
       "      <td>0.0</td>\n",
       "    </tr>\n",
       "    <tr>\n",
       "      <th>1</th>\n",
       "      <td>02-Sep-07</td>\n",
       "      <td>5599</td>\n",
       "      <td>15/9-F-12</td>\n",
       "      <td>0.0</td>\n",
       "      <td>0.0</td>\n",
       "      <td>0.0</td>\n",
       "      <td>0.0</td>\n",
       "      <td>0.000</td>\n",
       "      <td>0.00000</td>\n",
       "      <td>0.0</td>\n",
       "      <td>0.0</td>\n",
       "      <td>0.000</td>\n",
       "      <td>0.0</td>\n",
       "      <td>0.0</td>\n",
       "      <td>0.00</td>\n",
       "      <td>0</td>\n",
       "      <td>0.0</td>\n",
       "      <td>0</td>\n",
       "      <td>0</td>\n",
       "      <td>0.0</td>\n",
       "    </tr>\n",
       "    <tr>\n",
       "      <th>2</th>\n",
       "      <td>03-Sep-07</td>\n",
       "      <td>5599</td>\n",
       "      <td>15/9-F-12</td>\n",
       "      <td>0.0</td>\n",
       "      <td>0.0</td>\n",
       "      <td>0.0</td>\n",
       "      <td>0.0</td>\n",
       "      <td>0.000</td>\n",
       "      <td>0.00000</td>\n",
       "      <td>0.0</td>\n",
       "      <td>0.0</td>\n",
       "      <td>0.000</td>\n",
       "      <td>0.0</td>\n",
       "      <td>0.0</td>\n",
       "      <td>0.00</td>\n",
       "      <td>0</td>\n",
       "      <td>0.0</td>\n",
       "      <td>0</td>\n",
       "      <td>0</td>\n",
       "      <td>0.0</td>\n",
       "    </tr>\n",
       "    <tr>\n",
       "      <th>3</th>\n",
       "      <td>04-Sep-07</td>\n",
       "      <td>5599</td>\n",
       "      <td>15/9-F-12</td>\n",
       "      <td>0.0</td>\n",
       "      <td>0.0</td>\n",
       "      <td>0.0</td>\n",
       "      <td>0.0</td>\n",
       "      <td>0.000</td>\n",
       "      <td>0.00000</td>\n",
       "      <td>0.0</td>\n",
       "      <td>0.0</td>\n",
       "      <td>0.000</td>\n",
       "      <td>0.0</td>\n",
       "      <td>0.0</td>\n",
       "      <td>0.00</td>\n",
       "      <td>0</td>\n",
       "      <td>0.0</td>\n",
       "      <td>0</td>\n",
       "      <td>0</td>\n",
       "      <td>0.0</td>\n",
       "    </tr>\n",
       "    <tr>\n",
       "      <th>4</th>\n",
       "      <td>05-Sep-07</td>\n",
       "      <td>5599</td>\n",
       "      <td>15/9-F-12</td>\n",
       "      <td>0.0</td>\n",
       "      <td>0.0</td>\n",
       "      <td>0.0</td>\n",
       "      <td>0.0</td>\n",
       "      <td>0.000</td>\n",
       "      <td>0.00000</td>\n",
       "      <td>0.0</td>\n",
       "      <td>0.0</td>\n",
       "      <td>0.000</td>\n",
       "      <td>0.0</td>\n",
       "      <td>0.0</td>\n",
       "      <td>0.00</td>\n",
       "      <td>0</td>\n",
       "      <td>0.0</td>\n",
       "      <td>0</td>\n",
       "      <td>0</td>\n",
       "      <td>0.0</td>\n",
       "    </tr>\n",
       "    <tr>\n",
       "      <th>...</th>\n",
       "      <td>...</td>\n",
       "      <td>...</td>\n",
       "      <td>...</td>\n",
       "      <td>...</td>\n",
       "      <td>...</td>\n",
       "      <td>...</td>\n",
       "      <td>...</td>\n",
       "      <td>...</td>\n",
       "      <td>...</td>\n",
       "      <td>...</td>\n",
       "      <td>...</td>\n",
       "      <td>...</td>\n",
       "      <td>...</td>\n",
       "      <td>...</td>\n",
       "      <td>...</td>\n",
       "      <td>...</td>\n",
       "      <td>...</td>\n",
       "      <td>...</td>\n",
       "      <td>...</td>\n",
       "      <td>...</td>\n",
       "    </tr>\n",
       "    <tr>\n",
       "      <th>3300</th>\n",
       "      <td>13-Sep-16</td>\n",
       "      <td>5599</td>\n",
       "      <td>15/9-F-12</td>\n",
       "      <td>0.0</td>\n",
       "      <td>0.0</td>\n",
       "      <td>0.0</td>\n",
       "      <td>0.0</td>\n",
       "      <td>19.959</td>\n",
       "      <td>0.99291</td>\n",
       "      <td>0.0</td>\n",
       "      <td>0.0</td>\n",
       "      <td>0.013</td>\n",
       "      <td>0.0</td>\n",
       "      <td>0.0</td>\n",
       "      <td>0.00</td>\n",
       "      <td>0</td>\n",
       "      <td>0.0</td>\n",
       "      <td>0</td>\n",
       "      <td>0</td>\n",
       "      <td>0.0</td>\n",
       "    </tr>\n",
       "    <tr>\n",
       "      <th>3301</th>\n",
       "      <td>14-Sep-16</td>\n",
       "      <td>5599</td>\n",
       "      <td>15/9-F-12</td>\n",
       "      <td>0.0</td>\n",
       "      <td>0.0</td>\n",
       "      <td>0.0</td>\n",
       "      <td>0.0</td>\n",
       "      <td>19.959</td>\n",
       "      <td>0.97304</td>\n",
       "      <td>0.0</td>\n",
       "      <td>0.0</td>\n",
       "      <td>0.016</td>\n",
       "      <td>0.0</td>\n",
       "      <td>0.0</td>\n",
       "      <td>9.56</td>\n",
       "      <td>1811</td>\n",
       "      <td>0.0</td>\n",
       "      <td>0</td>\n",
       "      <td>1811</td>\n",
       "      <td>0.0</td>\n",
       "    </tr>\n",
       "    <tr>\n",
       "      <th>3302</th>\n",
       "      <td>15-Sep-16</td>\n",
       "      <td>5599</td>\n",
       "      <td>15/9-F-12</td>\n",
       "      <td>0.0</td>\n",
       "      <td>0.0</td>\n",
       "      <td>0.0</td>\n",
       "      <td>0.0</td>\n",
       "      <td>19.959</td>\n",
       "      <td>0.97778</td>\n",
       "      <td>0.0</td>\n",
       "      <td>0.0</td>\n",
       "      <td>0.024</td>\n",
       "      <td>0.0</td>\n",
       "      <td>0.0</td>\n",
       "      <td>24.00</td>\n",
       "      <td>4469</td>\n",
       "      <td>0.0</td>\n",
       "      <td>0</td>\n",
       "      <td>4469</td>\n",
       "      <td>0.0</td>\n",
       "    </tr>\n",
       "    <tr>\n",
       "      <th>3303</th>\n",
       "      <td>16-Sep-16</td>\n",
       "      <td>5599</td>\n",
       "      <td>15/9-F-12</td>\n",
       "      <td>0.0</td>\n",
       "      <td>0.0</td>\n",
       "      <td>0.0</td>\n",
       "      <td>0.0</td>\n",
       "      <td>19.959</td>\n",
       "      <td>0.96101</td>\n",
       "      <td>0.0</td>\n",
       "      <td>0.0</td>\n",
       "      <td>0.025</td>\n",
       "      <td>0.0</td>\n",
       "      <td>0.0</td>\n",
       "      <td>24.00</td>\n",
       "      <td>4475</td>\n",
       "      <td>0.0</td>\n",
       "      <td>0</td>\n",
       "      <td>4475</td>\n",
       "      <td>0.0</td>\n",
       "    </tr>\n",
       "    <tr>\n",
       "      <th>3304</th>\n",
       "      <td>17-Sep-16</td>\n",
       "      <td>5599</td>\n",
       "      <td>15/9-F-12</td>\n",
       "      <td>0.0</td>\n",
       "      <td>0.0</td>\n",
       "      <td>0.0</td>\n",
       "      <td>0.0</td>\n",
       "      <td>19.959</td>\n",
       "      <td>0.90339</td>\n",
       "      <td>0.0</td>\n",
       "      <td>0.0</td>\n",
       "      <td>0.026</td>\n",
       "      <td>0.0</td>\n",
       "      <td>0.0</td>\n",
       "      <td>7.61</td>\n",
       "      <td>1419</td>\n",
       "      <td>0.0</td>\n",
       "      <td>0</td>\n",
       "      <td>1419</td>\n",
       "      <td>0.0</td>\n",
       "    </tr>\n",
       "  </tbody>\n",
       "</table>\n",
       "<p>3305 rows × 20 columns</p>\n",
       "</div>"
      ],
      "text/plain": [
       "        DATEPRD  NPD_WELL_BORE_CODE NPD_WELL_BORE_NAME  ON_STREAM_HRS  \\\n",
       "0     01-Sep-07                5599          15/9-F-12            0.0   \n",
       "1     02-Sep-07                5599          15/9-F-12            0.0   \n",
       "2     03-Sep-07                5599          15/9-F-12            0.0   \n",
       "3     04-Sep-07                5599          15/9-F-12            0.0   \n",
       "4     05-Sep-07                5599          15/9-F-12            0.0   \n",
       "...         ...                 ...                ...            ...   \n",
       "3300  13-Sep-16                5599          15/9-F-12            0.0   \n",
       "3301  14-Sep-16                5599          15/9-F-12            0.0   \n",
       "3302  15-Sep-16                5599          15/9-F-12            0.0   \n",
       "3303  16-Sep-16                5599          15/9-F-12            0.0   \n",
       "3304  17-Sep-16                5599          15/9-F-12            0.0   \n",
       "\n",
       "      AVG_DOWNHOLE_PRESSURE  AVG_DOWNHOLE_TEMPERATURE  AVG_DP_TUBING  \\\n",
       "0                       0.0                       0.0            0.0   \n",
       "1                       0.0                       0.0            0.0   \n",
       "2                       0.0                       0.0            0.0   \n",
       "3                       0.0                       0.0            0.0   \n",
       "4                       0.0                       0.0            0.0   \n",
       "...                     ...                       ...            ...   \n",
       "3300                    0.0                       0.0            0.0   \n",
       "3301                    0.0                       0.0            0.0   \n",
       "3302                    0.0                       0.0            0.0   \n",
       "3303                    0.0                       0.0            0.0   \n",
       "3304                    0.0                       0.0            0.0   \n",
       "\n",
       "      AVG_ANNULUS_PRESS  AVG_CHOKE_SIZE_P  AVG_WHP_P  AVG_WHT_P  \\\n",
       "0                 0.000           0.00000        0.0        0.0   \n",
       "1                 0.000           0.00000        0.0        0.0   \n",
       "2                 0.000           0.00000        0.0        0.0   \n",
       "3                 0.000           0.00000        0.0        0.0   \n",
       "4                 0.000           0.00000        0.0        0.0   \n",
       "...                 ...               ...        ...        ...   \n",
       "3300             19.959           0.99291        0.0        0.0   \n",
       "3301             19.959           0.97304        0.0        0.0   \n",
       "3302             19.959           0.97778        0.0        0.0   \n",
       "3303             19.959           0.96101        0.0        0.0   \n",
       "3304             19.959           0.90339        0.0        0.0   \n",
       "\n",
       "      DP_CHOKE_SIZE  BORE_GAS_VOL  BORE_WAT_VOL  Injection Hours F-4  \\\n",
       "0             0.000           0.0           0.0                 0.00   \n",
       "1             0.000           0.0           0.0                 0.00   \n",
       "2             0.000           0.0           0.0                 0.00   \n",
       "3             0.000           0.0           0.0                 0.00   \n",
       "4             0.000           0.0           0.0                 0.00   \n",
       "...             ...           ...           ...                  ...   \n",
       "3300          0.013           0.0           0.0                 0.00   \n",
       "3301          0.016           0.0           0.0                 9.56   \n",
       "3302          0.024           0.0           0.0                24.00   \n",
       "3303          0.025           0.0           0.0                24.00   \n",
       "3304          0.026           0.0           0.0                 7.61   \n",
       "\n",
       "      Water Injection F-4  Injection Hours F-5  Water Injection F-5  \\\n",
       "0                       0                  0.0                    0   \n",
       "1                       0                  0.0                    0   \n",
       "2                       0                  0.0                    0   \n",
       "3                       0                  0.0                    0   \n",
       "4                       0                  0.0                    0   \n",
       "...                   ...                  ...                  ...   \n",
       "3300                    0                  0.0                    0   \n",
       "3301                 1811                  0.0                    0   \n",
       "3302                 4469                  0.0                    0   \n",
       "3303                 4475                  0.0                    0   \n",
       "3304                 1419                  0.0                    0   \n",
       "\n",
       "      Total Water Injection  BORE_OIL_VOL  \n",
       "0                         0           0.0  \n",
       "1                         0           0.0  \n",
       "2                         0           0.0  \n",
       "3                         0           0.0  \n",
       "4                         0           0.0  \n",
       "...                     ...           ...  \n",
       "3300                      0           0.0  \n",
       "3301                   1811           0.0  \n",
       "3302                   4469           0.0  \n",
       "3303                   4475           0.0  \n",
       "3304                   1419           0.0  \n",
       "\n",
       "[3305 rows x 20 columns]"
      ]
     },
     "execution_count": 194,
     "metadata": {},
     "output_type": "execute_result"
    }
   ],
   "source": [
    "df"
   ]
  },
  {
   "cell_type": "code",
   "execution_count": 195,
   "id": "d329bf72",
   "metadata": {},
   "outputs": [
    {
     "data": {
      "text/plain": [
       "Index(['DATEPRD', 'NPD_WELL_BORE_CODE', 'NPD_WELL_BORE_NAME', 'ON_STREAM_HRS',\n",
       "       'AVG_DOWNHOLE_PRESSURE', 'AVG_DOWNHOLE_TEMPERATURE', 'AVG_DP_TUBING',\n",
       "       'AVG_ANNULUS_PRESS', 'AVG_CHOKE_SIZE_P', 'AVG_WHP_P', 'AVG_WHT_P',\n",
       "       'DP_CHOKE_SIZE', 'BORE_GAS_VOL', 'BORE_WAT_VOL', 'Injection Hours F-4',\n",
       "       'Water Injection F-4', 'Injection Hours F-5', 'Water Injection F-5',\n",
       "       'Total Water Injection', 'BORE_OIL_VOL'],\n",
       "      dtype='object')"
      ]
     },
     "execution_count": 195,
     "metadata": {},
     "output_type": "execute_result"
    }
   ],
   "source": [
    "df.columns"
   ]
  },
  {
   "cell_type": "code",
   "execution_count": 200,
   "id": "59e11ac3",
   "metadata": {},
   "outputs": [
    {
     "data": {
      "text/plain": [
       "<AxesSubplot:>"
      ]
     },
     "execution_count": 200,
     "metadata": {},
     "output_type": "execute_result"
    },
    {
     "data": {
      "image/png": "[encoded data removed]",
      "text/plain": [
       "<Figure size 864x288 with 1 Axes>"
      ]
     },
     "metadata": {
      "needs_background": "light"
     },
     "output_type": "display_data"
    }
   ],
   "source": [
    "df['BORE_OIL_VOL'].plot(figsize = (12,4))"
   ]
  },
  {
   "cell_type": "code",
   "execution_count": 201,
   "id": "79c80540",
   "metadata": {},
   "outputs": [
    {
     "name": "stdout",
     "output_type": "stream",
     "text": [
      "<class 'pandas.core.frame.DataFrame'>\n",
      "RangeIndex: 3305 entries, 0 to 3304\n",
      "Data columns (total 20 columns):\n",
      " #   Column                    Non-Null Count  Dtype  \n",
      "---  ------                    --------------  -----  \n",
      " 0   DATEPRD                   3305 non-null   object \n",
      " 1   NPD_WELL_BORE_CODE        3305 non-null   int64  \n",
      " 2   NPD_WELL_BORE_NAME        3305 non-null   object \n",
      " 3   ON_STREAM_HRS             3305 non-null   float64\n",
      " 4   AVG_DOWNHOLE_PRESSURE     3305 non-null   float64\n",
      " 5   AVG_DOWNHOLE_TEMPERATURE  3305 non-null   float64\n",
      " 6   AVG_DP_TUBING             3305 non-null   float64\n",
      " 7   AVG_ANNULUS_PRESS         3305 non-null   float64\n",
      " 8   AVG_CHOKE_SIZE_P          3305 non-null   float64\n",
      " 9   AVG_WHP_P                 3305 non-null   float64\n",
      " 10  AVG_WHT_P                 3305 non-null   float64\n",
      " 11  DP_CHOKE_SIZE             3305 non-null   float64\n",
      " 12  BORE_GAS_VOL              3305 non-null   float64\n",
      " 13  BORE_WAT_VOL              3305 non-null   float64\n",
      " 14  Injection Hours F-4       3305 non-null   float64\n",
      " 15  Water Injection F-4       3305 non-null   int64  \n",
      " 16  Injection Hours F-5       3305 non-null   float64\n",
      " 17  Water Injection F-5       3305 non-null   int64  \n",
      " 18  Total Water Injection     3305 non-null   int64  \n",
      " 19  BORE_OIL_VOL              3305 non-null   float64\n",
      "dtypes: float64(14), int64(4), object(2)\n",
      "memory usage: 516.5+ KB\n"
     ]
    }
   ],
   "source": [
    "df.info()"
   ]
  },
  {
   "cell_type": "code",
   "execution_count": 203,
   "id": "45e4c548",
   "metadata": {},
   "outputs": [],
   "source": [
    "#change the format of date & time \n",
    "df['DATEPRD'] = pd.to_datetime(df['DATEPRD'])"
   ]
  },
  {
   "cell_type": "code",
   "execution_count": 204,
   "id": "bee866d3",
   "metadata": {},
   "outputs": [
    {
     "data": {
      "text/html": [
       "<div>\n",
       "<style scoped>\n",
       "    .dataframe tbody tr th:only-of-type {\n",
       "        vertical-align: middle;\n",
       "    }\n",
       "\n",
       "    .dataframe tbody tr th {\n",
       "        vertical-align: top;\n",
       "    }\n",
       "\n",
       "    .dataframe thead th {\n",
       "        text-align: right;\n",
       "    }\n",
       "</style>\n",
       "<table border=\"1\" class=\"dataframe\">\n",
       "  <thead>\n",
       "    <tr style=\"text-align: right;\">\n",
       "      <th></th>\n",
       "      <th>DATEPRD</th>\n",
       "      <th>NPD_WELL_BORE_CODE</th>\n",
       "      <th>NPD_WELL_BORE_NAME</th>\n",
       "      <th>ON_STREAM_HRS</th>\n",
       "      <th>AVG_DOWNHOLE_PRESSURE</th>\n",
       "      <th>AVG_DOWNHOLE_TEMPERATURE</th>\n",
       "      <th>AVG_DP_TUBING</th>\n",
       "      <th>AVG_ANNULUS_PRESS</th>\n",
       "      <th>AVG_CHOKE_SIZE_P</th>\n",
       "      <th>AVG_WHP_P</th>\n",
       "      <th>AVG_WHT_P</th>\n",
       "      <th>DP_CHOKE_SIZE</th>\n",
       "      <th>BORE_GAS_VOL</th>\n",
       "      <th>BORE_WAT_VOL</th>\n",
       "      <th>Injection Hours F-4</th>\n",
       "      <th>Water Injection F-4</th>\n",
       "      <th>Injection Hours F-5</th>\n",
       "      <th>Water Injection F-5</th>\n",
       "      <th>Total Water Injection</th>\n",
       "      <th>BORE_OIL_VOL</th>\n",
       "    </tr>\n",
       "  </thead>\n",
       "  <tbody>\n",
       "    <tr>\n",
       "      <th>0</th>\n",
       "      <td>2007-09-01</td>\n",
       "      <td>5599</td>\n",
       "      <td>15/9-F-12</td>\n",
       "      <td>0.0</td>\n",
       "      <td>0.0</td>\n",
       "      <td>0.0</td>\n",
       "      <td>0.0</td>\n",
       "      <td>0.000</td>\n",
       "      <td>0.00000</td>\n",
       "      <td>0.0</td>\n",
       "      <td>0.0</td>\n",
       "      <td>0.000</td>\n",
       "      <td>0.0</td>\n",
       "      <td>0.0</td>\n",
       "      <td>0.00</td>\n",
       "      <td>0</td>\n",
       "      <td>0.0</td>\n",
       "      <td>0</td>\n",
       "      <td>0</td>\n",
       "      <td>0.0</td>\n",
       "    </tr>\n",
       "    <tr>\n",
       "      <th>1</th>\n",
       "      <td>2007-09-02</td>\n",
       "      <td>5599</td>\n",
       "      <td>15/9-F-12</td>\n",
       "      <td>0.0</td>\n",
       "      <td>0.0</td>\n",
       "      <td>0.0</td>\n",
       "      <td>0.0</td>\n",
       "      <td>0.000</td>\n",
       "      <td>0.00000</td>\n",
       "      <td>0.0</td>\n",
       "      <td>0.0</td>\n",
       "      <td>0.000</td>\n",
       "      <td>0.0</td>\n",
       "      <td>0.0</td>\n",
       "      <td>0.00</td>\n",
       "      <td>0</td>\n",
       "      <td>0.0</td>\n",
       "      <td>0</td>\n",
       "      <td>0</td>\n",
       "      <td>0.0</td>\n",
       "    </tr>\n",
       "    <tr>\n",
       "      <th>2</th>\n",
       "      <td>2007-09-03</td>\n",
       "      <td>5599</td>\n",
       "      <td>15/9-F-12</td>\n",
       "      <td>0.0</td>\n",
       "      <td>0.0</td>\n",
       "      <td>0.0</td>\n",
       "      <td>0.0</td>\n",
       "      <td>0.000</td>\n",
       "      <td>0.00000</td>\n",
       "      <td>0.0</td>\n",
       "      <td>0.0</td>\n",
       "      <td>0.000</td>\n",
       "      <td>0.0</td>\n",
       "      <td>0.0</td>\n",
       "      <td>0.00</td>\n",
       "      <td>0</td>\n",
       "      <td>0.0</td>\n",
       "      <td>0</td>\n",
       "      <td>0</td>\n",
       "      <td>0.0</td>\n",
       "    </tr>\n",
       "    <tr>\n",
       "      <th>3</th>\n",
       "      <td>2007-09-04</td>\n",
       "      <td>5599</td>\n",
       "      <td>15/9-F-12</td>\n",
       "      <td>0.0</td>\n",
       "      <td>0.0</td>\n",
       "      <td>0.0</td>\n",
       "      <td>0.0</td>\n",
       "      <td>0.000</td>\n",
       "      <td>0.00000</td>\n",
       "      <td>0.0</td>\n",
       "      <td>0.0</td>\n",
       "      <td>0.000</td>\n",
       "      <td>0.0</td>\n",
       "      <td>0.0</td>\n",
       "      <td>0.00</td>\n",
       "      <td>0</td>\n",
       "      <td>0.0</td>\n",
       "      <td>0</td>\n",
       "      <td>0</td>\n",
       "      <td>0.0</td>\n",
       "    </tr>\n",
       "    <tr>\n",
       "      <th>4</th>\n",
       "      <td>2007-09-05</td>\n",
       "      <td>5599</td>\n",
       "      <td>15/9-F-12</td>\n",
       "      <td>0.0</td>\n",
       "      <td>0.0</td>\n",
       "      <td>0.0</td>\n",
       "      <td>0.0</td>\n",
       "      <td>0.000</td>\n",
       "      <td>0.00000</td>\n",
       "      <td>0.0</td>\n",
       "      <td>0.0</td>\n",
       "      <td>0.000</td>\n",
       "      <td>0.0</td>\n",
       "      <td>0.0</td>\n",
       "      <td>0.00</td>\n",
       "      <td>0</td>\n",
       "      <td>0.0</td>\n",
       "      <td>0</td>\n",
       "      <td>0</td>\n",
       "      <td>0.0</td>\n",
       "    </tr>\n",
       "    <tr>\n",
       "      <th>...</th>\n",
       "      <td>...</td>\n",
       "      <td>...</td>\n",
       "      <td>...</td>\n",
       "      <td>...</td>\n",
       "      <td>...</td>\n",
       "      <td>...</td>\n",
       "      <td>...</td>\n",
       "      <td>...</td>\n",
       "      <td>...</td>\n",
       "      <td>...</td>\n",
       "      <td>...</td>\n",
       "      <td>...</td>\n",
       "      <td>...</td>\n",
       "      <td>...</td>\n",
       "      <td>...</td>\n",
       "      <td>...</td>\n",
       "      <td>...</td>\n",
       "      <td>...</td>\n",
       "      <td>...</td>\n",
       "      <td>...</td>\n",
       "    </tr>\n",
       "    <tr>\n",
       "      <th>3300</th>\n",
       "      <td>2016-09-13</td>\n",
       "      <td>5599</td>\n",
       "      <td>15/9-F-12</td>\n",
       "      <td>0.0</td>\n",
       "      <td>0.0</td>\n",
       "      <td>0.0</td>\n",
       "      <td>0.0</td>\n",
       "      <td>19.959</td>\n",
       "      <td>0.99291</td>\n",
       "      <td>0.0</td>\n",
       "      <td>0.0</td>\n",
       "      <td>0.013</td>\n",
       "      <td>0.0</td>\n",
       "      <td>0.0</td>\n",
       "      <td>0.00</td>\n",
       "      <td>0</td>\n",
       "      <td>0.0</td>\n",
       "      <td>0</td>\n",
       "      <td>0</td>\n",
       "      <td>0.0</td>\n",
       "    </tr>\n",
       "    <tr>\n",
       "      <th>3301</th>\n",
       "      <td>2016-09-14</td>\n",
       "      <td>5599</td>\n",
       "      <td>15/9-F-12</td>\n",
       "      <td>0.0</td>\n",
       "      <td>0.0</td>\n",
       "      <td>0.0</td>\n",
       "      <td>0.0</td>\n",
       "      <td>19.959</td>\n",
       "      <td>0.97304</td>\n",
       "      <td>0.0</td>\n",
       "      <td>0.0</td>\n",
       "      <td>0.016</td>\n",
       "      <td>0.0</td>\n",
       "      <td>0.0</td>\n",
       "      <td>9.56</td>\n",
       "      <td>1811</td>\n",
       "      <td>0.0</td>\n",
       "      <td>0</td>\n",
       "      <td>1811</td>\n",
       "      <td>0.0</td>\n",
       "    </tr>\n",
       "    <tr>\n",
       "      <th>3302</th>\n",
       "      <td>2016-09-15</td>\n",
       "      <td>5599</td>\n",
       "      <td>15/9-F-12</td>\n",
       "      <td>0.0</td>\n",
       "      <td>0.0</td>\n",
       "      <td>0.0</td>\n",
       "      <td>0.0</td>\n",
       "      <td>19.959</td>\n",
       "      <td>0.97778</td>\n",
       "      <td>0.0</td>\n",
       "      <td>0.0</td>\n",
       "      <td>0.024</td>\n",
       "      <td>0.0</td>\n",
       "      <td>0.0</td>\n",
       "      <td>24.00</td>\n",
       "      <td>4469</td>\n",
       "      <td>0.0</td>\n",
       "      <td>0</td>\n",
       "      <td>4469</td>\n",
       "      <td>0.0</td>\n",
       "    </tr>\n",
       "    <tr>\n",
       "      <th>3303</th>\n",
       "      <td>2016-09-16</td>\n",
       "      <td>5599</td>\n",
       "      <td>15/9-F-12</td>\n",
       "      <td>0.0</td>\n",
       "      <td>0.0</td>\n",
       "      <td>0.0</td>\n",
       "      <td>0.0</td>\n",
       "      <td>19.959</td>\n",
       "      <td>0.96101</td>\n",
       "      <td>0.0</td>\n",
       "      <td>0.0</td>\n",
       "      <td>0.025</td>\n",
       "      <td>0.0</td>\n",
       "      <td>0.0</td>\n",
       "      <td>24.00</td>\n",
       "      <td>4475</td>\n",
       "      <td>0.0</td>\n",
       "      <td>0</td>\n",
       "      <td>4475</td>\n",
       "      <td>0.0</td>\n",
       "    </tr>\n",
       "    <tr>\n",
       "      <th>3304</th>\n",
       "      <td>2016-09-17</td>\n",
       "      <td>5599</td>\n",
       "      <td>15/9-F-12</td>\n",
       "      <td>0.0</td>\n",
       "      <td>0.0</td>\n",
       "      <td>0.0</td>\n",
       "      <td>0.0</td>\n",
       "      <td>19.959</td>\n",
       "      <td>0.90339</td>\n",
       "      <td>0.0</td>\n",
       "      <td>0.0</td>\n",
       "      <td>0.026</td>\n",
       "      <td>0.0</td>\n",
       "      <td>0.0</td>\n",
       "      <td>7.61</td>\n",
       "      <td>1419</td>\n",
       "      <td>0.0</td>\n",
       "      <td>0</td>\n",
       "      <td>1419</td>\n",
       "      <td>0.0</td>\n",
       "    </tr>\n",
       "  </tbody>\n",
       "</table>\n",
       "<p>3305 rows × 20 columns</p>\n",
       "</div>"
      ],
      "text/plain": [
       "        DATEPRD  NPD_WELL_BORE_CODE NPD_WELL_BORE_NAME  ON_STREAM_HRS  \\\n",
       "0    2007-09-01                5599          15/9-F-12            0.0   \n",
       "1    2007-09-02                5599          15/9-F-12            0.0   \n",
       "2    2007-09-03                5599          15/9-F-12            0.0   \n",
       "3    2007-09-04                5599          15/9-F-12            0.0   \n",
       "4    2007-09-05                5599          15/9-F-12            0.0   \n",
       "...         ...                 ...                ...            ...   \n",
       "3300 2016-09-13                5599          15/9-F-12            0.0   \n",
       "3301 2016-09-14                5599          15/9-F-12            0.0   \n",
       "3302 2016-09-15                5599          15/9-F-12            0.0   \n",
       "3303 2016-09-16                5599          15/9-F-12            0.0   \n",
       "3304 2016-09-17                5599          15/9-F-12            0.0   \n",
       "\n",
       "      AVG_DOWNHOLE_PRESSURE  AVG_DOWNHOLE_TEMPERATURE  AVG_DP_TUBING  \\\n",
       "0                       0.0                       0.0            0.0   \n",
       "1                       0.0                       0.0            0.0   \n",
       "2                       0.0                       0.0            0.0   \n",
       "3                       0.0                       0.0            0.0   \n",
       "4                       0.0                       0.0            0.0   \n",
       "...                     ...                       ...            ...   \n",
       "3300                    0.0                       0.0            0.0   \n",
       "3301                    0.0                       0.0            0.0   \n",
       "3302                    0.0                       0.0            0.0   \n",
       "3303                    0.0                       0.0            0.0   \n",
       "3304                    0.0                       0.0            0.0   \n",
       "\n",
       "      AVG_ANNULUS_PRESS  AVG_CHOKE_SIZE_P  AVG_WHP_P  AVG_WHT_P  \\\n",
       "0                 0.000           0.00000        0.0        0.0   \n",
       "1                 0.000           0.00000        0.0        0.0   \n",
       "2                 0.000           0.00000        0.0        0.0   \n",
       "3                 0.000           0.00000        0.0        0.0   \n",
       "4                 0.000           0.00000        0.0        0.0   \n",
       "...                 ...               ...        ...        ...   \n",
       "3300             19.959           0.99291        0.0        0.0   \n",
       "3301             19.959           0.97304        0.0        0.0   \n",
       "3302             19.959           0.97778        0.0        0.0   \n",
       "3303             19.959           0.96101        0.0        0.0   \n",
       "3304             19.959           0.90339        0.0        0.0   \n",
       "\n",
       "      DP_CHOKE_SIZE  BORE_GAS_VOL  BORE_WAT_VOL  Injection Hours F-4  \\\n",
       "0             0.000           0.0           0.0                 0.00   \n",
       "1             0.000           0.0           0.0                 0.00   \n",
       "2             0.000           0.0           0.0                 0.00   \n",
       "3             0.000           0.0           0.0                 0.00   \n",
       "4             0.000           0.0           0.0                 0.00   \n",
       "...             ...           ...           ...                  ...   \n",
       "3300          0.013           0.0           0.0                 0.00   \n",
       "3301          0.016           0.0           0.0                 9.56   \n",
       "3302          0.024           0.0           0.0                24.00   \n",
       "3303          0.025           0.0           0.0                24.00   \n",
       "3304          0.026           0.0           0.0                 7.61   \n",
       "\n",
       "      Water Injection F-4  Injection Hours F-5  Water Injection F-5  \\\n",
       "0                       0                  0.0                    0   \n",
       "1                       0                  0.0                    0   \n",
       "2                       0                  0.0                    0   \n",
       "3                       0                  0.0                    0   \n",
       "4                       0                  0.0                    0   \n",
       "...                   ...                  ...                  ...   \n",
       "3300                    0                  0.0                    0   \n",
       "3301                 1811                  0.0                    0   \n",
       "3302                 4469                  0.0                    0   \n",
       "3303                 4475                  0.0                    0   \n",
       "3304                 1419                  0.0                    0   \n",
       "\n",
       "      Total Water Injection  BORE_OIL_VOL  \n",
       "0                         0           0.0  \n",
       "1                         0           0.0  \n",
       "2                         0           0.0  \n",
       "3                         0           0.0  \n",
       "4                         0           0.0  \n",
       "...                     ...           ...  \n",
       "3300                      0           0.0  \n",
       "3301                   1811           0.0  \n",
       "3302                   4469           0.0  \n",
       "3303                   4475           0.0  \n",
       "3304                   1419           0.0  \n",
       "\n",
       "[3305 rows x 20 columns]"
      ]
     },
     "execution_count": 204,
     "metadata": {},
     "output_type": "execute_result"
    }
   ],
   "source": [
    "df"
   ]
  },
  {
   "cell_type": "code",
   "execution_count": 212,
   "id": "ac3ae6ec",
   "metadata": {},
   "outputs": [],
   "source": [
    "df = df.set_index(df['DATEPRD'])"
   ]
  },
  {
   "cell_type": "code",
   "execution_count": 213,
   "id": "2c23d8d6",
   "metadata": {},
   "outputs": [
    {
     "data": {
      "text/html": [
       "<div>\n",
       "<style scoped>\n",
       "    .dataframe tbody tr th:only-of-type {\n",
       "        vertical-align: middle;\n",
       "    }\n",
       "\n",
       "    .dataframe tbody tr th {\n",
       "        vertical-align: top;\n",
       "    }\n",
       "\n",
       "    .dataframe thead th {\n",
       "        text-align: right;\n",
       "    }\n",
       "</style>\n",
       "<table border=\"1\" class=\"dataframe\">\n",
       "  <thead>\n",
       "    <tr style=\"text-align: right;\">\n",
       "      <th></th>\n",
       "      <th>DATEPRD</th>\n",
       "      <th>NPD_WELL_BORE_CODE</th>\n",
       "      <th>NPD_WELL_BORE_NAME</th>\n",
       "      <th>ON_STREAM_HRS</th>\n",
       "      <th>AVG_DOWNHOLE_PRESSURE</th>\n",
       "      <th>AVG_DOWNHOLE_TEMPERATURE</th>\n",
       "      <th>AVG_DP_TUBING</th>\n",
       "      <th>AVG_ANNULUS_PRESS</th>\n",
       "      <th>AVG_CHOKE_SIZE_P</th>\n",
       "      <th>AVG_WHP_P</th>\n",
       "      <th>AVG_WHT_P</th>\n",
       "      <th>DP_CHOKE_SIZE</th>\n",
       "      <th>BORE_GAS_VOL</th>\n",
       "      <th>BORE_WAT_VOL</th>\n",
       "      <th>Injection Hours F-4</th>\n",
       "      <th>Water Injection F-4</th>\n",
       "      <th>Injection Hours F-5</th>\n",
       "      <th>Water Injection F-5</th>\n",
       "      <th>Total Water Injection</th>\n",
       "      <th>BORE_OIL_VOL</th>\n",
       "    </tr>\n",
       "    <tr>\n",
       "      <th>DATEPRD</th>\n",
       "      <th></th>\n",
       "      <th></th>\n",
       "      <th></th>\n",
       "      <th></th>\n",
       "      <th></th>\n",
       "      <th></th>\n",
       "      <th></th>\n",
       "      <th></th>\n",
       "      <th></th>\n",
       "      <th></th>\n",
       "      <th></th>\n",
       "      <th></th>\n",
       "      <th></th>\n",
       "      <th></th>\n",
       "      <th></th>\n",
       "      <th></th>\n",
       "      <th></th>\n",
       "      <th></th>\n",
       "      <th></th>\n",
       "      <th></th>\n",
       "    </tr>\n",
       "  </thead>\n",
       "  <tbody>\n",
       "    <tr>\n",
       "      <th>2007-09-01</th>\n",
       "      <td>2007-09-01</td>\n",
       "      <td>5599</td>\n",
       "      <td>15/9-F-12</td>\n",
       "      <td>0.0</td>\n",
       "      <td>0.0</td>\n",
       "      <td>0.0</td>\n",
       "      <td>0.0</td>\n",
       "      <td>0.000</td>\n",
       "      <td>0.00000</td>\n",
       "      <td>0.0</td>\n",
       "      <td>0.0</td>\n",
       "      <td>0.000</td>\n",
       "      <td>0.0</td>\n",
       "      <td>0.0</td>\n",
       "      <td>0.00</td>\n",
       "      <td>0</td>\n",
       "      <td>0.0</td>\n",
       "      <td>0</td>\n",
       "      <td>0</td>\n",
       "      <td>0.0</td>\n",
       "    </tr>\n",
       "    <tr>\n",
       "      <th>2007-09-02</th>\n",
       "      <td>2007-09-02</td>\n",
       "      <td>5599</td>\n",
       "      <td>15/9-F-12</td>\n",
       "      <td>0.0</td>\n",
       "      <td>0.0</td>\n",
       "      <td>0.0</td>\n",
       "      <td>0.0</td>\n",
       "      <td>0.000</td>\n",
       "      <td>0.00000</td>\n",
       "      <td>0.0</td>\n",
       "      <td>0.0</td>\n",
       "      <td>0.000</td>\n",
       "      <td>0.0</td>\n",
       "      <td>0.0</td>\n",
       "      <td>0.00</td>\n",
       "      <td>0</td>\n",
       "      <td>0.0</td>\n",
       "      <td>0</td>\n",
       "      <td>0</td>\n",
       "      <td>0.0</td>\n",
       "    </tr>\n",
       "    <tr>\n",
       "      <th>2007-09-03</th>\n",
       "      <td>2007-09-03</td>\n",
       "      <td>5599</td>\n",
       "      <td>15/9-F-12</td>\n",
       "      <td>0.0</td>\n",
       "      <td>0.0</td>\n",
       "      <td>0.0</td>\n",
       "      <td>0.0</td>\n",
       "      <td>0.000</td>\n",
       "      <td>0.00000</td>\n",
       "      <td>0.0</td>\n",
       "      <td>0.0</td>\n",
       "      <td>0.000</td>\n",
       "      <td>0.0</td>\n",
       "      <td>0.0</td>\n",
       "      <td>0.00</td>\n",
       "      <td>0</td>\n",
       "      <td>0.0</td>\n",
       "      <td>0</td>\n",
       "      <td>0</td>\n",
       "      <td>0.0</td>\n",
       "    </tr>\n",
       "    <tr>\n",
       "      <th>2007-09-04</th>\n",
       "      <td>2007-09-04</td>\n",
       "      <td>5599</td>\n",
       "      <td>15/9-F-12</td>\n",
       "      <td>0.0</td>\n",
       "      <td>0.0</td>\n",
       "      <td>0.0</td>\n",
       "      <td>0.0</td>\n",
       "      <td>0.000</td>\n",
       "      <td>0.00000</td>\n",
       "      <td>0.0</td>\n",
       "      <td>0.0</td>\n",
       "      <td>0.000</td>\n",
       "      <td>0.0</td>\n",
       "      <td>0.0</td>\n",
       "      <td>0.00</td>\n",
       "      <td>0</td>\n",
       "      <td>0.0</td>\n",
       "      <td>0</td>\n",
       "      <td>0</td>\n",
       "      <td>0.0</td>\n",
       "    </tr>\n",
       "    <tr>\n",
       "      <th>2007-09-05</th>\n",
       "      <td>2007-09-05</td>\n",
       "      <td>5599</td>\n",
       "      <td>15/9-F-12</td>\n",
       "      <td>0.0</td>\n",
       "      <td>0.0</td>\n",
       "      <td>0.0</td>\n",
       "      <td>0.0</td>\n",
       "      <td>0.000</td>\n",
       "      <td>0.00000</td>\n",
       "      <td>0.0</td>\n",
       "      <td>0.0</td>\n",
       "      <td>0.000</td>\n",
       "      <td>0.0</td>\n",
       "      <td>0.0</td>\n",
       "      <td>0.00</td>\n",
       "      <td>0</td>\n",
       "      <td>0.0</td>\n",
       "      <td>0</td>\n",
       "      <td>0</td>\n",
       "      <td>0.0</td>\n",
       "    </tr>\n",
       "    <tr>\n",
       "      <th>...</th>\n",
       "      <td>...</td>\n",
       "      <td>...</td>\n",
       "      <td>...</td>\n",
       "      <td>...</td>\n",
       "      <td>...</td>\n",
       "      <td>...</td>\n",
       "      <td>...</td>\n",
       "      <td>...</td>\n",
       "      <td>...</td>\n",
       "      <td>...</td>\n",
       "      <td>...</td>\n",
       "      <td>...</td>\n",
       "      <td>...</td>\n",
       "      <td>...</td>\n",
       "      <td>...</td>\n",
       "      <td>...</td>\n",
       "      <td>...</td>\n",
       "      <td>...</td>\n",
       "      <td>...</td>\n",
       "      <td>...</td>\n",
       "    </tr>\n",
       "    <tr>\n",
       "      <th>2016-09-13</th>\n",
       "      <td>2016-09-13</td>\n",
       "      <td>5599</td>\n",
       "      <td>15/9-F-12</td>\n",
       "      <td>0.0</td>\n",
       "      <td>0.0</td>\n",
       "      <td>0.0</td>\n",
       "      <td>0.0</td>\n",
       "      <td>19.959</td>\n",
       "      <td>0.99291</td>\n",
       "      <td>0.0</td>\n",
       "      <td>0.0</td>\n",
       "      <td>0.013</td>\n",
       "      <td>0.0</td>\n",
       "      <td>0.0</td>\n",
       "      <td>0.00</td>\n",
       "      <td>0</td>\n",
       "      <td>0.0</td>\n",
       "      <td>0</td>\n",
       "      <td>0</td>\n",
       "      <td>0.0</td>\n",
       "    </tr>\n",
       "    <tr>\n",
       "      <th>2016-09-14</th>\n",
       "      <td>2016-09-14</td>\n",
       "      <td>5599</td>\n",
       "      <td>15/9-F-12</td>\n",
       "      <td>0.0</td>\n",
       "      <td>0.0</td>\n",
       "      <td>0.0</td>\n",
       "      <td>0.0</td>\n",
       "      <td>19.959</td>\n",
       "      <td>0.97304</td>\n",
       "      <td>0.0</td>\n",
       "      <td>0.0</td>\n",
       "      <td>0.016</td>\n",
       "      <td>0.0</td>\n",
       "      <td>0.0</td>\n",
       "      <td>9.56</td>\n",
       "      <td>1811</td>\n",
       "      <td>0.0</td>\n",
       "      <td>0</td>\n",
       "      <td>1811</td>\n",
       "      <td>0.0</td>\n",
       "    </tr>\n",
       "    <tr>\n",
       "      <th>2016-09-15</th>\n",
       "      <td>2016-09-15</td>\n",
       "      <td>5599</td>\n",
       "      <td>15/9-F-12</td>\n",
       "      <td>0.0</td>\n",
       "      <td>0.0</td>\n",
       "      <td>0.0</td>\n",
       "      <td>0.0</td>\n",
       "      <td>19.959</td>\n",
       "      <td>0.97778</td>\n",
       "      <td>0.0</td>\n",
       "      <td>0.0</td>\n",
       "      <td>0.024</td>\n",
       "      <td>0.0</td>\n",
       "      <td>0.0</td>\n",
       "      <td>24.00</td>\n",
       "      <td>4469</td>\n",
       "      <td>0.0</td>\n",
       "      <td>0</td>\n",
       "      <td>4469</td>\n",
       "      <td>0.0</td>\n",
       "    </tr>\n",
       "    <tr>\n",
       "      <th>2016-09-16</th>\n",
       "      <td>2016-09-16</td>\n",
       "      <td>5599</td>\n",
       "      <td>15/9-F-12</td>\n",
       "      <td>0.0</td>\n",
       "      <td>0.0</td>\n",
       "      <td>0.0</td>\n",
       "      <td>0.0</td>\n",
       "      <td>19.959</td>\n",
       "      <td>0.96101</td>\n",
       "      <td>0.0</td>\n",
       "      <td>0.0</td>\n",
       "      <td>0.025</td>\n",
       "      <td>0.0</td>\n",
       "      <td>0.0</td>\n",
       "      <td>24.00</td>\n",
       "      <td>4475</td>\n",
       "      <td>0.0</td>\n",
       "      <td>0</td>\n",
       "      <td>4475</td>\n",
       "      <td>0.0</td>\n",
       "    </tr>\n",
       "    <tr>\n",
       "      <th>2016-09-17</th>\n",
       "      <td>2016-09-17</td>\n",
       "      <td>5599</td>\n",
       "      <td>15/9-F-12</td>\n",
       "      <td>0.0</td>\n",
       "      <td>0.0</td>\n",
       "      <td>0.0</td>\n",
       "      <td>0.0</td>\n",
       "      <td>19.959</td>\n",
       "      <td>0.90339</td>\n",
       "      <td>0.0</td>\n",
       "      <td>0.0</td>\n",
       "      <td>0.026</td>\n",
       "      <td>0.0</td>\n",
       "      <td>0.0</td>\n",
       "      <td>7.61</td>\n",
       "      <td>1419</td>\n",
       "      <td>0.0</td>\n",
       "      <td>0</td>\n",
       "      <td>1419</td>\n",
       "      <td>0.0</td>\n",
       "    </tr>\n",
       "  </tbody>\n",
       "</table>\n",
       "<p>3305 rows × 20 columns</p>\n",
       "</div>"
      ],
      "text/plain": [
       "              DATEPRD  NPD_WELL_BORE_CODE NPD_WELL_BORE_NAME  ON_STREAM_HRS  \\\n",
       "DATEPRD                                                                       \n",
       "2007-09-01 2007-09-01                5599          15/9-F-12            0.0   \n",
       "2007-09-02 2007-09-02                5599          15/9-F-12            0.0   \n",
       "2007-09-03 2007-09-03                5599          15/9-F-12            0.0   \n",
       "2007-09-04 2007-09-04                5599          15/9-F-12            0.0   \n",
       "2007-09-05 2007-09-05                5599          15/9-F-12            0.0   \n",
       "...               ...                 ...                ...            ...   \n",
       "2016-09-13 2016-09-13                5599          15/9-F-12            0.0   \n",
       "2016-09-14 2016-09-14                5599          15/9-F-12            0.0   \n",
       "2016-09-15 2016-09-15                5599          15/9-F-12            0.0   \n",
       "2016-09-16 2016-09-16                5599          15/9-F-12            0.0   \n",
       "2016-09-17 2016-09-17                5599          15/9-F-12            0.0   \n",
       "\n",
       "            AVG_DOWNHOLE_PRESSURE  AVG_DOWNHOLE_TEMPERATURE  AVG_DP_TUBING  \\\n",
       "DATEPRD                                                                      \n",
       "2007-09-01                    0.0                       0.0            0.0   \n",
       "2007-09-02                    0.0                       0.0            0.0   \n",
       "2007-09-03                    0.0                       0.0            0.0   \n",
       "2007-09-04                    0.0                       0.0            0.0   \n",
       "2007-09-05                    0.0                       0.0            0.0   \n",
       "...                           ...                       ...            ...   \n",
       "2016-09-13                    0.0                       0.0            0.0   \n",
       "2016-09-14                    0.0                       0.0            0.0   \n",
       "2016-09-15                    0.0                       0.0            0.0   \n",
       "2016-09-16                    0.0                       0.0            0.0   \n",
       "2016-09-17                    0.0                       0.0            0.0   \n",
       "\n",
       "            AVG_ANNULUS_PRESS  AVG_CHOKE_SIZE_P  AVG_WHP_P  AVG_WHT_P  \\\n",
       "DATEPRD                                                                 \n",
       "2007-09-01              0.000           0.00000        0.0        0.0   \n",
       "2007-09-02              0.000           0.00000        0.0        0.0   \n",
       "2007-09-03              0.000           0.00000        0.0        0.0   \n",
       "2007-09-04              0.000           0.00000        0.0        0.0   \n",
       "2007-09-05              0.000           0.00000        0.0        0.0   \n",
       "...                       ...               ...        ...        ...   \n",
       "2016-09-13             19.959           0.99291        0.0        0.0   \n",
       "2016-09-14             19.959           0.97304        0.0        0.0   \n",
       "2016-09-15             19.959           0.97778        0.0        0.0   \n",
       "2016-09-16             19.959           0.96101        0.0        0.0   \n",
       "2016-09-17             19.959           0.90339        0.0        0.0   \n",
       "\n",
       "            DP_CHOKE_SIZE  BORE_GAS_VOL  BORE_WAT_VOL  Injection Hours F-4  \\\n",
       "DATEPRD                                                                      \n",
       "2007-09-01          0.000           0.0           0.0                 0.00   \n",
       "2007-09-02          0.000           0.0           0.0                 0.00   \n",
       "2007-09-03          0.000           0.0           0.0                 0.00   \n",
       "2007-09-04          0.000           0.0           0.0                 0.00   \n",
       "2007-09-05          0.000           0.0           0.0                 0.00   \n",
       "...                   ...           ...           ...                  ...   \n",
       "2016-09-13          0.013           0.0           0.0                 0.00   \n",
       "2016-09-14          0.016           0.0           0.0                 9.56   \n",
       "2016-09-15          0.024           0.0           0.0                24.00   \n",
       "2016-09-16          0.025           0.0           0.0                24.00   \n",
       "2016-09-17          0.026           0.0           0.0                 7.61   \n",
       "\n",
       "            Water Injection F-4  Injection Hours F-5  Water Injection F-5  \\\n",
       "DATEPRD                                                                     \n",
       "2007-09-01                    0                  0.0                    0   \n",
       "2007-09-02                    0                  0.0                    0   \n",
       "2007-09-03                    0                  0.0                    0   \n",
       "2007-09-04                    0                  0.0                    0   \n",
       "2007-09-05                    0                  0.0                    0   \n",
       "...                         ...                  ...                  ...   \n",
       "2016-09-13                    0                  0.0                    0   \n",
       "2016-09-14                 1811                  0.0                    0   \n",
       "2016-09-15                 4469                  0.0                    0   \n",
       "2016-09-16                 4475                  0.0                    0   \n",
       "2016-09-17                 1419                  0.0                    0   \n",
       "\n",
       "            Total Water Injection  BORE_OIL_VOL  \n",
       "DATEPRD                                          \n",
       "2007-09-01                      0           0.0  \n",
       "2007-09-02                      0           0.0  \n",
       "2007-09-03                      0           0.0  \n",
       "2007-09-04                      0           0.0  \n",
       "2007-09-05                      0           0.0  \n",
       "...                           ...           ...  \n",
       "2016-09-13                      0           0.0  \n",
       "2016-09-14                   1811           0.0  \n",
       "2016-09-15                   4469           0.0  \n",
       "2016-09-16                   4475           0.0  \n",
       "2016-09-17                   1419           0.0  \n",
       "\n",
       "[3305 rows x 20 columns]"
      ]
     },
     "execution_count": 213,
     "metadata": {},
     "output_type": "execute_result"
    }
   ],
   "source": [
    "df"
   ]
  },
  {
   "cell_type": "code",
   "execution_count": 216,
   "id": "6ce1f74e",
   "metadata": {},
   "outputs": [
    {
     "data": {
      "text/plain": [
       "<AxesSubplot:xlabel='DATEPRD'>"
      ]
     },
     "execution_count": 216,
     "metadata": {},
     "output_type": "execute_result"
    },
    {
     "data": {
      "image/png": "[encoded data removed]",
      "text/plain": [
       "<Figure size 864x288 with 1 Axes>"
      ]
     },
     "metadata": {
      "needs_background": "light"
     },
     "output_type": "display_data"
    }
   ],
   "source": [
    "#now the DATEPRD is set at the plot\n",
    "df['BORE_OIL_VOL'].plot(figsize = (12,4))"
   ]
  },
  {
   "cell_type": "code",
   "execution_count": 217,
   "id": "787ee259",
   "metadata": {},
   "outputs": [
    {
     "data": {
      "text/plain": [
       "<AxesSubplot:xlabel='DATEPRD'>"
      ]
     },
     "execution_count": 217,
     "metadata": {},
     "output_type": "execute_result"
    },
    {
     "data": {
      "image/png": "[encoded data removed]",
      "text/plain": [
       "<Figure size 864x288 with 1 Axes>"
      ]
     },
     "metadata": {
      "needs_background": "light"
     },
     "output_type": "display_data"
    }
   ],
   "source": [
    "df['BORE_WAT_VOL'].plot(figsize = (12,4))"
   ]
  }
 ],
 "metadata": {
  "kernelspec": {
   "display_name": "Python 3 (ipykernel)",
   "language": "python",
   "name": "python3"
  },
  "language_info": {
   "codemirror_mode": {
    "name": "ipython",
    "version": 3
   },
   "file_extension": ".py",
   "mimetype": "text/x-python",
   "name": "python",
   "nbconvert_exporter": "python",
   "pygments_lexer": "ipython3",
   "version": "3.9.12"
  }
 },
 "nbformat": 4,
 "nbformat_minor": 5
}
